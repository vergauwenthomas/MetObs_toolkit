{
 "cells": [
  {
   "cell_type": "code",
   "execution_count": 1,
   "id": "9a0eed07-2c62-43db-90d8-c0b9225c4c63",
   "metadata": {},
   "outputs": [
    {
     "name": "stdout",
     "output_type": "stream",
     "text": [
      "Requirement already satisfied: metobs-toolkit==0.0.2a3 in /home/thoverga/anaconda3/envs/metobs_dev_env/lib/python3.9/site-packages (0.0.2a3)\n",
      "Requirement already satisfied: numpy<2.0.0,>=1.17.3 in /home/thoverga/anaconda3/envs/metobs_dev_env/lib/python3.9/site-packages (from metobs-toolkit==0.0.2a3) (1.24.3)\n",
      "Requirement already satisfied: matplotlib<4.0.0,>=3.0.0 in /home/thoverga/anaconda3/envs/metobs_dev_env/lib/python3.9/site-packages (from metobs-toolkit==0.0.2a3) (3.7.1)\n",
      "Requirement already satisfied: pyproj<3.5,>=3.4 in /home/thoverga/anaconda3/envs/metobs_dev_env/lib/python3.9/site-packages (from metobs-toolkit==0.0.2a3) (3.4.1)\n",
      "Requirement already satisfied: earthengine-api<0.2.0,>=0.1.340 in /home/thoverga/anaconda3/envs/metobs_dev_env/lib/python3.9/site-packages (from metobs-toolkit==0.0.2a3) (0.1.353)\n",
      "Requirement already satisfied: PyQt5<6.0.0,>=5.15.0 in /home/thoverga/anaconda3/envs/metobs_dev_env/lib/python3.9/site-packages (from metobs-toolkit==0.0.2a3) (5.15.9)\n",
      "Requirement already satisfied: pandas<2.0.0,>=1.3.0 in /home/thoverga/anaconda3/envs/metobs_dev_env/lib/python3.9/site-packages (from metobs-toolkit==0.0.2a3) (1.5.3)\n",
      "Requirement already satisfied: mapclassify<3.0.0,>=2.4.0 in /home/thoverga/anaconda3/envs/metobs_dev_env/lib/python3.9/site-packages (from metobs-toolkit==0.0.2a3) (2.5.0)\n",
      "Requirement already satisfied: geopandas<0.10.0,>=0.9.0 in /home/thoverga/anaconda3/envs/metobs_dev_env/lib/python3.9/site-packages (from metobs-toolkit==0.0.2a3) (0.9.0)\n",
      "Requirement already satisfied: mysql-connector-python<9.0.0,>=8.0.6 in /home/thoverga/anaconda3/envs/metobs_dev_env/lib/python3.9/site-packages (from metobs-toolkit==0.0.2a3) (8.0.33)\n",
      "Requirement already satisfied: google-auth-httplib2>=0.0.3 in /home/thoverga/anaconda3/envs/metobs_dev_env/lib/python3.9/site-packages (from earthengine-api<0.2.0,>=0.1.340->metobs-toolkit==0.0.2a3) (0.1.0)\n",
      "Requirement already satisfied: google-api-python-client>=1.12.1 in /home/thoverga/anaconda3/envs/metobs_dev_env/lib/python3.9/site-packages (from earthengine-api<0.2.0,>=0.1.340->metobs-toolkit==0.0.2a3) (2.86.0)\n",
      "Requirement already satisfied: httplib2<1dev,>=0.9.2 in /home/thoverga/anaconda3/envs/metobs_dev_env/lib/python3.9/site-packages (from earthengine-api<0.2.0,>=0.1.340->metobs-toolkit==0.0.2a3) (0.22.0)\n",
      "Requirement already satisfied: google-cloud-storage in /home/thoverga/anaconda3/envs/metobs_dev_env/lib/python3.9/site-packages (from earthengine-api<0.2.0,>=0.1.340->metobs-toolkit==0.0.2a3) (2.9.0)\n",
      "Requirement already satisfied: requests in /home/thoverga/anaconda3/envs/metobs_dev_env/lib/python3.9/site-packages (from earthengine-api<0.2.0,>=0.1.340->metobs-toolkit==0.0.2a3) (2.30.0)\n",
      "Requirement already satisfied: google-auth>=1.4.1 in /home/thoverga/anaconda3/envs/metobs_dev_env/lib/python3.9/site-packages (from earthengine-api<0.2.0,>=0.1.340->metobs-toolkit==0.0.2a3) (2.18.0)\n",
      "Requirement already satisfied: shapely>=1.6 in /home/thoverga/anaconda3/envs/metobs_dev_env/lib/python3.9/site-packages (from geopandas<0.10.0,>=0.9.0->metobs-toolkit==0.0.2a3) (2.0.1)\n",
      "Requirement already satisfied: fiona>=1.8 in /home/thoverga/anaconda3/envs/metobs_dev_env/lib/python3.9/site-packages (from geopandas<0.10.0,>=0.9.0->metobs-toolkit==0.0.2a3) (1.9.3)\n",
      "Requirement already satisfied: networkx in /home/thoverga/anaconda3/envs/metobs_dev_env/lib/python3.9/site-packages (from mapclassify<3.0.0,>=2.4.0->metobs-toolkit==0.0.2a3) (3.1)\n",
      "Requirement already satisfied: scikit-learn in /home/thoverga/anaconda3/envs/metobs_dev_env/lib/python3.9/site-packages (from mapclassify<3.0.0,>=2.4.0->metobs-toolkit==0.0.2a3) (1.2.2)\n",
      "Requirement already satisfied: scipy>=1.0 in /home/thoverga/anaconda3/envs/metobs_dev_env/lib/python3.9/site-packages (from mapclassify<3.0.0,>=2.4.0->metobs-toolkit==0.0.2a3) (1.9.3)\n",
      "Requirement already satisfied: packaging>=20.0 in /home/thoverga/anaconda3/envs/metobs_dev_env/lib/python3.9/site-packages (from matplotlib<4.0.0,>=3.0.0->metobs-toolkit==0.0.2a3) (23.1)\n",
      "Requirement already satisfied: pyparsing>=2.3.1 in /home/thoverga/anaconda3/envs/metobs_dev_env/lib/python3.9/site-packages (from matplotlib<4.0.0,>=3.0.0->metobs-toolkit==0.0.2a3) (3.0.9)\n",
      "Requirement already satisfied: pillow>=6.2.0 in /home/thoverga/anaconda3/envs/metobs_dev_env/lib/python3.9/site-packages (from matplotlib<4.0.0,>=3.0.0->metobs-toolkit==0.0.2a3) (9.5.0)\n",
      "Requirement already satisfied: python-dateutil>=2.7 in /home/thoverga/anaconda3/envs/metobs_dev_env/lib/python3.9/site-packages (from matplotlib<4.0.0,>=3.0.0->metobs-toolkit==0.0.2a3) (2.8.2)\n",
      "Requirement already satisfied: kiwisolver>=1.0.1 in /home/thoverga/anaconda3/envs/metobs_dev_env/lib/python3.9/site-packages (from matplotlib<4.0.0,>=3.0.0->metobs-toolkit==0.0.2a3) (1.4.4)\n",
      "Requirement already satisfied: fonttools>=4.22.0 in /home/thoverga/anaconda3/envs/metobs_dev_env/lib/python3.9/site-packages (from matplotlib<4.0.0,>=3.0.0->metobs-toolkit==0.0.2a3) (4.39.4)\n",
      "Requirement already satisfied: contourpy>=1.0.1 in /home/thoverga/anaconda3/envs/metobs_dev_env/lib/python3.9/site-packages (from matplotlib<4.0.0,>=3.0.0->metobs-toolkit==0.0.2a3) (1.0.7)\n",
      "Requirement already satisfied: importlib-resources>=3.2.0 in /home/thoverga/anaconda3/envs/metobs_dev_env/lib/python3.9/site-packages (from matplotlib<4.0.0,>=3.0.0->metobs-toolkit==0.0.2a3) (5.12.0)\n",
      "Requirement already satisfied: cycler>=0.10 in /home/thoverga/anaconda3/envs/metobs_dev_env/lib/python3.9/site-packages (from matplotlib<4.0.0,>=3.0.0->metobs-toolkit==0.0.2a3) (0.11.0)\n",
      "Requirement already satisfied: protobuf<=3.20.3,>=3.11.0 in /home/thoverga/anaconda3/envs/metobs_dev_env/lib/python3.9/site-packages (from mysql-connector-python<9.0.0,>=8.0.6->metobs-toolkit==0.0.2a3) (3.20.3)\n",
      "Requirement already satisfied: pytz>=2020.1 in /home/thoverga/anaconda3/envs/metobs_dev_env/lib/python3.9/site-packages (from pandas<2.0.0,>=1.3.0->metobs-toolkit==0.0.2a3) (2023.3)\n",
      "Requirement already satisfied: certifi in /home/thoverga/anaconda3/envs/metobs_dev_env/lib/python3.9/site-packages (from pyproj<3.5,>=3.4->metobs-toolkit==0.0.2a3) (2023.5.7)\n",
      "Requirement already satisfied: PyQt5-sip<13,>=12.11 in /home/thoverga/anaconda3/envs/metobs_dev_env/lib/python3.9/site-packages (from PyQt5<6.0.0,>=5.15.0->metobs-toolkit==0.0.2a3) (12.12.1)\n",
      "Requirement already satisfied: PyQt5-Qt5>=5.15.2 in /home/thoverga/anaconda3/envs/metobs_dev_env/lib/python3.9/site-packages (from PyQt5<6.0.0,>=5.15.0->metobs-toolkit==0.0.2a3) (5.15.2)\n",
      "Requirement already satisfied: importlib-metadata in /home/thoverga/anaconda3/envs/metobs_dev_env/lib/python3.9/site-packages (from fiona>=1.8->geopandas<0.10.0,>=0.9.0->metobs-toolkit==0.0.2a3) (6.6.0)\n",
      "Requirement already satisfied: click~=8.0 in /home/thoverga/anaconda3/envs/metobs_dev_env/lib/python3.9/site-packages (from fiona>=1.8->geopandas<0.10.0,>=0.9.0->metobs-toolkit==0.0.2a3) (8.1.3)\n",
      "Requirement already satisfied: cligj>=0.5 in /home/thoverga/anaconda3/envs/metobs_dev_env/lib/python3.9/site-packages (from fiona>=1.8->geopandas<0.10.0,>=0.9.0->metobs-toolkit==0.0.2a3) (0.7.2)\n",
      "Requirement already satisfied: attrs>=19.2.0 in /home/thoverga/anaconda3/envs/metobs_dev_env/lib/python3.9/site-packages (from fiona>=1.8->geopandas<0.10.0,>=0.9.0->metobs-toolkit==0.0.2a3) (23.1.0)\n",
      "Requirement already satisfied: munch>=2.3.2 in /home/thoverga/anaconda3/envs/metobs_dev_env/lib/python3.9/site-packages (from fiona>=1.8->geopandas<0.10.0,>=0.9.0->metobs-toolkit==0.0.2a3) (2.5.0)\n",
      "Requirement already satisfied: click-plugins>=1.0 in /home/thoverga/anaconda3/envs/metobs_dev_env/lib/python3.9/site-packages (from fiona>=1.8->geopandas<0.10.0,>=0.9.0->metobs-toolkit==0.0.2a3) (1.1.1)\n",
      "Requirement already satisfied: uritemplate<5,>=3.0.1 in /home/thoverga/anaconda3/envs/metobs_dev_env/lib/python3.9/site-packages (from google-api-python-client>=1.12.1->earthengine-api<0.2.0,>=0.1.340->metobs-toolkit==0.0.2a3) (4.1.1)\n",
      "Requirement already satisfied: google-api-core!=2.0.*,!=2.1.*,!=2.2.*,!=2.3.0,<3.0.0dev,>=1.31.5 in /home/thoverga/anaconda3/envs/metobs_dev_env/lib/python3.9/site-packages (from google-api-python-client>=1.12.1->earthengine-api<0.2.0,>=0.1.340->metobs-toolkit==0.0.2a3) (2.11.0)\n",
      "Requirement already satisfied: cachetools<6.0,>=2.0.0 in /home/thoverga/anaconda3/envs/metobs_dev_env/lib/python3.9/site-packages (from google-auth>=1.4.1->earthengine-api<0.2.0,>=0.1.340->metobs-toolkit==0.0.2a3) (5.3.0)\n",
      "Requirement already satisfied: urllib3<2.0 in /home/thoverga/anaconda3/envs/metobs_dev_env/lib/python3.9/site-packages (from google-auth>=1.4.1->earthengine-api<0.2.0,>=0.1.340->metobs-toolkit==0.0.2a3) (1.26.15)\n",
      "Requirement already satisfied: pyasn1-modules>=0.2.1 in /home/thoverga/anaconda3/envs/metobs_dev_env/lib/python3.9/site-packages (from google-auth>=1.4.1->earthengine-api<0.2.0,>=0.1.340->metobs-toolkit==0.0.2a3) (0.3.0)\n",
      "Requirement already satisfied: six>=1.9.0 in /home/thoverga/anaconda3/envs/metobs_dev_env/lib/python3.9/site-packages (from google-auth>=1.4.1->earthengine-api<0.2.0,>=0.1.340->metobs-toolkit==0.0.2a3) (1.16.0)\n",
      "Requirement already satisfied: rsa<5,>=3.1.4 in /home/thoverga/anaconda3/envs/metobs_dev_env/lib/python3.9/site-packages (from google-auth>=1.4.1->earthengine-api<0.2.0,>=0.1.340->metobs-toolkit==0.0.2a3) (4.9)\n",
      "Requirement already satisfied: zipp>=3.1.0 in /home/thoverga/anaconda3/envs/metobs_dev_env/lib/python3.9/site-packages (from importlib-resources>=3.2.0->matplotlib<4.0.0,>=3.0.0->metobs-toolkit==0.0.2a3) (3.15.0)\n",
      "Requirement already satisfied: google-resumable-media>=2.3.2 in /home/thoverga/anaconda3/envs/metobs_dev_env/lib/python3.9/site-packages (from google-cloud-storage->earthengine-api<0.2.0,>=0.1.340->metobs-toolkit==0.0.2a3) (2.5.0)\n",
      "Requirement already satisfied: google-cloud-core<3.0dev,>=2.3.0 in /home/thoverga/anaconda3/envs/metobs_dev_env/lib/python3.9/site-packages (from google-cloud-storage->earthengine-api<0.2.0,>=0.1.340->metobs-toolkit==0.0.2a3) (2.3.2)\n",
      "Requirement already satisfied: charset-normalizer<4,>=2 in /home/thoverga/anaconda3/envs/metobs_dev_env/lib/python3.9/site-packages (from requests->earthengine-api<0.2.0,>=0.1.340->metobs-toolkit==0.0.2a3) (3.1.0)\n",
      "Requirement already satisfied: idna<4,>=2.5 in /home/thoverga/anaconda3/envs/metobs_dev_env/lib/python3.9/site-packages (from requests->earthengine-api<0.2.0,>=0.1.340->metobs-toolkit==0.0.2a3) (3.4)\n",
      "Requirement already satisfied: threadpoolctl>=2.0.0 in /home/thoverga/anaconda3/envs/metobs_dev_env/lib/python3.9/site-packages (from scikit-learn->mapclassify<3.0.0,>=2.4.0->metobs-toolkit==0.0.2a3) (3.1.0)\n",
      "Requirement already satisfied: joblib>=1.1.1 in /home/thoverga/anaconda3/envs/metobs_dev_env/lib/python3.9/site-packages (from scikit-learn->mapclassify<3.0.0,>=2.4.0->metobs-toolkit==0.0.2a3) (1.2.0)\n",
      "Requirement already satisfied: googleapis-common-protos<2.0dev,>=1.56.2 in /home/thoverga/anaconda3/envs/metobs_dev_env/lib/python3.9/site-packages (from google-api-core!=2.0.*,!=2.1.*,!=2.2.*,!=2.3.0,<3.0.0dev,>=1.31.5->google-api-python-client>=1.12.1->earthengine-api<0.2.0,>=0.1.340->metobs-toolkit==0.0.2a3) (1.59.0)\n",
      "Requirement already satisfied: google-crc32c<2.0dev,>=1.0 in /home/thoverga/anaconda3/envs/metobs_dev_env/lib/python3.9/site-packages (from google-resumable-media>=2.3.2->google-cloud-storage->earthengine-api<0.2.0,>=0.1.340->metobs-toolkit==0.0.2a3) (1.5.0)\n",
      "Requirement already satisfied: pyasn1<0.6.0,>=0.4.6 in /home/thoverga/anaconda3/envs/metobs_dev_env/lib/python3.9/site-packages (from pyasn1-modules>=0.2.1->google-auth>=1.4.1->earthengine-api<0.2.0,>=0.1.340->metobs-toolkit==0.0.2a3) (0.5.0)\n"
     ]
    }
   ],
   "source": [
    "!pip3 install metobs-toolkit==0.0.2a3"
   ]
  },
  {
   "cell_type": "code",
   "execution_count": 2,
   "id": "2ec86cc5-5a8f-4309-b162-3fea0a8148b0",
   "metadata": {},
   "outputs": [],
   "source": [
    "import metobs_toolkit"
   ]
  },
  {
   "cell_type": "code",
   "execution_count": 3,
   "id": "f71ec53a-58bf-4706-985d-1e688838ac12",
   "metadata": {},
   "outputs": [
    {
     "name": "stdout",
     "output_type": "stream",
     "text": [
      " persistance__time_window_to_check : 1\n",
      "spinbox\n",
      " persistance__min_num_obs : 5\n",
      "spinbox\n",
      " repetitions__max_valid_repetitions : 5\n",
      "spinbox\n",
      " gross_value__min_value : -15.0\n",
      "doublspinbox\n",
      " gross_value__max_value : 39.0\n",
      "doublspinbox\n",
      " window_variation__max_increase_per_second : 8.0\n",
      "doublspinbox\n",
      " window_variation__max_decrease_per_second : 10.0\n",
      "doublspinbox\n",
      " window_variation__time_window_to_check : 1\n",
      "spinbox\n",
      " window_variation__min_window_members : 3\n",
      "spinbox\n",
      " step__max_increase_per_second : 8.0\n",
      "doublspinbox\n",
      " step__max_decrease_per_second : -10.0\n",
      "doublspinbox\n",
      "einde succes\n"
     ]
    },
    {
     "name": "stderr",
     "output_type": "stream",
     "text": [
      "libGL error: MESA-LOADER: failed to open iris: /usr/lib/dri/iris_dri.so: cannot open shared object file: No such file or directory (search paths /usr/lib/x86_64-linux-gnu/dri:\\$${ORIGIN}/dri:/usr/lib/dri, suffix _dri)\n",
      "libGL error: failed to load driver: iris\n",
      "libGL error: MESA-LOADER: failed to open iris: /usr/lib/dri/iris_dri.so: cannot open shared object file: No such file or directory (search paths /usr/lib/x86_64-linux-gnu/dri:\\$${ORIGIN}/dri:/usr/lib/dri, suffix _dri)\n",
      "libGL error: failed to load driver: iris\n",
      "libGL error: MESA-LOADER: failed to open swrast: /usr/lib/dri/swrast_dri.so: cannot open shared object file: No such file or directory (search paths /usr/lib/x86_64-linux-gnu/dri:\\$${ORIGIN}/dri:/usr/lib/dri, suffix _dri)\n",
      "libGL error: failed to load driver: swrast\n"
     ]
    },
    {
     "ename": "SystemExit",
     "evalue": "0",
     "output_type": "error",
     "traceback": [
      "An exception has occurred, use %tb to see the full traceback.\n",
      "\u001b[0;31mSystemExit\u001b[0m\u001b[0;31m:\u001b[0m 0\n"
     ]
    },
    {
     "name": "stderr",
     "output_type": "stream",
     "text": [
      "/home/thoverga/anaconda3/envs/metobs_dev_env/lib/python3.9/site-packages/IPython/core/interactiveshell.py:3465: UserWarning: To exit: use 'exit', 'quit', or Ctrl-D.\n",
      "  warn(\"To exit: use 'exit', 'quit', or Ctrl-D.\", stacklevel=1)\n"
     ]
    }
   ],
   "source": [
    "metobs_toolkit.launch_gui()"
   ]
  },
  {
   "cell_type": "code",
   "execution_count": null,
   "id": "32de2f8c-22cc-44cf-8f6e-53757f0db0f1",
   "metadata": {},
   "outputs": [],
   "source": []
  }
 ],
 "metadata": {
  "kernelspec": {
   "display_name": "Python 3 (ipykernel)",
   "language": "python",
   "name": "python3"
  },
  "language_info": {
   "codemirror_mode": {
    "name": "ipython",
    "version": 3
   },
   "file_extension": ".py",
   "mimetype": "text/x-python",
   "name": "python",
   "nbconvert_exporter": "python",
   "pygments_lexer": "ipython3",
   "version": "3.9.16"
  }
 },
 "nbformat": 4,
 "nbformat_minor": 5
}
