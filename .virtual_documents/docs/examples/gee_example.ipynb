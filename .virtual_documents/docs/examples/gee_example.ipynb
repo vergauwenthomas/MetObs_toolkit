





import metobs_toolkit

your_dataset = metobs_toolkit.Dataset()
your_dataset.update_settings(
    input_data_file=metobs_toolkit.demo_datafile, # path to the data file
    input_metadata_file=metobs_toolkit.demo_metadatafile,
    template_file=metobs_toolkit.demo_template,
)

your_dataset.import_data_from_file()





your_dataset.metadf.head()





lcz_values = your_dataset.get_lcz()
# The LCZs for all your stations are extracted
print(lcz_values)








print(your_dataset.metadf['lcz'].head())





your_dataset.make_geo_plot(variable="lcz")





altitudes = your_dataset.get_altitude() #The altitudes are in meters above sea level.
print(altitudes)





aggregated_landcover = your_dataset.get_landcover(
                                        buffers=[100, 250], # a list of buffer radii in meters
                                        aggregate=True #if True, aggregate landcover classes to the water, pervious and impervious.
                                        )

print(aggregated_landcover)





#Get the ERA5 data for a single station (to reduce data transfer)
your_station = your_dataset.get_station('vlinder02')

#Extract time series at the location of the station
ERA5_data = your_station.get_modeldata(modelname='ERA5_hourly',
                                      obstype='temp',
                                      startdt=None, #if None, the start of the observations is used
                                      enddt=None, #if None, the end of the observations is used
                                      )

#Get info
print(ERA5_data)
ERA5_data.make_plot(obstype_model='temp',
                    dataset=your_station, #add the observations to the same plot
                    obstype_dataset='temp')






#Illustration
#Extract time series at the locations all the station
ERA5_data = your_dataset.get_modeldata(modelname='ERA5_hourly',
                                      obstype='temp',
                                      startdt=None, #if None, the start of the observations is used
                                      enddt=None, #if None, the end of the observations is used
                                      )

#Because the data amount is too large, it will be written to a file on your Google Drive! The returned Modeldata is empty.
print(ERA5_data)



#See the output to find the modeldata in your Google Drive, and download the file.
#Update the empty Modeldata with the data from the file

#ERA5_data.set_model_from_csv(csvpath='/home/..../era5_data.csv') #The path to the downloaded file
#print(ERA5_data)





spatial_map = your_dataset.make_gee_plot(gee_map='worldcover')
spatial_map
