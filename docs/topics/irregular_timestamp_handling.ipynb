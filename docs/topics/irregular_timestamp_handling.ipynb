{
 "cells": [
  {
   "cell_type": "markdown",
   "id": "0",
   "metadata": {},
   "source": [
    "# Working with irregular timestamps\n",
    "\n",
    "\n",
    "Some datasets have irregular time frequencies of the observations. These datasets\n",
    "come with some extra challenges. Here is some information on how to deal with them.\n",
    "\n",
    "A common problem that can arise is that most observations are **not present** and\n",
    "that **a lot of missing observations** (and gaps) are introduced. This is because\n",
    "the toolkit assumes that each station has observations at a constant frequency. So the toolkit expects\n",
    "a perfectly regular timestamp series. The toolkit will hence ignore observations\n",
    "that are not on the frequency, so observations get lost. Also, it looks for observations\n",
    "on perfectly regular time intervals, so when a timestamp is not present, it is assumed to be missing.\n",
    "\n",
    "\n",
    "To avoid these problems you can **synchronize** your observations. Synchronizing will\n",
    "convert your irregular dataset **to a regular dataset** and an **easy origin** is chosen if possible.\n",
    "(The origin is the first timestamp of your dataset.) Converting your dataset to a regular dataset is performed\n",
    "by shifting the timestamp of an observation. For example, if a frequency of 5 minutes is assumed and the observation\n",
    "has a timestamp at 54 minutes and 47 seconds, the timestamp is shifted to 55 minutes. A certain\n",
    "maximal threshold needs to be set to avoid observations being shifted too much. This threshold is\n",
    "called the tolerance and it indicates what the **maximal time-translation** error can be for one\n",
    "observation timestamp.\n",
    "\n",
    "\n",
    "Synchronizing your observations can be performed with the :py:meth:`sync_observations()<metobs_toolkit.dataset.Dataset.sync_observations>`\n",
    "method. As an argument of this function, you must provide a tolerance.\n"
   ]
  },
  {
   "cell_type": "markdown",
   "id": "1",
   "metadata": {},
   "source": [
    "## Example\n",
    "\n",
    "In this example, we use a small dataset with three stations that have irregular and unsynchronized timestamps. The dataset can be found [here](https://github.com/vergauwenthomas/MetObs_toolkit/blob/master/tests/test_data/wide_test_data.csv) and the template file can be found [here](https://github.com/vergauwenthomas/MetObs_toolkit/blob/master/tests/test_data/wide_test_template.json).\n"
   ]
  },
  {
   "cell_type": "code",
   "execution_count": null,
   "id": "2",
   "metadata": {},
   "outputs": [],
   "source": [
    "import pandas as pd\n",
    "datafile = 'https://raw.githubusercontent.com/vergauwenthomas/MetObs_toolkit/master/tests/test_data/wide_test_data.csv'\n",
    "templatefile = 'https://raw.githubusercontent.com/vergauwenthomas/MetObs_toolkit/master/tests/test_data/wide_test_template.json'\n",
    "\n",
    "\n",
    "# As an example, here is how the data looks like\n",
    "df =pd.read_csv(datafile)\n",
    "df"
   ]
  },
  {
   "cell_type": "markdown",
   "id": "3",
   "metadata": {},
   "source": [
    "It can clearly be seen that timestamps are not synchronized over the stations and that the time resolution is not perfect for the stations. We can fix these timestamps in the toolkit when we import the datafile.\n",
    "\n",
    "When a datafile is imported, the toolkit will convert the time series to \"perfect\" timestamps (= equally spaced timestamps). To do this, the toolkit must estimate the **frequency** (=time resolution) for each station. In addition, the toolkit will estimate an **origin** and a **last timestamp** for each station. Once these three parameters (freq, origin, and last timestamp) are computed, a perfect time series is created. At last, the toolkit will map the records in the datafile to these perfect timestamps. \n",
    "\n",
    "When the timestamps in the datafile are irregular, we can fix them by specifying tolerances and simplifications for mapping to perfect timestamps when importing the data from file: ``Dataset.import_data_from_file()``"
   ]
  },
  {
   "cell_type": "code",
   "execution_count": null,
   "id": "4",
   "metadata": {},
   "outputs": [],
   "source": [
    "import metobs_toolkit\n",
    "\n",
    "dataset = metobs_toolkit.Dataset()\n",
    "dataset.update_file_paths(\n",
    "    input_data_file=datafile,\n",
    "    template_file=templatefile)\n",
    "\n",
    "\n",
    "dataset.import_data_from_file(\n",
    "        freq_estimation_method=\"highest\", #highest or median\n",
    "        freq_estimation_simplify_tolerance=\"2min\", #Try to simplify the frequency, the maximum simplification tolerance is 2 minutes\n",
    "        origin_simplify_tolerance=\"5min\", #try to simplify the origin, the maximum simplification tolerance is 5 minutes\n",
    "        timestamp_tolerance=\"4min\", #The maximum tolerance for mapping records to perfect timestamps is 5 minutes\n",
    "        templatefile_is_url=True)"
   ]
  },
  {
   "cell_type": "markdown",
   "id": "5",
   "metadata": {},
   "source": [
    "The freqency, origin and latest timestamp are stored per station in the `Dataset.metadf` in the `dataset_resolution`, `dt_start` and `dt_end` columns:"
   ]
  },
  {
   "cell_type": "code",
   "execution_count": null,
   "id": "6",
   "metadata": {},
   "outputs": [],
   "source": [
    "dataset.metadf"
   ]
  },
  {
   "cell_type": "markdown",
   "id": "7",
   "metadata": {},
   "source": [
    "Because of the wide-structured data, the toolkit assumes a 1-minute-frequency. What we can do is to coarsen the time resolution to hourly. \n",
    "\n",
    "**Note**: to avoid propagation of errors and tolerances, it is best to shift timestamps only once. For this example, this can be done by importing the data without simplifications or tolerances and coarsening it with tolerances.\n",
    "\n",
    "**Note**: In this wide datafile example, the toolkit interprets the timestamps without a value as gaps, and is the assumption of 1-minute-frequency the correct one. This issue is typically related to wide-structured-datasets."
   ]
  },
  {
   "cell_type": "code",
   "execution_count": null,
   "id": "8",
   "metadata": {},
   "outputs": [],
   "source": [
    "%config InlineBackend.print_figure_kwargs = {'bbox_inches':None} #else the legend is cutoff in ipython inline plots\n",
    "import datetime\n",
    "\n",
    "#import without simplifications and tolerances (to avoid error propagation/cumulation)\n",
    "dataset.import_data_from_file(\n",
    "        freq_estimation_method=\"highest\", #highest or median\n",
    "        freq_estimation_simplify_tolerance=\"0min\", #Try to simplify the frequency, the maximum simplification tolerance is 2 minutes\n",
    "        origin_simplify_tolerance=\"0min\", #try to simplify the origin, the maximum simplification tolerance is 5 minutes\n",
    "        timestamp_tolerance=\"0min\", #The maximum tolerance for mapping records to perfect timestamps is 5 minutes\n",
    "        templatefile_is_url=True)\n",
    "\n",
    "dataset.sync_records(\n",
    "        timestamp_shift_tolerance=\"6min\",\n",
    "         freq_shift_tolerance=\"0min\",\n",
    "         fixed_origin=None,\n",
    "         fixed_enddt=None,\n",
    "         fixed_freq='1h',\n",
    "         direction=\"nearest\",)\n",
    "\n",
    "dataset.make_plot()"
   ]
  },
  {
   "cell_type": "markdown",
   "id": "9",
   "metadata": {},
   "source": [
    "We can see that the timestamps in the Dataset are \"perfect\", and that the stations are synchronized. "
   ]
  },
  {
   "cell_type": "code",
   "execution_count": null,
   "id": "10",
   "metadata": {},
   "outputs": [],
   "source": [
    "dataset.get_full_status_df()['temp']['value'].unstack().transpose()\n"
   ]
  }
 ],
 "metadata": {
  "language_info": {
   "name": "python"
  }
 },
 "nbformat": 4,
 "nbformat_minor": 5
}
