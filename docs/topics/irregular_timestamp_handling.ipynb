{
 "cells": [
  {
   "cell_type": "markdown",
   "id": "c876067e-5621-4afd-a395-6bc18b5ddb16",
   "metadata": {},
   "source": [
    "# Working with irregular timestamps\n",
    "\n",
    "\n",
    "Some datasets have irregular time frequencies of the observations. These datasets\n",
    "come with some extra challenges. Here is some information on how to deal with them.\n",
    "\n",
    "A common problem that can arise is that most observations are **not present** and\n",
    "that **a lot of missing observations** (and gaps) are introduced. This is because\n",
    "the toolkit assumes that each station has observations at a constant frequency. So the toolkit expects\n",
    "a perfectly regular timestamp series. The toolkit will hence ignore observations\n",
    "that are not on the frequency, so observations get lost. Also, it looks for observations\n",
    "on perfectly regular time intervals, so when a timestamp is not present, it is assumed to be missing.\n",
    "\n",
    "\n",
    "To avoid these problems you can **synchronize** your observations. Synchronizing will\n",
    "convert your irregular dataset **to a regular dataset** and an **easy origin** is chosen if possible.\n",
    "(The origin is the first timestamp of your dataset.) Converting your dataset to a regular dataset is performed\n",
    "by shifting the timestamp of an observation. For example, if a frequency of 5 minutes is assumed and the observation\n",
    "has a timestamp at 54 minutes and 47 seconds, the timestamp is shifted to 55 minutes. A certain\n",
    "maximal threshold needs to be set to avoid observations being shifted too much. This threshold is\n",
    "called the tolerance and it indicates what the **maximal time-translation** error can be for one\n",
    "observation timestamp.\n",
    "\n",
    "\n",
    "Synchronizing your observations can be performed with the :py:meth:`sync_observations()<metobs_toolkit.dataset.Dataset.sync_observations>`\n",
    "method. As an argument of this function, you must provide a tolerance.\n"
   ]
  },
  {
   "cell_type": "markdown",
   "id": "826a2992-09e0-42fd-a183-c2d8564cc1c9",
   "metadata": {},
   "source": [
    "## Example\n",
    "\n",
    "In this example, we use a small dataset with three stations that have irregular and unsynchronized timestamps. The dataset can be found [here](https://github.com/vergauwenthomas/MetObs_toolkit/blob/master/tests/test_data/wide_test_data.csv) and the template file can be found [here](https://github.com/vergauwenthomas/MetObs_toolkit/blob/master/tests/test_data/wide_test_template.json).\n"
   ]
  },
  {
   "cell_type": "code",
   "execution_count": 1,
   "id": "90a7a199-bd41-49ab-bb37-fccaab404ced",
   "metadata": {
    "execution": {
     "iopub.execute_input": "2024-09-10T11:19:10.184273Z",
     "iopub.status.busy": "2024-09-10T11:19:10.183571Z",
     "iopub.status.idle": "2024-09-10T11:19:10.757244Z",
     "shell.execute_reply": "2024-09-10T11:19:10.756308Z"
    }
   },
   "outputs": [
    {
     "data": {
      "text/html": [
       "<div>\n",
       "<style scoped>\n",
       "    .dataframe tbody tr th:only-of-type {\n",
       "        vertical-align: middle;\n",
       "    }\n",
       "\n",
       "    .dataframe tbody tr th {\n",
       "        vertical-align: top;\n",
       "    }\n",
       "\n",
       "    .dataframe thead th {\n",
       "        text-align: right;\n",
       "    }\n",
       "</style>\n",
       "<table border=\"1\" class=\"dataframe\">\n",
       "  <thead>\n",
       "    <tr style=\"text-align: right;\">\n",
       "      <th></th>\n",
       "      <th>Tijd</th>\n",
       "      <th>MolenhofWeer - Temperatuur (°C)</th>\n",
       "      <th>QuattroCoronati - Temperatuur (°C)</th>\n",
       "      <th>Vlinder 02 Gent - Temperatuur (°C)</th>\n",
       "    </tr>\n",
       "  </thead>\n",
       "  <tbody>\n",
       "    <tr>\n",
       "      <th>0</th>\n",
       "      <td>2023-04-17 16:58:40</td>\n",
       "      <td>14.0</td>\n",
       "      <td>NaN</td>\n",
       "      <td>NaN</td>\n",
       "    </tr>\n",
       "    <tr>\n",
       "      <th>1</th>\n",
       "      <td>2023-04-17 16:59:01</td>\n",
       "      <td>NaN</td>\n",
       "      <td>14.6</td>\n",
       "      <td>NaN</td>\n",
       "    </tr>\n",
       "    <tr>\n",
       "      <th>2</th>\n",
       "      <td>2023-04-17 17:57:41</td>\n",
       "      <td>NaN</td>\n",
       "      <td>14.3</td>\n",
       "      <td>NaN</td>\n",
       "    </tr>\n",
       "    <tr>\n",
       "      <th>3</th>\n",
       "      <td>2023-04-17 17:57:54</td>\n",
       "      <td>15.3</td>\n",
       "      <td>NaN</td>\n",
       "      <td>NaN</td>\n",
       "    </tr>\n",
       "    <tr>\n",
       "      <th>4</th>\n",
       "      <td>2023-04-17 18:56:31</td>\n",
       "      <td>NaN</td>\n",
       "      <td>14.0</td>\n",
       "      <td>NaN</td>\n",
       "    </tr>\n",
       "    <tr>\n",
       "      <th>...</th>\n",
       "      <td>...</td>\n",
       "      <td>...</td>\n",
       "      <td>...</td>\n",
       "      <td>...</td>\n",
       "    </tr>\n",
       "    <tr>\n",
       "      <th>194</th>\n",
       "      <td>2023-04-21 15:57:04</td>\n",
       "      <td>NaN</td>\n",
       "      <td>17.5</td>\n",
       "      <td>NaN</td>\n",
       "    </tr>\n",
       "    <tr>\n",
       "      <th>195</th>\n",
       "      <td>2023-04-21 15:58:47</td>\n",
       "      <td>17.1</td>\n",
       "      <td>NaN</td>\n",
       "      <td>NaN</td>\n",
       "    </tr>\n",
       "    <tr>\n",
       "      <th>196</th>\n",
       "      <td>2023-04-21 16:06:00</td>\n",
       "      <td>NaN</td>\n",
       "      <td>NaN</td>\n",
       "      <td>16.5</td>\n",
       "    </tr>\n",
       "    <tr>\n",
       "      <th>197</th>\n",
       "      <td>2023-04-21 16:07:44</td>\n",
       "      <td>NaN</td>\n",
       "      <td>17.2</td>\n",
       "      <td>NaN</td>\n",
       "    </tr>\n",
       "    <tr>\n",
       "      <th>198</th>\n",
       "      <td>2023-04-21 16:09:33</td>\n",
       "      <td>17.3</td>\n",
       "      <td>NaN</td>\n",
       "      <td>NaN</td>\n",
       "    </tr>\n",
       "  </tbody>\n",
       "</table>\n",
       "<p>199 rows × 4 columns</p>\n",
       "</div>"
      ],
      "text/plain": [
       "                    Tijd  MolenhofWeer - Temperatuur (°C)  \\\n",
       "0    2023-04-17 16:58:40                             14.0   \n",
       "1    2023-04-17 16:59:01                              NaN   \n",
       "2    2023-04-17 17:57:41                              NaN   \n",
       "3    2023-04-17 17:57:54                             15.3   \n",
       "4    2023-04-17 18:56:31                              NaN   \n",
       "..                   ...                              ...   \n",
       "194  2023-04-21 15:57:04                              NaN   \n",
       "195  2023-04-21 15:58:47                             17.1   \n",
       "196  2023-04-21 16:06:00                              NaN   \n",
       "197  2023-04-21 16:07:44                              NaN   \n",
       "198  2023-04-21 16:09:33                             17.3   \n",
       "\n",
       "     QuattroCoronati - Temperatuur (°C)  Vlinder 02 Gent - Temperatuur (°C)  \n",
       "0                                   NaN                                 NaN  \n",
       "1                                  14.6                                 NaN  \n",
       "2                                  14.3                                 NaN  \n",
       "3                                   NaN                                 NaN  \n",
       "4                                  14.0                                 NaN  \n",
       "..                                  ...                                 ...  \n",
       "194                                17.5                                 NaN  \n",
       "195                                 NaN                                 NaN  \n",
       "196                                 NaN                                16.5  \n",
       "197                                17.2                                 NaN  \n",
       "198                                 NaN                                 NaN  \n",
       "\n",
       "[199 rows x 4 columns]"
      ]
     },
     "execution_count": 1,
     "metadata": {},
     "output_type": "execute_result"
    }
   ],
   "source": [
    "import pandas as pd\n",
    "datafile = 'https://raw.githubusercontent.com/vergauwenthomas/MetObs_toolkit/master/tests/test_data/wide_test_data.csv'\n",
    "templatefile = 'https://raw.githubusercontent.com/vergauwenthomas/MetObs_toolkit/master/tests/test_data/wide_test_template.json'\n",
    "\n",
    "\n",
    "# As an example, here is how the data looks like\n",
    "df =pd.read_csv(datafile)\n",
    "df"
   ]
  },
  {
   "cell_type": "markdown",
   "id": "1c1fdf60-329c-4eb6-80b9-2d4e08dbfd24",
   "metadata": {},
   "source": [
    "It can clearly be seen that timestamps are not synchronized over the stations and that the time resolution is not perfect for the stations. We can fix these timestamps in the toolkit when we import the datafile.\n",
    "\n",
    "When a datafile is imported, the toolkit will convert the time series to \"perfect\" timestamps (= equally spaced timestamps). To do this, the toolkit must estimate the **frequency** (=time resolution) for each station. In addition, the toolkit will estimate an **origin** and a **last timestamp** for each station. Once these three parameters (freq, origin, and last timestamp) are computed, a perfect time series is created. At last, the toolkit will map the records in the datafile to these perfect timestamps. \n",
    "\n",
    "When the timestamps in the datafile are irregular, we can fix them by specifying tolerances and simplifications for mapping to perfect timestamps when importing the data from file: ``Dataset.import_data_from_file()``"
   ]
  },
  {
   "cell_type": "code",
   "execution_count": 2,
   "id": "97413dee-9b50-4b81-80b5-ac3ae52989bf",
   "metadata": {
    "execution": {
     "iopub.execute_input": "2024-09-10T11:19:10.760813Z",
     "iopub.status.busy": "2024-09-10T11:19:10.760520Z",
     "iopub.status.idle": "2024-09-10T11:19:13.588891Z",
     "shell.execute_reply": "2024-09-10T11:19:13.588285Z"
    }
   },
   "outputs": [
    {
     "name": "stderr",
     "output_type": "stream",
     "text": [
      "The following data columns are renamed because of special meaning by the toolkit: {}\n"
     ]
    },
    {
     "name": "stderr",
     "output_type": "stream",
     "text": [
      "No metadata file is defined,                    no metadata attributes can be set!\n"
     ]
    },
    {
     "name": "stderr",
     "output_type": "stream",
     "text": [
      "These stations will be removed because of only having one record: []\n"
     ]
    },
    {
     "name": "stderr",
     "output_type": "stream",
     "text": [
      "/home/thoverga/Documents/VLINDER_github/MetObs_toolkit/metobs_toolkit/df_helpers.py:54: FutureWarning: <class 'geopandas.array.GeometryArray'>._reduce will require a `keepdims` parameter in the future\n",
      "  return pd.concat([df.dropna(axis=1, how=\"all\") for df in df_list], **kwargs)\n"
     ]
    }
   ],
   "source": [
    "import metobs_toolkit\n",
    "\n",
    "dataset = metobs_toolkit.Dataset()\n",
    "dataset.update_file_paths(\n",
    "    input_data_file=datafile,\n",
    "    template_file=templatefile)\n",
    "\n",
    "\n",
    "dataset.import_data_from_file(\n",
    "        freq_estimation_method=\"highest\", #highest or median\n",
    "        freq_estimation_simplify_tolerance=\"2min\", #Try to simplify the frequency, the maximum simplification tolerance is 2 minutes\n",
    "        origin_simplify_tolerance=\"5min\", #try to simplify the origin, the maximum simplification tolerance is 5 minutes\n",
    "        timestamp_tolerance=\"4min\", #The maximum tolerance for mapping records to perfect timestamps is 5 minutes\n",
    "        templatefile_is_url=True)"
   ]
  },
  {
   "cell_type": "markdown",
   "id": "adc59bd7-ad15-402c-8c4a-e19af8c4c596",
   "metadata": {},
   "source": [
    "The freqency, origin and latest timestamp are stored per station in the `Dataset.metadf` in the `dataset_resolution`, `dt_start` and `dt_end` columns:"
   ]
  },
  {
   "cell_type": "code",
   "execution_count": 3,
   "id": "40bb4399-a30a-454c-9e3d-c184fc48a4ce",
   "metadata": {
    "execution": {
     "iopub.execute_input": "2024-09-10T11:19:13.591340Z",
     "iopub.status.busy": "2024-09-10T11:19:13.591099Z",
     "iopub.status.idle": "2024-09-10T11:19:13.600007Z",
     "shell.execute_reply": "2024-09-10T11:19:13.599487Z"
    }
   },
   "outputs": [
    {
     "data": {
      "text/html": [
       "\n",
       "            <style>\n",
       "                .geemap-dark {\n",
       "                    --jp-widgets-color: white;\n",
       "                    --jp-widgets-label-color: white;\n",
       "                    --jp-ui-font-color1: white;\n",
       "                    --jp-layout-color2: #454545;\n",
       "                    background-color: #383838;\n",
       "                }\n",
       "\n",
       "                .geemap-dark .jupyter-button {\n",
       "                    --jp-layout-color3: #383838;\n",
       "                }\n",
       "\n",
       "                .geemap-colab {\n",
       "                    background-color: var(--colab-primary-surface-color, white);\n",
       "                }\n",
       "\n",
       "                .geemap-colab .jupyter-button {\n",
       "                    --jp-layout-color3: var(--colab-primary-surface-color, white);\n",
       "                }\n",
       "            </style>\n",
       "            "
      ],
      "text/plain": [
       "<IPython.core.display.HTML object>"
      ]
     },
     "metadata": {},
     "output_type": "display_data"
    },
    {
     "data": {
      "text/html": [
       "<div>\n",
       "<style scoped>\n",
       "    .dataframe tbody tr th:only-of-type {\n",
       "        vertical-align: middle;\n",
       "    }\n",
       "\n",
       "    .dataframe tbody tr th {\n",
       "        vertical-align: top;\n",
       "    }\n",
       "\n",
       "    .dataframe thead th {\n",
       "        text-align: right;\n",
       "    }\n",
       "</style>\n",
       "<table border=\"1\" class=\"dataframe\">\n",
       "  <thead>\n",
       "    <tr style=\"text-align: right;\">\n",
       "      <th></th>\n",
       "      <th>lat</th>\n",
       "      <th>lon</th>\n",
       "      <th>geometry</th>\n",
       "      <th>dataset_resolution</th>\n",
       "      <th>dt_start</th>\n",
       "      <th>dt_end</th>\n",
       "    </tr>\n",
       "    <tr>\n",
       "      <th>name</th>\n",
       "      <th></th>\n",
       "      <th></th>\n",
       "      <th></th>\n",
       "      <th></th>\n",
       "      <th></th>\n",
       "      <th></th>\n",
       "    </tr>\n",
       "  </thead>\n",
       "  <tbody>\n",
       "    <tr>\n",
       "      <th>MolenhofWeer - Temperatuur (°C)</th>\n",
       "      <td>NaN</td>\n",
       "      <td>NaN</td>\n",
       "      <td>NaN</td>\n",
       "      <td>0 days 00:01:00</td>\n",
       "      <td>2023-04-17 17:00:00+02:00</td>\n",
       "      <td>2023-04-21 16:09:00+02:00</td>\n",
       "    </tr>\n",
       "    <tr>\n",
       "      <th>QuattroCoronati - Temperatuur (°C)</th>\n",
       "      <td>NaN</td>\n",
       "      <td>NaN</td>\n",
       "      <td>NaN</td>\n",
       "      <td>0 days 00:01:00</td>\n",
       "      <td>2023-04-17 17:00:00+02:00</td>\n",
       "      <td>2023-04-21 16:09:00+02:00</td>\n",
       "    </tr>\n",
       "    <tr>\n",
       "      <th>Vlinder 02 Gent - Temperatuur (°C)</th>\n",
       "      <td>NaN</td>\n",
       "      <td>NaN</td>\n",
       "      <td>NaN</td>\n",
       "      <td>0 days 00:01:00</td>\n",
       "      <td>2023-04-17 17:00:00+02:00</td>\n",
       "      <td>2023-04-21 16:09:00+02:00</td>\n",
       "    </tr>\n",
       "  </tbody>\n",
       "</table>\n",
       "</div>"
      ],
      "text/plain": [
       "                                    lat  lon  geometry dataset_resolution  \\\n",
       "name                                                                        \n",
       "MolenhofWeer - Temperatuur (°C)     NaN  NaN       NaN    0 days 00:01:00   \n",
       "QuattroCoronati - Temperatuur (°C)  NaN  NaN       NaN    0 days 00:01:00   \n",
       "Vlinder 02 Gent - Temperatuur (°C)  NaN  NaN       NaN    0 days 00:01:00   \n",
       "\n",
       "                                                    dt_start  \\\n",
       "name                                                           \n",
       "MolenhofWeer - Temperatuur (°C)    2023-04-17 17:00:00+02:00   \n",
       "QuattroCoronati - Temperatuur (°C) 2023-04-17 17:00:00+02:00   \n",
       "Vlinder 02 Gent - Temperatuur (°C) 2023-04-17 17:00:00+02:00   \n",
       "\n",
       "                                                      dt_end  \n",
       "name                                                          \n",
       "MolenhofWeer - Temperatuur (°C)    2023-04-21 16:09:00+02:00  \n",
       "QuattroCoronati - Temperatuur (°C) 2023-04-21 16:09:00+02:00  \n",
       "Vlinder 02 Gent - Temperatuur (°C) 2023-04-21 16:09:00+02:00  "
      ]
     },
     "execution_count": 3,
     "metadata": {},
     "output_type": "execute_result"
    }
   ],
   "source": [
    "dataset.metadf"
   ]
  },
  {
   "cell_type": "markdown",
   "id": "97f1f966-d22f-4c29-87c6-bb91294455d2",
   "metadata": {},
   "source": [
    "Because of the wide-structured data, the toolkit assumes a 1-minute-frequency. What we can do is to coarsen the time resolution to hourly. \n",
    "\n",
    "**Note**: to avoid propagation of errors and tolerances, it is best to shift timestamps only once. For this example, this can be done by importing the data without simplifications or tolerances and coarsening it with tolerances.\n",
    "\n",
    "**Note**: In this wide datafile example, the toolkit interprets the timestamps without a value as gaps, and is the assumption of 1-minute-frequency the correct one. This issue is typically related to wide-structured-datasets."
   ]
  },
  {
   "cell_type": "code",
   "execution_count": 4,
   "id": "196969fd-1f9d-4224-9baf-7ad1cbc34414",
   "metadata": {
    "execution": {
     "iopub.execute_input": "2024-09-10T11:19:13.602306Z",
     "iopub.status.busy": "2024-09-10T11:19:13.602116Z",
     "iopub.status.idle": "2024-09-10T11:19:16.076334Z",
     "shell.execute_reply": "2024-09-10T11:19:16.075780Z"
    }
   },
   "outputs": [
    {
     "data": {
      "text/html": [
       "\n",
       "            <style>\n",
       "                .geemap-dark {\n",
       "                    --jp-widgets-color: white;\n",
       "                    --jp-widgets-label-color: white;\n",
       "                    --jp-ui-font-color1: white;\n",
       "                    --jp-layout-color2: #454545;\n",
       "                    background-color: #383838;\n",
       "                }\n",
       "\n",
       "                .geemap-dark .jupyter-button {\n",
       "                    --jp-layout-color3: #383838;\n",
       "                }\n",
       "\n",
       "                .geemap-colab {\n",
       "                    background-color: var(--colab-primary-surface-color, white);\n",
       "                }\n",
       "\n",
       "                .geemap-colab .jupyter-button {\n",
       "                    --jp-layout-color3: var(--colab-primary-surface-color, white);\n",
       "                }\n",
       "            </style>\n",
       "            "
      ],
      "text/plain": [
       "<IPython.core.display.HTML object>"
      ]
     },
     "metadata": {},
     "output_type": "display_data"
    },
    {
     "name": "stderr",
     "output_type": "stream",
     "text": [
      "A 0 days 00:00:00 is given as an argument for a timedelta.\n"
     ]
    },
    {
     "name": "stderr",
     "output_type": "stream",
     "text": [
      "A 0 days 00:00:00 is given as an argument for a timedelta.\n"
     ]
    },
    {
     "name": "stderr",
     "output_type": "stream",
     "text": [
      "A 0 days 00:00:00 is given as an argument for a timedelta.\n"
     ]
    },
    {
     "name": "stderr",
     "output_type": "stream",
     "text": [
      "The following data columns are renamed because of special meaning by the toolkit: {}\n"
     ]
    },
    {
     "name": "stderr",
     "output_type": "stream",
     "text": [
      "No metadata file is defined,                    no metadata attributes can be set!\n"
     ]
    },
    {
     "name": "stderr",
     "output_type": "stream",
     "text": [
      "These stations will be removed because of only having one record: []\n"
     ]
    },
    {
     "name": "stderr",
     "output_type": "stream",
     "text": [
      "/home/thoverga/Documents/VLINDER_github/MetObs_toolkit/metobs_toolkit/df_helpers.py:54: FutureWarning: <class 'geopandas.array.GeometryArray'>._reduce will require a `keepdims` parameter in the future\n",
      "  return pd.concat([df.dropna(axis=1, how=\"all\") for df in df_list], **kwargs)\n"
     ]
    },
    {
     "name": "stderr",
     "output_type": "stream",
     "text": [
      "A 0 days 00:00:00 is given as an argument for a timedelta.\n"
     ]
    },
    {
     "data": {
      "text/plain": [
       "<Axes: title={'center': 'None for all stations. '}, ylabel='temp (Celsius)'>"
      ]
     },
     "execution_count": 4,
     "metadata": {},
     "output_type": "execute_result"
    },
    {
     "data": {
      "image/png": "[encoded data removed]",
      "text/plain": [
       "<Figure size 1500x500 with 1 Axes>"
      ]
     },
     "metadata": {},
     "output_type": "display_data"
    }
   ],
   "source": [
    "\n",
    "import datetime\n",
    "\n",
    "#import without simplifications and tolerances (to avoid error propagation/cumulation)\n",
    "dataset.import_data_from_file(\n",
    "        freq_estimation_method=\"highest\", #highest or median\n",
    "        freq_estimation_simplify_tolerance=\"0min\", #Try to simplify the frequency, the maximum simplification tolerance is 2 minutes\n",
    "        origin_simplify_tolerance=\"0min\", #try to simplify the origin, the maximum simplification tolerance is 5 minutes\n",
    "        timestamp_tolerance=\"0min\", #The maximum tolerance for mapping records to perfect timestamps is 5 minutes\n",
    "        templatefile_is_url=True)\n",
    "\n",
    "dataset.sync_records(\n",
    "        timestamp_shift_tolerance=\"6min\",\n",
    "         freq_shift_tolerance=\"0min\",\n",
    "         fixed_origin=None,\n",
    "         fixed_enddt=None,\n",
    "         fixed_freq='1h',\n",
    "         direction=\"nearest\",)\n",
    "\n",
    "dataset.make_plot()"
   ]
  },
  {
   "cell_type": "markdown",
   "id": "924787f5-e2c2-441c-9cbd-da90699fcafa",
   "metadata": {},
   "source": [
    "We can see that the timestamps in the Dataset are \"perfect\", and that the stations are synchronized. "
   ]
  },
  {
   "cell_type": "code",
   "execution_count": 5,
   "id": "ccdc5dcc-766e-4c9e-9e75-b054de04f11b",
   "metadata": {
    "execution": {
     "iopub.execute_input": "2024-09-10T11:19:16.078754Z",
     "iopub.status.busy": "2024-09-10T11:19:16.078530Z",
     "iopub.status.idle": "2024-09-10T11:19:16.102133Z",
     "shell.execute_reply": "2024-09-10T11:19:16.101642Z"
    }
   },
   "outputs": [
    {
     "data": {
      "text/html": [
       "\n",
       "            <style>\n",
       "                .geemap-dark {\n",
       "                    --jp-widgets-color: white;\n",
       "                    --jp-widgets-label-color: white;\n",
       "                    --jp-ui-font-color1: white;\n",
       "                    --jp-layout-color2: #454545;\n",
       "                    background-color: #383838;\n",
       "                }\n",
       "\n",
       "                .geemap-dark .jupyter-button {\n",
       "                    --jp-layout-color3: #383838;\n",
       "                }\n",
       "\n",
       "                .geemap-colab {\n",
       "                    background-color: var(--colab-primary-surface-color, white);\n",
       "                }\n",
       "\n",
       "                .geemap-colab .jupyter-button {\n",
       "                    --jp-layout-color3: var(--colab-primary-surface-color, white);\n",
       "                }\n",
       "            </style>\n",
       "            "
      ],
      "text/plain": [
       "<IPython.core.display.HTML object>"
      ]
     },
     "metadata": {},
     "output_type": "display_data"
    },
    {
     "data": {
      "text/html": [
       "<div>\n",
       "<style scoped>\n",
       "    .dataframe tbody tr th:only-of-type {\n",
       "        vertical-align: middle;\n",
       "    }\n",
       "\n",
       "    .dataframe tbody tr th {\n",
       "        vertical-align: top;\n",
       "    }\n",
       "\n",
       "    .dataframe thead th {\n",
       "        text-align: right;\n",
       "    }\n",
       "</style>\n",
       "<table border=\"1\" class=\"dataframe\">\n",
       "  <thead>\n",
       "    <tr style=\"text-align: right;\">\n",
       "      <th>name</th>\n",
       "      <th>MolenhofWeer - Temperatuur (°C)</th>\n",
       "      <th>QuattroCoronati - Temperatuur (°C)</th>\n",
       "      <th>Vlinder 02 Gent - Temperatuur (°C)</th>\n",
       "    </tr>\n",
       "    <tr>\n",
       "      <th>datetime</th>\n",
       "      <th></th>\n",
       "      <th></th>\n",
       "      <th></th>\n",
       "    </tr>\n",
       "  </thead>\n",
       "  <tbody>\n",
       "    <tr>\n",
       "      <th>2023-04-17 17:00:00+02:00</th>\n",
       "      <td>14.0</td>\n",
       "      <td>14.6</td>\n",
       "      <td>NaN</td>\n",
       "    </tr>\n",
       "    <tr>\n",
       "      <th>2023-04-17 18:00:00+02:00</th>\n",
       "      <td>15.3</td>\n",
       "      <td>14.3</td>\n",
       "      <td>NaN</td>\n",
       "    </tr>\n",
       "    <tr>\n",
       "      <th>2023-04-17 19:00:00+02:00</th>\n",
       "      <td>15.0</td>\n",
       "      <td>14.0</td>\n",
       "      <td>NaN</td>\n",
       "    </tr>\n",
       "    <tr>\n",
       "      <th>2023-04-17 20:00:00+02:00</th>\n",
       "      <td>12.9</td>\n",
       "      <td>12.1</td>\n",
       "      <td>NaN</td>\n",
       "    </tr>\n",
       "    <tr>\n",
       "      <th>2023-04-17 21:00:00+02:00</th>\n",
       "      <td>11.1</td>\n",
       "      <td>10.2</td>\n",
       "      <td>NaN</td>\n",
       "    </tr>\n",
       "    <tr>\n",
       "      <th>...</th>\n",
       "      <td>...</td>\n",
       "      <td>...</td>\n",
       "      <td>...</td>\n",
       "    </tr>\n",
       "    <tr>\n",
       "      <th>2023-04-21 12:00:00+02:00</th>\n",
       "      <td>12.7</td>\n",
       "      <td>14.2</td>\n",
       "      <td>11.7</td>\n",
       "    </tr>\n",
       "    <tr>\n",
       "      <th>2023-04-21 13:00:00+02:00</th>\n",
       "      <td>14.4</td>\n",
       "      <td>14.3</td>\n",
       "      <td>13.3</td>\n",
       "    </tr>\n",
       "    <tr>\n",
       "      <th>2023-04-21 14:00:00+02:00</th>\n",
       "      <td>15.9</td>\n",
       "      <td>16.2</td>\n",
       "      <td>14.7</td>\n",
       "    </tr>\n",
       "    <tr>\n",
       "      <th>2023-04-21 15:00:00+02:00</th>\n",
       "      <td>16.3</td>\n",
       "      <td>15.9</td>\n",
       "      <td>15.2</td>\n",
       "    </tr>\n",
       "    <tr>\n",
       "      <th>2023-04-21 16:00:00+02:00</th>\n",
       "      <td>17.1</td>\n",
       "      <td>17.5</td>\n",
       "      <td>16.8</td>\n",
       "    </tr>\n",
       "  </tbody>\n",
       "</table>\n",
       "<p>96 rows × 3 columns</p>\n",
       "</div>"
      ],
      "text/plain": [
       "name                       MolenhofWeer - Temperatuur (°C)  \\\n",
       "datetime                                                     \n",
       "2023-04-17 17:00:00+02:00                             14.0   \n",
       "2023-04-17 18:00:00+02:00                             15.3   \n",
       "2023-04-17 19:00:00+02:00                             15.0   \n",
       "2023-04-17 20:00:00+02:00                             12.9   \n",
       "2023-04-17 21:00:00+02:00                             11.1   \n",
       "...                                                    ...   \n",
       "2023-04-21 12:00:00+02:00                             12.7   \n",
       "2023-04-21 13:00:00+02:00                             14.4   \n",
       "2023-04-21 14:00:00+02:00                             15.9   \n",
       "2023-04-21 15:00:00+02:00                             16.3   \n",
       "2023-04-21 16:00:00+02:00                             17.1   \n",
       "\n",
       "name                       QuattroCoronati - Temperatuur (°C)  \\\n",
       "datetime                                                        \n",
       "2023-04-17 17:00:00+02:00                                14.6   \n",
       "2023-04-17 18:00:00+02:00                                14.3   \n",
       "2023-04-17 19:00:00+02:00                                14.0   \n",
       "2023-04-17 20:00:00+02:00                                12.1   \n",
       "2023-04-17 21:00:00+02:00                                10.2   \n",
       "...                                                       ...   \n",
       "2023-04-21 12:00:00+02:00                                14.2   \n",
       "2023-04-21 13:00:00+02:00                                14.3   \n",
       "2023-04-21 14:00:00+02:00                                16.2   \n",
       "2023-04-21 15:00:00+02:00                                15.9   \n",
       "2023-04-21 16:00:00+02:00                                17.5   \n",
       "\n",
       "name                       Vlinder 02 Gent - Temperatuur (°C)  \n",
       "datetime                                                       \n",
       "2023-04-17 17:00:00+02:00                                 NaN  \n",
       "2023-04-17 18:00:00+02:00                                 NaN  \n",
       "2023-04-17 19:00:00+02:00                                 NaN  \n",
       "2023-04-17 20:00:00+02:00                                 NaN  \n",
       "2023-04-17 21:00:00+02:00                                 NaN  \n",
       "...                                                       ...  \n",
       "2023-04-21 12:00:00+02:00                                11.7  \n",
       "2023-04-21 13:00:00+02:00                                13.3  \n",
       "2023-04-21 14:00:00+02:00                                14.7  \n",
       "2023-04-21 15:00:00+02:00                                15.2  \n",
       "2023-04-21 16:00:00+02:00                                16.8  \n",
       "\n",
       "[96 rows x 3 columns]"
      ]
     },
     "execution_count": 5,
     "metadata": {},
     "output_type": "execute_result"
    }
   ],
   "source": [
    "dataset.get_full_status_df()['temp']['value'].unstack().transpose()\n"
   ]
  }
 ],
 "metadata": {
  "kernelspec": {
   "display_name": "Python 3 (ipykernel)",
   "language": "python",
   "name": "python3"
  },
  "language_info": {
   "codemirror_mode": {
    "name": "ipython",
    "version": 3
   },
   "file_extension": ".py",
   "mimetype": "text/x-python",
   "name": "python",
   "nbconvert_exporter": "python",
   "pygments_lexer": "ipython3",
   "version": "3.10.14"
  },
  "widgets": {
   "application/vnd.jupyter.widget-state+json": {
    "state": {
     "6c58de9b02164822840db6a7a6d6dec0": {
      "model_module": "@jupyter-widgets/base",
      "model_module_version": "2.0.0",
      "model_name": "LayoutModel",
      "state": {
       "_model_module": "@jupyter-widgets/base",
       "_model_module_version": "2.0.0",
       "_model_name": "LayoutModel",
       "_view_count": null,
       "_view_module": "@jupyter-widgets/base",
       "_view_module_version": "2.0.0",
       "_view_name": "LayoutView",
       "align_content": null,
       "align_items": null,
       "align_self": null,
       "border_bottom": null,
       "border_left": null,
       "border_right": null,
       "border_top": null,
       "bottom": null,
       "display": null,
       "flex": null,
       "flex_flow": null,
       "grid_area": null,
       "grid_auto_columns": null,
       "grid_auto_flow": null,
       "grid_auto_rows": null,
       "grid_column": null,
       "grid_gap": null,
       "grid_row": null,
       "grid_template_areas": null,
       "grid_template_columns": null,
       "grid_template_rows": null,
       "height": null,
       "justify_content": null,
       "justify_items": null,
       "left": null,
       "margin": null,
       "max_height": null,
       "max_width": null,
       "min_height": null,
       "min_width": null,
       "object_fit": null,
       "object_position": null,
       "order": null,
       "overflow": null,
       "padding": null,
       "right": null,
       "top": null,
       "visibility": null,
       "width": "500px"
      }
     }
    },
    "version_major": 2,
    "version_minor": 0
   }
  }
 },
 "nbformat": 4,
 "nbformat_minor": 5
}
