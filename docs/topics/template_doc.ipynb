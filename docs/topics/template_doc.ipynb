{
 "cells": [
  {
   "cell_type": "markdown",
   "id": "0",
   "metadata": {
    "editable": true,
    "slideshow": {
     "slide_type": ""
    },
    "tags": []
   },
   "source": [
    "# Mapping to the toolkit\n",
    "\n",
    "The MetObs-toolkit uses standard names and formats for your data. To use the toolkit,\n",
    "your observational data must be converted to the toolkit standards this is referred to as **mapping**.\n",
    "\n",
    "To specify how the mapping must be done a **template** is used. This template contains\n",
    "all the information on how to convert your tabular data to the toolkit standards.\n",
    "Since the structure of data files differs for different networks, this template is\n",
    "unique for each data file. A template is saved as a tabular .csv file to reuse and share them.\n",
    "\n",
    "On this page, you can find information on how to construct a template."
   ]
  },
  {
   "cell_type": "markdown",
   "id": "1",
   "metadata": {},
   "source": [
    "# Toolkit Standards\n",
    "\n",
    "The toolkit has standard names for observation types and metadata. Here these standards are presented and described."
   ]
  },
  {
   "cell_type": "code",
   "execution_count": null,
   "id": "2",
   "metadata": {},
   "outputs": [],
   "source": [
    "#This code block is for illustration, it has no practical use.\n",
    "from metobs_toolkit.miscellaneous import _tlk_print_standard_obstypes\n",
    "_tlk_print_standard_obstypes()"
   ]
  },
  {
   "cell_type": "markdown",
   "id": "3",
   "metadata": {
    "editable": true,
    "slideshow": {
     "slide_type": ""
    },
    "tags": [
     "remove-input"
    ]
   },
   "source": [
    "## Data Structures\n",
    "\n",
    "To make a template you must be aware of which format your data is in. The toolkit can handle the following data structures:"
   ]
  },
  {
   "cell_type": "markdown",
   "id": "4",
   "metadata": {
    "editable": true,
    "slideshow": {
     "slide_type": ""
    },
    "tags": []
   },
   "source": [
    "### Long-format\n",
    "Observations are stacked in rows per station. One column represents the station names."
   ]
  },
  {
   "cell_type": "markdown",
   "id": "5",
   "metadata": {
    "editable": true,
    "slideshow": {
     "slide_type": ""
    },
    "tags": []
   },
   "source": [
    "| Timestamp   | 2m Temperature | 2m Humidity | ID |\n",
    "| -------- | ------- |  ------- | ------- |\n",
    "| 2022-06-07 13:20:00  | 16.4 |  77.3 | Station_A |\n",
    "| 2022-06-07 13:30:00  | 16.7 |  75.6 | Station_A |\n",
    "| 2022-06-07 13:20:00  | 18.3 |  68.9 | Station_B |\n",
    "| 2022-06-07 13:30:00  | 18.6 |  71.9 | Station_B |\n"
   ]
  },
  {
   "cell_type": "markdown",
   "id": "6",
   "metadata": {
    "editable": true,
    "slideshow": {
     "slide_type": ""
    },
    "tags": []
   },
   "source": [
    "### Single-station-format\n",
    "The same as a long format but without a column indicating the station names. Be aware that the toolkit interprets it as observations coming from one station."
   ]
  },
  {
   "cell_type": "markdown",
   "id": "7",
   "metadata": {
    "editable": true,
    "slideshow": {
     "slide_type": ""
    },
    "tags": []
   },
   "source": [
    "| Timestamp   | 2m Temperature | 2m Humidity |\n",
    "| -------- | ------- |  ------- |\n",
    "| 2022-06-07 13:20:00  | 16.4 |  77.3 |\n",
    "| 2022-06-07 13:30:00  | 16.7 |  75.6 |"
   ]
  },
  {
   "cell_type": "markdown",
   "id": "8",
   "metadata": {
    "editable": true,
    "slideshow": {
     "slide_type": ""
    },
    "tags": []
   },
   "source": [
    "### Wide-format\n",
    "Columns represent different stations. The data represents one observation type."
   ]
  },
  {
   "cell_type": "markdown",
   "id": "9",
   "metadata": {
    "editable": true,
    "slideshow": {
     "slide_type": ""
    },
    "tags": []
   },
   "source": [
    "| Timestamp   | Station_A | Station_B |\n",
    "| -------- | ------- |  ------- |\n",
    "| 2022-06-07 13:20:00  | 16.4 |  18.3 |\n",
    "| 2022-06-07 13:30:00  | 16.7 |  18.6 |"
   ]
  },
  {
   "cell_type": "markdown",
   "id": "10",
   "metadata": {
    "editable": true,
    "slideshow": {
     "slide_type": ""
    },
    "tags": []
   },
   "source": [
    "## Template creation\n",
    "\n",
    "Once you have converted your tabular data files to either long-, wide-, or single-station-format, and saved them as a .csv file, a template can be made."
   ]
  },
  {
   "cell_type": "markdown",
   "id": "11",
   "metadata": {
    "editable": true,
    "slideshow": {
     "slide_type": ""
    },
    "tags": []
   },
   "source": [
    "\n",
    "<div class=\"alert alert-block alert-info\">\n",
    "<b>Note:</b> If you want to use a metadata file, make sure it is converted to a wide-format and saved as a .csv file.\n",
    "\n",
    "</div>"
   ]
  },
  {
   "cell_type": "markdown",
   "id": "12",
   "metadata": {
    "editable": true,
    "slideshow": {
     "slide_type": ""
    },
    "tags": []
   },
   "source": [
    "The fastest and simplest way to make a template is by using the `metobs_toolkit.build_template_prompt()` function."
   ]
  },
  {
   "cell_type": "markdown",
   "id": "13",
   "metadata": {
    "editable": true,
    "slideshow": {
     "slide_type": ""
    },
    "tags": []
   },
   "source": [
    "```python \n",
    "import metobs_toolkit\n",
    "\n",
    "#create a template\n",
    "metobs_toolkit.build_template_prompt()\n",
    "```"
   ]
  },
  {
   "cell_type": "markdown",
   "id": "14",
   "metadata": {
    "editable": true,
    "slideshow": {
     "slide_type": ""
    },
    "tags": []
   },
   "source": [
    "<div class=\"alert alert-block alert-info\">\n",
    "<b>Note:</b> When the prompt asks if you need further help, and you type yes, some more questions are prompted. Once all information is given to the prompt, it will print out a piece of code that you have to run to load your data into the toolkit.\n",
    "</div>"
   ]
  },
  {
   "cell_type": "markdown",
   "id": "15",
   "metadata": {
    "editable": true,
    "slideshow": {
     "slide_type": ""
    },
    "tags": []
   },
   "source": [
    "This function will prompt questions and build a template that matches your data file (and metadata) file. The *template.json* file will be stored at a location of your choice.\n",
    "\n",
    "To use this template, feed the path to the *template.json* file to the data_template_file (and metadata_template_file) arguments of the `update_settings()` method."
   ]
  },
  {
   "cell_type": "code",
   "execution_count": null,
   "id": "16",
   "metadata": {},
   "outputs": [],
   "source": [
    "import metobs_toolkit\n",
    "\n",
    "your_dataset = metobs_toolkit.Dataset() #initiate an empty dataset\n",
    "your_dataset.update_file_paths(\n",
    "    input_data_file= metobs_toolkit.demo_datafile, #Path to your data (csv) file\n",
    "    input_metadata_file=metobs_toolkit.demo_metadatafile, #Path to your metadata (csv) file\n",
    "    template_file=metobs_toolkit.demo_template) #Path to your template (json) file.\n"
   ]
  },
  {
   "cell_type": "markdown",
   "id": "17",
   "metadata": {
    "editable": true,
    "slideshow": {
     "slide_type": ""
    },
    "tags": []
   },
   "source": [
    "The template (file) is read when calling the `Dataset.import_data_from_file()` method, and converted to a `metobs_toolkit.Template` which is accessible for each dataset."
   ]
  },
  {
   "cell_type": "code",
   "execution_count": null,
   "id": "18",
   "metadata": {},
   "outputs": [],
   "source": [
    "your_dataset.import_data_from_file() #will read the data, metadata and template.\n",
    "\n",
    "your_dataset.template\n"
   ]
  },
  {
   "cell_type": "markdown",
   "id": "19",
   "metadata": {
    "editable": true,
    "slideshow": {
     "slide_type": ""
    },
    "tags": []
   },
   "source": [
    "An overview of the template can be printed using the `show()` on the `Template` instance:"
   ]
  },
  {
   "cell_type": "code",
   "execution_count": null,
   "id": "20",
   "metadata": {},
   "outputs": [],
   "source": [
    "your_dataset.template.show()"
   ]
  }
 ],
 "metadata": {
  "language_info": {
   "name": "python"
  }
 },
 "nbformat": 4,
 "nbformat_minor": 5
}
