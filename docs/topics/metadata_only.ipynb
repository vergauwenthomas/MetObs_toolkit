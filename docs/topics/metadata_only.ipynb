{
 "cells": [
  {
   "cell_type": "markdown",
   "id": "0",
   "metadata": {},
   "source": [
    "# Metobs without observational data\n",
    "\n",
    "For some applications you do not have observational data (yet), but you still want to use the Metobs toolkit functionality on the metadata (the locations of the stations). In the toolkit, this is implemented as *\"metadata-only\"* `Datasets`. \n",
    "\n",
    "These `Dataset`s do not hold observational data, and thus no outliers and gaps, but only metadata. The process for creating a *\"metadata-only\"* `Datasets` is similar to creating a regular `Dataset`."
   ]
  },
  {
   "cell_type": "code",
   "execution_count": null,
   "id": "1",
   "metadata": {},
   "outputs": [],
   "source": [
    "import metobs_toolkit\n",
    "\n",
    "# start by making a template, and answer \"N\" when asked if you have an observational data file\n",
    "#metobs_toolkit.build_template_prompt()"
   ]
  },
  {
   "cell_type": "markdown",
   "id": "2",
   "metadata": {},
   "source": [
    "As an example, we use the demo metadata file and use it to create a \"metadata-only\" `Dataset` by applying the `Dataset.import_only_metadata_from_file()` method."
   ]
  },
  {
   "cell_type": "code",
   "execution_count": null,
   "id": "3",
   "metadata": {},
   "outputs": [],
   "source": [
    "# Initiate an empty dataset\n",
    "your_dataset = metobs_toolkit.Dataset()\n",
    "# Update the paths to the metadata and template file\n",
    "your_dataset.update_file_paths(\n",
    "                    #The path to the metadata CSV file\n",
    "                    input_metadata_file = metobs_toolkit.demo_metadatafile,\n",
    "                    #The path to the template (JSON) that you created\n",
    "                    template_file = metobs_toolkit.demo_template\n",
    "    )\n",
    "\n",
    "# Import the metadata into the Dataset\n",
    "your_dataset.import_only_metadata_from_file()\n",
    "\n",
    "print(your_dataset)\n",
    "\n",
    "print(f\"\\n The observational records: {your_dataset.df}\")"
   ]
  },
  {
   "cell_type": "markdown",
   "id": "4",
   "metadata": {},
   "source": [
    "We have thus a \"metadata-only\" Dataset, without observations. We can still extract metadata from GEE etc.\n",
    "\n",
    "## Extract Static GEE data\n",
    "As an example, we can extract landcoverfractions at the locations of the stations by using the `Dataset.get_landcover()` method. "
   ]
  },
  {
   "cell_type": "code",
   "execution_count": null,
   "id": "5",
   "metadata": {},
   "outputs": [],
   "source": [
    "landcov_fractions = your_dataset.get_landcover(\n",
    "                            buffers=[50, 250], #fractions at 50m and 250m circular buffers\n",
    "                            aggregate=False,\n",
    "                            gee_map='worldcover')\n",
    "landcov_fractions.head(10)"
   ]
  },
  {
   "cell_type": "markdown",
   "id": "6",
   "metadata": {},
   "source": [
    "## Extract timeseries from GEE\n",
    "\n",
    "We can also extract timeseries from a `GeeDynamicModeldata` object, like the default `ERA5-land`. As an example, we extract temperature timeseries."
   ]
  },
  {
   "cell_type": "code",
   "execution_count": null,
   "id": "7",
   "metadata": {},
   "outputs": [],
   "source": [
    "import pandas as pd\n",
    "start = pd.Timestamp('2017-01-01T12')\n",
    "end = pd.Timestamp('2017-01-02T16')\n",
    "\n",
    "era5 = your_dataset.get_modeldata(\n",
    "                Model=your_dataset.gee_datasets['ERA5-land'],\n",
    "                obstypes=['temp'],\n",
    "                startdt=start,\n",
    "                enddt=end)  "
   ]
  },
  {
   "cell_type": "code",
   "execution_count": null,
   "id": "8",
   "metadata": {},
   "outputs": [],
   "source": [
    "%config InlineBackend.print_figure_kwargs = {'bbox_inches':None} #else the legend is cutoff in ipython inline plots\n",
    "era5.make_plot()"
   ]
  }
 ],
 "metadata": {
  "language_info": {
   "name": "python"
  }
 },
 "nbformat": 4,
 "nbformat_minor": 5
}
