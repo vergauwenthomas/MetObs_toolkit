{
 "cells": [
  {
   "cell_type": "markdown",
   "id": "c05cab1d-5c40-410f-8149-c700e48cab2e",
   "metadata": {},
   "source": [
    "## Storm Unice (quick analysis of windgust)\n",
    "18 feb 2022"
   ]
  },
  {
   "cell_type": "code",
   "execution_count": 1,
   "id": "9e2b61f1-cf1d-4cfd-9fcd-11be8cca5185",
   "metadata": {},
   "outputs": [],
   "source": [
    "#import metobs_toolkit\n",
    "import pandas as pd"
   ]
  },
  {
   "cell_type": "code",
   "execution_count": 10,
   "id": "f206c069-7649-4e8a-8d8c-9c5e0284ecd3",
   "metadata": {},
   "outputs": [],
   "source": [
    "datafile = '/home/thoverga/Downloads/eunice_data_2022.csv'\n",
    "metafile = datafile = '/home/thoverga/Downloads/metadata_synop.csv'"
   ]
  },
  {
   "cell_type": "markdown",
   "id": "89edce40-c0dd-4961-96c3-b833df49c0a3",
   "metadata": {},
   "source": [
    "Format metadata (remove duplicates)"
   ]
  },
  {
   "cell_type": "code",
   "execution_count": 3,
   "id": "d6bb25f0-baa6-4f2a-a64a-72396486bcc6",
   "metadata": {},
   "outputs": [],
   "source": [
    "metadf = pd.read_csv(metafile)\n",
    "metadf = metadf.drop_duplicates()\n",
    "#metadf.to_csv(metafile)\n"
   ]
  },
  {
   "cell_type": "code",
   "execution_count": 11,
   "id": "322b9568-09a2-4b66-a41d-cffb58198907",
   "metadata": {},
   "outputs": [
    {
     "data": {
      "text/plain": [
       "Index(['Unnamed: 0', 'name', 'lat', 'lon', 'community_name'], dtype='object')"
      ]
     },
     "execution_count": 11,
     "metadata": {},
     "output_type": "execute_result"
    }
   ],
   "source": [
    "datadf = pd.read_csv(datafile)\n",
    "datadf.columns\n"
   ]
  }
 ],
 "metadata": {
  "kernelspec": {
   "display_name": "Python 3 (ipykernel)",
   "language": "python",
   "name": "python3"
  },
  "language_info": {
   "codemirror_mode": {
    "name": "ipython",
    "version": 3
   },
   "file_extension": ".py",
   "mimetype": "text/x-python",
   "name": "python",
   "nbconvert_exporter": "python",
   "pygments_lexer": "ipython3",
   "version": "3.10.0"
  }
 },
 "nbformat": 4,
 "nbformat_minor": 5
}
