{
 "cells": [
  {
   "cell_type": "markdown",
   "id": "0",
   "metadata": {
    "editable": true,
    "slideshow": {
     "slide_type": ""
    },
    "tags": []
   },
   "source": [
    "# Demo: Custom observation types\n",
    "In this demo, you can find a demonstration on how to use Observation types."
   ]
  },
  {
   "cell_type": "code",
   "execution_count": null,
   "id": "1",
   "metadata": {},
   "outputs": [],
   "source": [
    "import metobs_toolkit\n",
    "\n",
    "#Initialize an empty Dataset\n",
    "your_dataset = metobs_toolkit.Dataset()"
   ]
  },
  {
   "cell_type": "markdown",
   "id": "2",
   "metadata": {},
   "source": [
    "## Default observation types\n",
    "\n",
    "An observation record must always be linked to an *observation type* which is specified by the ``Obstype`` class. \n",
    "An Obstype represents one observation type (i.g. temperature), and it handles unit conversions and string representations of an observation type. \n",
    "\n",
    "By default, a set of standard observationtypes are stored in a Dataset:"
   ]
  },
  {
   "cell_type": "code",
   "execution_count": null,
   "id": "3",
   "metadata": {},
   "outputs": [],
   "source": [
    "your_dataset.obstypes"
   ]
  },
  {
   "cell_type": "markdown",
   "id": "4",
   "metadata": {},
   "source": [
    "## The Obstype class\n",
    "\n",
    "As an example we take a look at the temperature obstype, which is an instance of the``Obstype`` class."
   ]
  },
  {
   "cell_type": "code",
   "execution_count": null,
   "id": "5",
   "metadata": {},
   "outputs": [],
   "source": [
    "temperature_obstype = your_dataset.obstypes['temp']\n",
    "temperature_obstype.get_info()"
   ]
  },
  {
   "cell_type": "markdown",
   "id": "6",
   "metadata": {},
   "source": [
    "The most important attribute of an ``Obstype`` is it's standard unit. That is the unit to transform and store values in. For temperature this is by default set to degrees Celsius."
   ]
  },
  {
   "cell_type": "code",
   "execution_count": null,
   "id": "7",
   "metadata": {},
   "outputs": [],
   "source": [
    "temperature_obstype.std_unit"
   ]
  },
  {
   "cell_type": "markdown",
   "id": "8",
   "metadata": {},
   "source": [
    "# Creating a new observationtype\n",
    "\n",
    "In practice it is most common that a new observation type is defined before importing the raw dataset. When creating a template file with the ``metobs_toolkit.build_template_prompt()`` function, the prompt will in the end print out snipet of code that will create the new observation type. \n",
    "\n",
    "As an illustration, a we will define a new observationtype for gas-concentrations."
   ]
  },
  {
   "cell_type": "code",
   "execution_count": null,
   "id": "9",
   "metadata": {},
   "outputs": [],
   "source": [
    "gas_concentration = metobs_toolkit.Obstype(\n",
    "        obsname='gas_ratio',\n",
    "        std_unit='ppm', #see all available units: https://github.com/hgrecco/pint/blob/master/pint/default_en.txt\n",
    "        description='The gas consentration measured a 2m',\n",
    "        )"
   ]
  },
  {
   "cell_type": "markdown",
   "id": "10",
   "metadata": {},
   "source": [
    "If you have raw data with concentrations you add them before importing the data."
   ]
  },
  {
   "cell_type": "code",
   "execution_count": null,
   "id": "11",
   "metadata": {},
   "outputs": [],
   "source": [
    "your_dataset = metobs_toolkit.Dataset() #Initiate an empty dataset\n",
    "\n",
    "your_dataset.add_new_observationtype(gas_concentration) #add the new observation\n",
    "\n",
    "#your_dataset.import_data_from_file( ... )\n"
   ]
  },
  {
   "cell_type": "markdown",
   "id": "12",
   "metadata": {},
   "source": [
    "## Obstypes for Modeldata\n",
    "### ModelObstype\n",
    "An extension to the `Obstype` class is the `ModelObstype` class which is used for interacting with GEE dataset. In addition to a regular `Obstype` a `ModelObstype` contains the info which band (of the GEE dataset) represents the observation, and handles the unit conversion. \n",
    "\n",
    "*Note:* All methods that work on `Obstype` do also work on `ModelObstype`.\n",
    "\n",
    "Since a ``ModelObstype`` is specific to a specific GEE dataset, the ``ModelObstype``s are stored per ``GeeDatasetManager`` (= the class in the MetObs-toolkit that defines a Google Earth Engine dataset). \n",
    "\n",
    "The following GEE dataset are define by default:\n",
    "\n",
    "A `ModelObstype` is specific to one GEE dataset. Therefore the known modelobstypes are stored in each `GeeDynamicDatasetManager`. As a default, there is an ERA5-land `GeeDynamicDatasetManager` stored in all Datasets."
   ]
  },
  {
   "cell_type": "code",
   "execution_count": null,
   "id": "13",
   "metadata": {},
   "outputs": [],
   "source": [
    "metobs_toolkit.default_GEE_datasets"
   ]
  },
  {
   "cell_type": "markdown",
   "id": "14",
   "metadata": {},
   "source": [
    "As an example we take a look in the ´ERA5-land´, which is a ``GeeDynamicDatasetManager`` representing the ERA5 dataset on GEE.\n",
    "\n",
    "By using the ``get_info()`` (or by accessing the ``.modelobstypes`` attribute) we can see the present modelobstypes"
   ]
  },
  {
   "cell_type": "code",
   "execution_count": null,
   "id": "15",
   "metadata": {},
   "outputs": [],
   "source": [
    "era5_model = metobs_toolkit.default_GEE_datasets['ERA5-land']\n",
    "era5_model.get_info()"
   ]
  },
  {
   "cell_type": "code",
   "execution_count": null,
   "id": "16",
   "metadata": {},
   "outputs": [],
   "source": [
    "#or by accesing the attribute\n",
    "era5_model.modelobstypes\n"
   ]
  },
  {
   "cell_type": "markdown",
   "id": "17",
   "metadata": {},
   "source": [
    "As an example, we will create a new ModelObstype that represents the accumulated precipitation as is present in the ERA5_land GEE dataset."
   ]
  },
  {
   "cell_type": "code",
   "execution_count": null,
   "id": "18",
   "metadata": {},
   "outputs": [],
   "source": [
    "import pandas as pd\n",
    "from datetime import datetime\n",
    "#Create a new observation type\n",
    "precipitation = metobs_toolkit.Obstype(obsname='cumulated_precip',\n",
    "                                      std_unit='mm',\n",
    "                                      description='Cumulated total precipitation since midnight per squared meter')\n",
    "\n",
    "#Create the ModelObstype\n",
    "precip_in_era5 = metobs_toolkit.ModelObstype(\n",
    "                        obstype=precipitation,\n",
    "                        model_band='total_precipitation', #look this up: https://developers.google.com/earth-engine/datasets/catalog/ECMWF_ERA5_LAND_HOURLY#bands \n",
    "                        model_unit='m',\n",
    "               )\n",
    "# Add it to the ERA5 model\n",
    "era5_model.add_modelobstype(precip_in_era5)\n",
    "\n",
    "era5_model.modelobstypes"
   ]
  },
  {
   "cell_type": "code",
   "execution_count": null,
   "id": "19",
   "metadata": {},
   "outputs": [],
   "source": [
    "precip_in_era5.get_info()"
   ]
  },
  {
   "cell_type": "markdown",
   "id": "20",
   "metadata": {},
   "source": [
    "Now you can extract cumulated precipitation data directly from GEE. We refer to the [GEE Notebook](gee_example.ipynb) for an example on extracting ERA5 data."
   ]
  },
  {
   "cell_type": "markdown",
   "id": "21",
   "metadata": {},
   "source": [
    "### ModelObstype_Vectorfield\n",
    "At a specific height, the wind can be seen (by approximation) as a 2D vector field. The vector components are often stored in different bands/variables in a model.\n",
    "\n",
    "For example, if you want the 10m windspeed from ERA5 you cannot find a band for the windspeed. There are bands for the\n",
    "u and v component of the wind. \n",
    "\n",
    "The `ModelObstype_Vectorfield` class represents a modelobstype, for which there does not exist a band, but can be constructed from (orthogonal) components. The vector amplitudes and direction are computed, and the corresponding `ModelObstype`'s are created.\n",
    "\n",
    "By default, the *wind* is added as a `ModelObstype_vectorfield` for the ERA5-land `GeeDynamicDataset`."
   ]
  },
  {
   "cell_type": "code",
   "execution_count": null,
   "id": "22",
   "metadata": {},
   "outputs": [],
   "source": [
    "era5_model.modelobstypes"
   ]
  },
  {
   "cell_type": "code",
   "execution_count": null,
   "id": "23",
   "metadata": {},
   "outputs": [],
   "source": [
    "era5_wind = era5_model.modelobstypes['wind']\n",
    "era5_wind.get_info()"
   ]
  },
  {
   "cell_type": "markdown",
   "id": "24",
   "metadata": {},
   "source": [
    "So we can see that *wind* corresponds with two bands (the u and v component)."
   ]
  },
  {
   "cell_type": "markdown",
   "id": "25",
   "metadata": {},
   "source": [
    "When extracting the wind data from era5 (on GEE) the toolkit will\n",
    " 1. Download the u and v wind components for your period and locations.\n",
    " 2. Convert each component to its standard units (m/s for the wind components).\n",
    " 3. Compute the amplitude and the direction (in degrees from North, clockwise).\n",
    " 4. Add a `ModelObstype` for the amplitude and one for the direction.\n",
    "\n",
    " For an example, see the [GEE Notebook](gee_example.ipynb)."
   ]
  }
 ],
 "metadata": {
  "kernelspec": {
   "display_name": "metobs_dev",
   "language": "python",
   "name": "python3"
  },
  "language_info": {
   "codemirror_mode": {
    "name": "ipython",
    "version": 3
   },
   "file_extension": ".py",
   "mimetype": "text/x-python",
   "name": "python",
   "nbconvert_exporter": "python",
   "pygments_lexer": "ipython3",
   "version": "3.10.14"
  }
 },
 "nbformat": 4,
 "nbformat_minor": 5
}
