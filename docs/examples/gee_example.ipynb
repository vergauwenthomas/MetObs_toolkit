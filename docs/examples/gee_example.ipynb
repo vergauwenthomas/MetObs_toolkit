{
 "cells": [
  {
   "cell_type": "markdown",
   "id": "0",
   "metadata": {},
   "source": [
    "# Demo: Using a Google Earth engine\n",
    "\n",
    "\n",
    "This example is the continuation of the previous example: [Using a Dataset](https://metobs-toolkit.readthedocs.io/en/latest/examples/doc_example.html). This example serves as a demonstration on how to get meta-data from the Google Earth Engine (GEE). \n",
    "\n",
    "Before proceeding, make sure you have **set up a Google developers account and a GEE project**. See [Using Google Earth Engine](https://metobs-toolkit.readthedocs.io/en/latest/topics/gee_authentication.html#using-google-earth-engine) for a detailed description of this.\n",
    "\n",
    "There are two classes that facilitate the interaction with GEE and the metobs_toolkit:\n",
    "\n",
    " * `GeeStaticDataset`: This class handles GEE Datasets that do not have a time dimension (static). This class is used to extract GEE dataset values at the location of the station (or buffers around them).\n",
    " * `GeeDynamicDataset`: This class handles GEE Datasets that have a time dimension. This class is used to extract timeseries of GEE dataset values at the stations locations.\n",
    "\n",
    "Both classes can hold metadata (=Coordinates of the stations), and the ´GeeDynamicDataset` class can hold timeseries data.\n",
    "\n",
    "In this example, we first demonstrate the `GeeStaticDataset` to extract extra metadata for the stations. Then we demonstrate how to extract timeseries at the station locations using `GeeDynamicDataset`."
   ]
  },
  {
   "cell_type": "markdown",
   "id": "1",
   "metadata": {},
   "source": [
    "## Create your Dataset\n",
    "\n",
    "Create a dataset with the demo data."
   ]
  },
  {
   "cell_type": "code",
   "execution_count": null,
   "id": "2",
   "metadata": {},
   "outputs": [],
   "source": [
    "import metobs_toolkit\n",
    "\n",
    "your_dataset = metobs_toolkit.Dataset()\n",
    "your_dataset.update_file_paths(\n",
    "    input_data_file=metobs_toolkit.demo_datafile, # path to the data file\n",
    "    input_metadata_file=metobs_toolkit.demo_metadatafile,\n",
    "    template_file=metobs_toolkit.demo_template,\n",
    ")\n",
    "\n",
    "your_dataset.import_data_from_file()"
   ]
  },
  {
   "cell_type": "markdown",
   "id": "3",
   "metadata": {},
   "source": [
    "## Extracting LCZ from GEE\n",
    "\n",
    "Here is an example of how to extract the Local Climate Zone (LCZ) information of your stations. First, we take a look at what is present in the metadata of the dataset. "
   ]
  },
  {
   "cell_type": "code",
   "execution_count": null,
   "id": "4",
   "metadata": {},
   "outputs": [],
   "source": [
    "your_dataset.metadf.head()"
   ]
  },
  {
   "cell_type": "markdown",
   "id": "5",
   "metadata": {},
   "source": [
    "To extract geospatial information for your stations, the **lat** and **lon** (latitude and longitude)\n",
    "of your stations must be present in the metadf. If so, then geospatial\n",
    "information will be extracted from GEE at these locations.\n",
    "\n",
    "To extract the Local Climate Zones (LCZs) of your stations:"
   ]
  },
  {
   "cell_type": "code",
   "execution_count": null,
   "id": "6",
   "metadata": {},
   "outputs": [],
   "source": [
    "lcz_values = your_dataset.get_lcz()\n",
    "# The LCZs for all your stations are extracted\n",
    "print(lcz_values)"
   ]
  },
  {
   "cell_type": "markdown",
   "id": "7",
   "metadata": {
    "tags": []
   },
   "source": [
    "The first time, in each session, you are asked to authenticated by Google.\n",
    "Select your Google account and billing project that you have set up and accept the terms of the condition.\n",
    "\n",
    "*NOTE: For small data-requests the read-only scopes are sufficient, for large data-requests this is insufficient because the data will be written directly to your Google Drive.*"
   ]
  },
  {
   "cell_type": "markdown",
   "id": "8",
   "metadata": {},
   "source": [
    "The metadata of your dataset is also updated"
   ]
  },
  {
   "cell_type": "code",
   "execution_count": null,
   "id": "9",
   "metadata": {},
   "outputs": [],
   "source": [
    "print(your_dataset.metadf['lcz'].head())"
   ]
  },
  {
   "cell_type": "markdown",
   "id": "10",
   "metadata": {},
   "source": [
    "To make a geospatial plot you can use the following method:"
   ]
  },
  {
   "cell_type": "code",
   "execution_count": null,
   "id": "11",
   "metadata": {},
   "outputs": [],
   "source": [
    "your_dataset.make_geo_plot(variable=\"lcz\")"
   ]
  },
  {
   "cell_type": "markdown",
   "id": "12",
   "metadata": {},
   "source": [
    "## Extracting other Geospatial information\n",
    "\n",
    "Similar as LCZ extraction you can extract the altitude of the stations (from a digital elevation model):"
   ]
  },
  {
   "cell_type": "code",
   "execution_count": null,
   "id": "13",
   "metadata": {},
   "outputs": [],
   "source": [
    "altitudes = your_dataset.get_altitude() #The altitudes are in meters above sea level.\n",
    "print(altitudes)"
   ]
  },
  {
   "cell_type": "markdown",
   "id": "14",
   "metadata": {},
   "source": [
    "A more detailed description of the landcover/land use in the microenvironment can be extracted in the form of landcover fractions in a circular buffer for each station.\n",
    "\n",
    "You can select to aggregate the landcover classes to water - pervious and impervious, or set aggregation to false to extract the landcover classes as present in the worldcover_10m dataset."
   ]
  },
  {
   "cell_type": "code",
   "execution_count": null,
   "id": "15",
   "metadata": {},
   "outputs": [],
   "source": [
    "aggregated_landcover = your_dataset.get_landcover(\n",
    "                                        buffers=[100, 250], # a list of buffer radii in meters\n",
    "                                        aggregate=True #if True, aggregate landcover classes to the water, pervious and impervious.\n",
    "                                        )\n",
    "\n",
    "print(aggregated_landcover)"
   ]
  },
  {
   "cell_type": "markdown",
   "id": "16",
   "metadata": {},
   "source": [
    "### Plotting with GeeStaticDataset \n",
    "\n",
    "You can make an interactive plot of a `GeeStaticDataset`, by using the `GeeStaticDataset.make_gee_plot()` method.\n",
    "\n",
    "*Note: Not all Python environments can visualize the interactive map. If that is the case for you, you can save the map\n",
    "as a (html) file, and open it with your browser.*"
   ]
  },
  {
   "cell_type": "code",
   "execution_count": null,
   "id": "17",
   "metadata": {},
   "outputs": [],
   "source": [
    "# The (default) Gee Modeldata is stored in all Datasets\n",
    "your_dataset.gee_datasets"
   ]
  },
  {
   "cell_type": "markdown",
   "id": "18",
   "metadata": {},
   "source": [
    "We can see 'lcz' is a known GeeStaticDataset, so we can plot it"
   ]
  },
  {
   "cell_type": "code",
   "execution_count": null,
   "id": "19",
   "metadata": {},
   "outputs": [],
   "source": [
    "lcz_map = your_dataset.gee_datasets['lcz']"
   ]
  },
  {
   "cell_type": "code",
   "execution_count": null,
   "id": "20",
   "metadata": {},
   "outputs": [],
   "source": [
    "#Make the plot\n",
    "your_dataset.make_gee_static_spatialplot(Model=your_dataset.gee_datasets['lcz'])"
   ]
  },
  {
   "cell_type": "markdown",
   "id": "21",
   "metadata": {},
   "source": [
    "*note : In the online documentation, no GEE data is shown. This is because the map is interactive, and requires GEE authentication which is not publicly available.*"
   ]
  },
  {
   "cell_type": "markdown",
   "id": "22",
   "metadata": {},
   "source": [
    "## Extracting ERA5 timeseries \n",
    "\n",
    "Now we demonstrate how to use the `GeeDynamicDataset`, and use the ERA5-land (GEE) dataset for it.\n",
    "All available Gee Modeldata's for your Dataset are stored in the `GeeDynamicDataset.gee_datasets`."
   ]
  },
  {
   "cell_type": "code",
   "execution_count": null,
   "id": "23",
   "metadata": {},
   "outputs": [],
   "source": [
    "your_dataset.gee_datasets"
   ]
  },
  {
   "cell_type": "code",
   "execution_count": null,
   "id": "24",
   "metadata": {},
   "outputs": [],
   "source": [
    "era5_model = your_dataset.gee_datasets['ERA5-land']\n",
    "era5_model.get_info()"
   ]
  },
  {
   "cell_type": "markdown",
   "id": "25",
   "metadata": {},
   "source": [
    "We can see that *temp* is a known `ModelObstype` present in the era_model. Thus we can use it to extract temperature timeseries. \n",
    "\n",
    "If the target `ModelObstype` is not present, create the `ModelObstype` and add it with `GeeDynamicDataset.add_modelobstype()`."
   ]
  },
  {
   "cell_type": "markdown",
   "id": "26",
   "metadata": {},
   "source": [
    "\n",
    "The toolkit has built-in functionality to extract ERA5 time series at the station locations. The ERA5 data will be stored in a [Modeldata](https://metobs-toolkit.readthedocs.io/en/latest/reference/modeldata.html) instance. Here is an example on how to get the ERA5 time series by using the ``get_modeldata()`` method."
   ]
  },
  {
   "cell_type": "code",
   "execution_count": null,
   "id": "27",
   "metadata": {},
   "outputs": [],
   "source": [
    "%config InlineBackend.print_figure_kwargs = {'bbox_inches':None} #else the legend is cutoff in ipython inline plots"
   ]
  },
  {
   "cell_type": "code",
   "execution_count": null,
   "id": "28",
   "metadata": {},
   "outputs": [],
   "source": [
    "#Get the ERA5 data for a single station (to reduce data transfer)\n",
    "your_station = your_dataset.get_station('vlinder02')\n",
    "\n",
    "#Extract time series at the location of the station\n",
    "ERA5_data = your_station.get_modeldata(Model=era5_model, \n",
    "                                       obstypes=['temp'], \n",
    "                                       startdt=None, #if None, the start of the observations is used \n",
    "                                       enddt=None, #if None, the end of the observations is used \n",
    "                                       get_all_bands=False #if True, all the GEE bands are extracted.\n",
    "                                       )\n",
    "\n",
    "#Get info\n",
    "print(ERA5_data)\n",
    "ERA5_data.make_plot(obstype_model='temp', \n",
    "                    Dataset=your_station, #add the observations to the same plot \n",
    "                    obstype_dataset='temp')\n"
   ]
  },
  {
   "cell_type": "markdown",
   "id": "29",
   "metadata": {},
   "source": [
    "### GEE data transfer\n",
    "\n",
    "There is a limit to the amount of data that can be transferred directly from GEE. When the data cannot be transferred directly, **it will be written to a file on your Google Drive**. The location of the file will be printed out. When the writing to the file is done, you must download the file and import it to an empty *Modeldata* instance using the ``set_model_from_csv()`` method. "
   ]
  },
  {
   "cell_type": "code",
   "execution_count": null,
   "id": "30",
   "metadata": {},
   "outputs": [],
   "source": [
    "#Illustration\n",
    "#Extract time series at the locations all the station\n",
    "ERA5_data = your_dataset.get_modeldata(Model=era5_model, \n",
    "                                       obstypes=['temp'], \n",
    "                                       startdt=None, #if None, the start of the observations is used \n",
    "                                       enddt=None, #if None, the end of the observations is used \n",
    "                                       force_to_drive=True, #We can force it to use Google Drive\n",
    "                                       )\n",
    "\n",
    "#Because the data amount is too large (or because of the force_to_drive),\n",
    "# it will be written to a file on your Google Drive! The returned Modeldata is empty.\n",
    "print(ERA5_data)\n"
   ]
  },
  {
   "cell_type": "code",
   "execution_count": null,
   "id": "31",
   "metadata": {},
   "outputs": [],
   "source": [
    "#See the output to find the modeldata in your Google Drive, and download the file.\n",
    "#Update the empty Modeldata with the data from the file\n",
    "\n",
    "#ERA5_data.set_model_from_csv(csvpath='/home/..../era5_data.csv') #The path to the downloaded file\n",
    "#print(ERA5_data)"
   ]
  },
  {
   "cell_type": "markdown",
   "id": "32",
   "metadata": {},
   "source": [
    "## Plotting with GeeDynamicDataset\n",
    "\n",
    "You can make an interactive spatial plot to visualize the stations spatially by using the ``make_gee_plot()``."
   ]
  },
  {
   "cell_type": "code",
   "execution_count": null,
   "id": "33",
   "metadata": {},
   "outputs": [],
   "source": [
    "str(your_dataset)\n"
   ]
  },
  {
   "cell_type": "code",
   "execution_count": null,
   "id": "34",
   "metadata": {},
   "outputs": [],
   "source": [
    "import datetime\n",
    "at_time = datetime.datetime(2022,9,12,16)\n",
    "print(at_time)\n",
    "\n",
    "spatial_map = your_dataset.make_gee_dynamic_spatialplot(\n",
    "                            timeinstance=at_time,\n",
    "                            Model=era5_model,\n",
    "                            modelobstype='temp',\n",
    "                            vmin=None, #if none, toolkit makes a guess based on your stations\n",
    "                            vmax=None) #if none, toolkit makes a guess based on your stations)\n",
    "spatial_map"
   ]
  },
  {
   "cell_type": "markdown",
   "id": "35",
   "metadata": {},
   "source": [
    "*note : In the online documentation, no GEE data is shown. This is because the map is interactive, and requires GEE authentication which is not publicly available.*"
   ]
  }
 ],
 "metadata": {
  "language_info": {
   "name": "python"
  }
 },
 "nbformat": 4,
 "nbformat_minor": 5
}
