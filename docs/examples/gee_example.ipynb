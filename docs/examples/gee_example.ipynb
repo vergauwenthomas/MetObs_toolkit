{
 "cells": [
  {
   "cell_type": "markdown",
   "id": "0",
   "metadata": {},
   "source": [
    "# Demo: Using a Google Earth engine\n",
    "\n",
    "\n",
    " This example serves as a demonstration on how to interact with Google Earth Engine (GEE) from within the MetObs-toolkit framework."
   ]
  },
  {
   "cell_type": "code",
   "execution_count": null,
   "id": "1",
   "metadata": {},
   "outputs": [],
   "source": [
    "import metobs_toolkit"
   ]
  },
  {
   "cell_type": "markdown",
   "id": "2",
   "metadata": {},
   "source": [
    "## GEE authentication\n",
    "\n",
    "Before proceeding, make sure you have **set up a Google developers account and a GEE project**. See [Using Google Earth Engine](https://metobs-toolkit.readthedocs.io/en/latest/topics/gee_authentication.html#using-google-earth-engine) for a detailed description of this.\n",
    "\n",
    "To test the GEE authentication we can use the ``metobs_toolkit.connect_to_gee`` method. If you authenticate using new credentials, make sure **NOT** to check the *read-only-scopes*. (See Extracting ERA5 data)."
   ]
  },
  {
   "cell_type": "code",
   "execution_count": null,
   "id": "3",
   "metadata": {},
   "outputs": [],
   "source": [
    "%%script true \n",
    "\n",
    "metobs_toolkit.connect_to_gee() #Uses a credetial file that is stored on your computer"
   ]
  },
  {
   "cell_type": "markdown",
   "id": "4",
   "metadata": {},
   "source": [
    "If something is wrong with your credential (or it is the first time/ expiered credetials) you can force the creation of a new credential (file). You only need to run this if the `metobs_toolkit.connect_to_gee()` returned an error."
   ]
  },
  {
   "cell_type": "code",
   "execution_count": null,
   "id": "5",
   "metadata": {},
   "outputs": [],
   "source": [
    "%%script true \n",
    "\n",
    "metobs_toolkit.connect_to_gee(\n",
    "    force=True, #create new credentials\n",
    "    auth_mode='notebook', # 'notebook', 'localhost', 'gcloud' (requires gcloud installed) or 'colab' (works only in colab)\n",
    ")"
   ]
  },
  {
   "cell_type": "markdown",
   "id": "6",
   "metadata": {},
   "source": [
    "For more details on authentication we refer to the `Using Google Earth Engine <../Using_gee.html>`_ page and the [authentication info page](https://developers.google.com/earth-engine/guides/auth) of GEE."
   ]
  },
  {
   "cell_type": "markdown",
   "id": "7",
   "metadata": {},
   "source": [
    "## GEE interaction from the MetObs-toolkit\n",
    "\n",
    "There are two classes that facilitate the interaction with GEE and the metobs_toolkit:\n",
    "\n",
    " * ``GeeStaticDatasetManager``: This class handles GEE Datasets that do not have a time dimension (static).\n",
    " * ``GeeDynamicDatasetManager``: This class handles GEE Datasets that have a time dimension.\n",
    "\n",
    " Both classes holds all the information to extract data, at the location of your stations, \n",
    " from the corresponding GEE dataset. For the ``GeeStaticDatasetManager`` the extracted data will update the metadata of the stations and the corresponding ``Station.site`` attribute will be update. Typical examples are the extraction of Local Climate Zones (LCZ), altitude and landcoverfractions. \n",
    "\n",
    " When data is extracted using a ``GeeDynamicDatasetManager``, timeseries is typically extracted. These timeseries are stored in ``ModelTimeSeries``. Typical examples are the extraction of ERA5 equivalent timeseries for a sensor.\n",
    "\n",
    "\n",
    "By default some a GEEDatasetManager is create for some popular datasets:"
   ]
  },
  {
   "cell_type": "code",
   "execution_count": null,
   "id": "8",
   "metadata": {},
   "outputs": [],
   "source": [
    "default_managers=metobs_toolkit.default_GEE_datasets\n",
    "default_managers"
   ]
  },
  {
   "cell_type": "markdown",
   "id": "9",
   "metadata": {},
   "source": [
    "We can see that by default there are 3 ``GeeStaticDatasetManagers`` (lcz, altitude and worldcover), and one ``GeeDynamicDatasetManager`` (ERA5-land).\n",
    "\n",
    "Let's look at the local climate zones (LCZ) dataset manager as example:"
   ]
  },
  {
   "cell_type": "code",
   "execution_count": null,
   "id": "10",
   "metadata": {},
   "outputs": [],
   "source": [
    "default_managers['LCZ'].get_info()"
   ]
  },
  {
   "cell_type": "markdown",
   "id": "11",
   "metadata": {},
   "source": [
    "As you can see, the DatasetManager contains info on where this dataset is stored on GEE, some details on the dataset and some defenitions (color schemes, aggregation, label defenitions)."
   ]
  },
  {
   "cell_type": "markdown",
   "id": "12",
   "metadata": {},
   "source": [
    "# Extracting data from GEE\n",
    "\n",
    "As a demonstration we are going to extract data from GEE. When we use the MetObs-toolkit for it, it will **extract data from GEE only at the locations of the stations**. This extracted data is thus linked to a station (by location).\n",
    "\n",
    "Some common pracktices are to get the LCZ, altitude and some landcover information of all the stations. We start by importin the demo data and extract these details from corresponding datasets on GEE."
   ]
  },
  {
   "cell_type": "code",
   "execution_count": null,
   "id": "13",
   "metadata": {},
   "outputs": [],
   "source": [
    "#Import the demo dataset\n",
    "dataset = metobs_toolkit.Dataset()\n",
    "dataset.import_data_from_file(\n",
    "    template_file=metobs_toolkit.demo_template,\n",
    "    input_data_file=metobs_toolkit.demo_datafile,\n",
    "    input_metadata_file=metobs_toolkit.demo_metadatafile,\n",
    ")"
   ]
  },
  {
   "cell_type": "markdown",
   "id": "14",
   "metadata": {},
   "source": [
    "The current metdata is rather limited:"
   ]
  },
  {
   "cell_type": "code",
   "execution_count": null,
   "id": "15",
   "metadata": {},
   "outputs": [],
   "source": [
    "dataset.metadf.head(5)"
   ]
  },
  {
   "cell_type": "markdown",
   "id": "16",
   "metadata": {},
   "source": [
    "To extract geospatial information for your stations, the **lat** and **lon** (latitude and longitude)\n",
    "of your stations must be present in the metadf. If so, then geospatial\n",
    "information will be extracted from GEE at these locations."
   ]
  },
  {
   "cell_type": "markdown",
   "id": "17",
   "metadata": {},
   "source": [
    "### Extracting LCZ from GEE\n",
    "To extract the Local Climate Zones (LCZs) of your stations:"
   ]
  },
  {
   "cell_type": "code",
   "execution_count": null,
   "id": "18",
   "metadata": {},
   "outputs": [],
   "source": [
    "LCZ_values = dataset.get_LCZ()\n",
    "\n",
    "# The LCZs for all your stations are extracted\n",
    "print(LCZ_values.head(5))"
   ]
  },
  {
   "cell_type": "markdown",
   "id": "19",
   "metadata": {},
   "source": [
    "The LCZ data is returned by the ``Dataset.get_lcz()`` method. In addition metadata (stored in the ``Station.site`` attribute) of your dataset is also updated."
   ]
  },
  {
   "cell_type": "code",
   "execution_count": null,
   "id": "20",
   "metadata": {},
   "outputs": [],
   "source": [
    "dataset.metadf.head(5)"
   ]
  },
  {
   "cell_type": "markdown",
   "id": "21",
   "metadata": {},
   "source": [
    "*Note* All the methods in this demo that are applied on a ``Dataset`` can also be applied on a ``Station``"
   ]
  },
  {
   "cell_type": "code",
   "execution_count": null,
   "id": "22",
   "metadata": {},
   "outputs": [],
   "source": [
    "#demonstration an Station-level\n",
    "your_station = dataset.get_station('vlinder21')\n",
    "the_LCZ_of_your_statation = your_station.get_LCZ()\n",
    "\n",
    "print(\"The LCZ of vlinder21 is: \", the_LCZ_of_your_statation)\n",
    "\n",
    "#or instpect the site attribute of the station\n",
    "your_station.site.get_info()"
   ]
  },
  {
   "cell_type": "markdown",
   "id": "23",
   "metadata": {},
   "source": [
    "### Extracting alitutde from GEE\n",
    "\n",
    "Similar as LCZ extraction we can get the altitude of the stations. "
   ]
  },
  {
   "cell_type": "code",
   "execution_count": null,
   "id": "24",
   "metadata": {},
   "outputs": [],
   "source": [
    "#Get altitude\n",
    "altitude_data = dataset.get_altitude()\n",
    "\n",
    "#FYI, the details of the DEM dataset:\n",
    "metobs_toolkit.default_GEE_datasets['altitude'].get_info()\n",
    "\n",
    "#The metadata is updated (altitude in meters)\n",
    "dataset.metadf.head(5)"
   ]
  },
  {
   "cell_type": "markdown",
   "id": "25",
   "metadata": {},
   "source": [
    "### Extracting landcover buffer fractions\n",
    "\n",
    "A more detailed description of the landcover/land use in the microenvironment can be extracted in the form of landcover fractions in a circular buffer for each station.\n",
    "\n",
    "You can select to aggregate the landcover classes to water - pervious and impervious, or set aggregation to false to extract the landcover classes as present in the worldcover_10m dataset."
   ]
  },
  {
   "cell_type": "code",
   "execution_count": null,
   "id": "26",
   "metadata": {},
   "outputs": [],
   "source": [
    "aggregated_landcover = dataset.get_landcover_fractions(\n",
    "                                        buffers=[100, 250], # a list of buffer radii in meters\n",
    "                                        aggregate=True #if True, aggregate landcover classes to the water, pervious and impervious.\n",
    "                                        )\n",
    "\n",
    "print(aggregated_landcover.head(5))"
   ]
  },
  {
   "cell_type": "markdown",
   "id": "27",
   "metadata": {},
   "source": [
    "We have extracted the landcover fractions for multiple buffers. Similar as with LCZ and altitude extraction, the metadata of the stations is updated."
   ]
  },
  {
   "cell_type": "code",
   "execution_count": null,
   "id": "28",
   "metadata": {},
   "outputs": [],
   "source": [
    "dataset.metadf.head(5)\n"
   ]
  },
  {
   "cell_type": "markdown",
   "id": "29",
   "metadata": {},
   "source": [
    "### Plotting a GeeStaticDatasetManager\n",
    "\n",
    "You can make an interactive plot of a static GEE dataset, by using the ``GeeStaticDatasetManager.make_gee_plot()`` method. Equivalent is the the ``Dataset.make_gee_plot()`` method, that will also show the locations of the stations on the map.\n",
    "\n",
    "*Note: Not all Python environments can visualize the interactive map. If that is the case for you, you can save the map\n",
    "as a (html) file, and open it with your browser.*"
   ]
  },
  {
   "cell_type": "code",
   "execution_count": null,
   "id": "30",
   "metadata": {},
   "outputs": [],
   "source": [
    "#Get a GeeStaticDatasetManager to plot\n",
    "geemanager_to_plot = metobs_toolkit.default_GEE_datasets['LCZ']\n",
    "\n",
    "dataset.make_gee_plot(geedatasetmanager=geemanager_to_plot)"
   ]
  },
  {
   "cell_type": "markdown",
   "id": "31",
   "metadata": {},
   "source": [
    "## Extracting ERA5 timeseries \n",
    "\n",
    "Now we demonstrate how to use the `GeeDynamicDatasetManager`, and use the ERA5-land (GEE) dataset for it."
   ]
  },
  {
   "cell_type": "code",
   "execution_count": null,
   "id": "32",
   "metadata": {},
   "outputs": [],
   "source": [
    "era5_manager = metobs_toolkit.default_GEE_datasets['ERA5-land']\n",
    "era5_manager.get_info()"
   ]
  },
  {
   "cell_type": "markdown",
   "id": "33",
   "metadata": {},
   "source": [
    "As you can see, a ``GeeDynamicDatasetManager`` holds the information on the location of the dataset on GEE and a collection of ``ModelObstype``s. These ``ModelObstypes`` are used to interpret the bands of the dataset to obstypes (unit conversions etc.)"
   ]
  },
  {
   "cell_type": "markdown",
   "id": "34",
   "metadata": {},
   "source": [
    "As an example we donwload 2m temperature timeseries for one day, for all the stations (locations) in the dataset."
   ]
  },
  {
   "cell_type": "code",
   "execution_count": null,
   "id": "35",
   "metadata": {},
   "outputs": [],
   "source": [
    "dataset.start_datetime\n"
   ]
  },
  {
   "cell_type": "code",
   "execution_count": null,
   "id": "36",
   "metadata": {},
   "outputs": [],
   "source": [
    "import pandas as pd\n",
    "#Specify a start and end timestamp\n",
    "tstart = pd.Timestamp('2022-09-02 00:00:00')\n",
    "tend = pd.Timestamp('2022-09-03 00:00:00')\n",
    "\n",
    "#Extract the timeseries \n",
    "era5_temp = dataset.get_gee_timeseries_data(\n",
    "            geedynamicdatasetmanager=era5_manager, #The datasetmanager to use\n",
    "            startdt_utc=tstart,\n",
    "            enddt_utc=tend,\n",
    "            target_obstypes=['temp'], #the observationtypes to extract, must be knonw modelobstypes\n",
    "            get_all_bands=False, #If true, all bands are extracted (but not stored in the stations if the band is unknwown)\n",
    "            )\n",
    "\n",
    "era5_temp.head()"
   ]
  },
  {
   "cell_type": "markdown",
   "id": "37",
   "metadata": {},
   "source": [
    "As you can see, the temperature data is :\n",
    "* Extracted as timeseries at the location of the stations\n",
    "* The timeseries are formatted in a pandas Dataframe\n",
    "* If the requested bands have a corresponding ModelObstype: \n",
    "  * Units are converted to the standard unit. So that the unit of the observations is the same as those of the extracted modeldata.\n",
    "  * The timeseries are stored as ``ModelTimeSeries`` for each ``Station``. \n",
    "\n",
    "The temperature data is thus stored as timeseries in each station."
   ]
  },
  {
   "cell_type": "code",
   "execution_count": null,
   "id": "38",
   "metadata": {},
   "outputs": [],
   "source": [
    "\n",
    "dataset.get_station('vlinder12').modeldata"
   ]
  },
  {
   "cell_type": "markdown",
   "id": "39",
   "metadata": {},
   "source": [
    "More convenient is to use the ``.modeldatadf`` attribute to get all the stored modeldata in a dataframe."
   ]
  },
  {
   "cell_type": "code",
   "execution_count": null,
   "id": "40",
   "metadata": {},
   "outputs": [],
   "source": [
    "dataset.modeldatadf"
   ]
  },
  {
   "cell_type": "markdown",
   "id": "41",
   "metadata": {},
   "source": [
    "## Plotting with GeeDynamicDataset\n",
    "\n",
    "There are two implementation to plot a dynamic dataset.\n",
    "\n",
    "1. You can plot the extracted timeseries using the `.make_plot_of_modeldata()` or use the `.make_plot(..., show_modeldata=True,... )` method.\n",
    "\n",
    "2. You can make an interactive spatial plot of the GEE dataset using the `.make_gee_plot()` method."
   ]
  },
  {
   "cell_type": "code",
   "execution_count": null,
   "id": "42",
   "metadata": {},
   "outputs": [],
   "source": [
    "#Plot the modeldata and observational temperatures of a single station\n",
    "dataset.get_station('vlinder04').make_plot(obstype='temp', show_modeldata=True)"
   ]
  },
  {
   "cell_type": "code",
   "execution_count": null,
   "id": "43",
   "metadata": {},
   "outputs": [],
   "source": [
    "#Interactive spatial plot of the GEE dataset (with the stations as markers)\n",
    "\n",
    "dataset.make_gee_plot(\n",
    "    geedatasetmanager=era5_manager,\n",
    "    timeinstance=pd.Timestamp('2022-09-02 13:00:00'),\n",
    "    modelobstype='temp',\n",
    "    vmax=None, #if None, the colorscale is optimalized for the extend of all stations\n",
    "    vmin=None, #if None, the colorscale is optimalized for the extend of all stations\n",
    "    )"
   ]
  },
  {
   "cell_type": "markdown",
   "id": "44",
   "metadata": {},
   "source": [
    "## Transfer of larger amounts of data \n",
    "\n",
    "There is a limit to the amount of data that can be transferred directly from GEE. When the data cannot be transferred directly, **it will be written to a file on your Google Drive**. The location of the file will be printed out. When the writing to the file is done, you must download the file and import it using the ``Dataset.import_gee_data_from_file()`` method.\n",
    "\n",
    "*Note*: The reason not to check the *read-only* option upon GEE authentication is to enable possibility to write files to your google drive.\n",
    "\n",
    "As a demonstration we download the temperature and pressure timeseries from ERA5-land, for all the stations and for the same period as the observations (15 days). This amount of data is to large to transfer directly. "
   ]
  },
  {
   "cell_type": "code",
   "execution_count": null,
   "id": "45",
   "metadata": {},
   "outputs": [],
   "source": [
    "\n",
    "#Extract the timeseries \n",
    "_nothing_returned = dataset.get_gee_timeseries_data(\n",
    "            geedynamicdatasetmanager=era5_manager, #The datasetmanager to use\n",
    "            startdt_utc=None, #If None, the startdt of the dataset observations is used\n",
    "            enddt_utc=None, #If None, the startdt of the dataset observations is used\n",
    "            target_obstypes=['temp', 'pressure'], #the observationtypes to extract, must be knonw modelobstypes\n",
    "            )\n"
   ]
  },
  {
   "cell_type": "markdown",
   "id": "46",
   "metadata": {},
   "source": [
    "The data request was to big for direct transfer, a (CSV) file is written to your Google Drive (See the link in the printed warning).\n",
    "\n",
    "Download that file, and then import the modeldata from the file."
   ]
  },
  {
   "cell_type": "code",
   "execution_count": null,
   "id": "47",
   "metadata": {},
   "outputs": [],
   "source": [
    "%%script true \n",
    "\n",
    "#Import the ERA5 data\n",
    "dataset.import_gee_data_from_file(\n",
    "        filepath= '... path to the downloaded file ...',\n",
    "        geedynamicdatasetmanager=era5_manager\n",
    "        )"
   ]
  },
  {
   "cell_type": "markdown",
   "id": "48",
   "metadata": {},
   "source": [
    "# Extending the defaults\n",
    "\n",
    "The default GeeDatasetManager are illustrative and they may not be sufficient. Here are some demonstrations on how to extend upon the defaults."
   ]
  },
  {
   "cell_type": "markdown",
   "id": "49",
   "metadata": {},
   "source": [
    "### Using a new ModelObstype\n",
    "\n",
    "In this demo we add the surface sensible heat flux as a new modelobstype and download the timeseries at the location of the stations.\n",
    "\n",
    "See the [details of the ERA5-land](https://developers.google.com/earth-engine/datasets/catalog/ECMWF_ERA5_LAND_HOURLY) dataset."
   ]
  },
  {
   "cell_type": "code",
   "execution_count": null,
   "id": "50",
   "metadata": {},
   "outputs": [],
   "source": [
    "#1. Create a observation type\n",
    "sensible_heat_flux = metobs_toolkit.Obstype(\n",
    "                        obsname='sensible_heat_flux',\n",
    "                        std_unit='kJ/m^2',\n",
    "                        description='The 2m sensible heat flux.')\n",
    "\n",
    "#2. Make a ModelObstype\n",
    "sensible_heat_flux_era5 = metobs_toolkit.ModelObstype(\n",
    "                            obstype=sensible_heat_flux,\n",
    "                            model_unit='J/m^2', #see details on GEE\n",
    "                            model_band='surface_sensible_heat_flux') #see details on GEE\n",
    "\n",
    "#3. Add the ModelObstype to the dataset manager\n",
    "era5_manager = metobs_toolkit.default_GEE_datasets['ERA5-land']\n",
    "era5_manager.add_modelobstype(sensible_heat_flux_era5)\n",
    "\n",
    "\n",
    "#4. Extract some sensible heat flux data (for a single station as demo)\n",
    "sens_heat_flx_data = dataset.get_station('vlinder04').get_gee_timeseries_data(\n",
    "                        geedynamicdatasetmanager=era5_manager,\n",
    "                        startdt_utc=None,\n",
    "                        enddt_utc=None,\n",
    "                        target_obstypes=['sensible_heat_flux'] #refer by obsname\n",
    "                        )\n",
    "#The sensible heat flux data is stored as modeldata in the station (if the direct transfer is succescfull!)\n",
    "\n",
    "#5. make a plot\n",
    "dataset.get_station('vlinder04').make_plot_of_modeldata(obstype='sensible_heat_flux')\n",
    "\n",
    "#6. You can also get the data using the modeldatadf attribute\n",
    "dataset.get_station('vlinder04').modeldatadf\n"
   ]
  },
  {
   "cell_type": "markdown",
   "id": "51",
   "metadata": {},
   "source": [
    "### Defining a new GEE dataset\n",
    "\n",
    "In this example we create a new ``GeeDyanamicDatasetManager`` that is a JAXA reanalysis product for global precipitation, see [JAXA_GPM_L3_GSMaP_v8_operational](https://developers.google.com/earth-engine/datasets/catalog/JAXA_GPM_L3_GSMaP_v8_operational) details.\n"
   ]
  },
  {
   "cell_type": "code",
   "execution_count": null,
   "id": "52",
   "metadata": {},
   "outputs": [],
   "source": [
    "#1. Create an pricipitation observationtype\n",
    "\n",
    "precip_rate = metobs_toolkit.Obstype(obsname='precip_rate',\n",
    "                                     std_unit='mm/hour',\n",
    "                                     description='Rain precipitation rate at surface.')\n",
    "#2. Create a ModelObstype \n",
    "precip_GPM = metobs_toolkit.ModelObstype(\n",
    "                obstype=precip_rate,\n",
    "                model_unit='mm/hour', #See GEE dataset details\n",
    "                model_band='hourlyPrecipRate',#See GEE dataset details\n",
    "                ) \n",
    "\n",
    "#3. Create a ModelDataManager\n",
    "GPM_v8_manager = metobs_toolkit.GEEDynamicDatasetManager(\n",
    "    name='JAXA_GPM_reanalysis', \n",
    "    location=\"JAXA/GPM_L3/GSMaP/v8/operational\", #See GEE dataset details\n",
    "    value_type='numeric',\n",
    "    scale=50,\n",
    "    time_res='1h',\n",
    "    modelobstypes=[precip_GPM],\n",
    "    is_image=False,\n",
    "    is_mosaic=False,\n",
    ")\n",
    "\n",
    "#4. Extract precipitation timeseries data\n",
    "precip_data = dataset.get_station('vlinder04').get_gee_timeseries_data(\n",
    "                        geedynamicdatasetmanager=GPM_v8_manager,\n",
    "                        startdt_utc=None,\n",
    "                        enddt_utc=None,\n",
    "                        target_obstypes=['precip_rate'] #refer by obsname\n",
    "                        )\n",
    "\n",
    "# 5. make a plot\n",
    "dataset.get_station('vlinder04').make_plot_of_modeldata(obstype='precip_rate')\n",
    "\n",
    "# 6. You can also get the data using the modeldatadf attribute\n",
    "dataset.get_station('vlinder04').modeldatadf"
   ]
  },
  {
   "cell_type": "code",
   "execution_count": null,
   "id": "53",
   "metadata": {},
   "outputs": [],
   "source": [
    "#Or you can make an interactive spatial plot\n",
    "dataset.make_gee_plot(\n",
    "        geedatasetmanager=GPM_v8_manager,\n",
    "        modelobstype='precip_rate',\n",
    "        timeinstance=pd.Timestamp('2022-09-08 16:00:00'))\n"
   ]
  }
 ],
 "metadata": {
  "kernelspec": {
   "display_name": "metobs_dev",
   "language": "python",
   "name": "python3"
  },
  "language_info": {
   "codemirror_mode": {
    "name": "ipython",
    "version": 3
   },
   "file_extension": ".py",
   "mimetype": "text/x-python",
   "name": "python",
   "nbconvert_exporter": "python",
   "pygments_lexer": "ipython3",
   "version": "3.10.14"
  }
 },
 "nbformat": 4,
 "nbformat_minor": 5
}
