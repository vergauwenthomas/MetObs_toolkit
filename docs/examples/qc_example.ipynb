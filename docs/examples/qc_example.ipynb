{
 "cells": [
  {
   "cell_type": "markdown",
   "id": "0",
   "metadata": {},
   "source": [
    "# Demo: Applying Quality Control.\n",
    "In this example, we apply Quality Control (QC) on the demo data. \n",
    "\n",
    "## Create your dataset\n",
    "We start by creating a dataset."
   ]
  },
  {
   "cell_type": "code",
   "execution_count": null,
   "id": "1",
   "metadata": {},
   "outputs": [],
   "source": [
    "%config InlineBackend.print_figure_kwargs = {'bbox_inches':None} #else the legend is cutoff in ipython inline plots"
   ]
  },
  {
   "cell_type": "code",
   "execution_count": null,
   "id": "2",
   "metadata": {},
   "outputs": [],
   "source": [
    "import metobs_toolkit\n",
    "your_dataset = metobs_toolkit.Dataset()\n",
    "your_dataset.update_file_paths(\n",
    "    input_data_file=metobs_toolkit.demo_datafile, # path to the data file\n",
    "    input_metadata_file=metobs_toolkit.demo_metadatafile,\n",
    "    template_file=metobs_toolkit.demo_template,\n",
    ")\n",
    "\n",
    "your_dataset.import_data_from_file()"
   ]
  },
  {
   "cell_type": "markdown",
   "id": "3",
   "metadata": {},
   "source": [
    "A number of quality control methods are available in the toolkit. We can classify them into two groups:\n",
    "\n",
    "1. **Quality control for missing/duplicated or invalid timestamps**. This is applied to the raw data and is not based on the observational value but merely on the presence of a record. \n",
    "2. **Quality control for bad observations**. These are not automatically executed. These checks are performed in a sequence of specific checks, that are looking for signatures of typically bad observations.\n",
    "\n",
    "## Quality control for missing/duplicated and invalid timestamps\n",
    "Since this is applied to the raw data, the following quality control checks are automatically performed when reading the data:\n",
    "\n",
    "* Nan check: Test if the value of an observation can be converted to a numeric value.\n",
    "* Gap finder: Test if there are missing records. These are stored as `metobs_toolkit.Gap()`.\n",
    "* Duplicate check: Test if each observation (station name, timestamp, observation type) is unique.\n",
    "\n",
    "As an example, you can see that there is a missing timestamp (=gap) in the time series of some stations:"
   ]
  },
  {
   "cell_type": "code",
   "execution_count": null,
   "id": "4",
   "metadata": {},
   "outputs": [],
   "source": [
    "your_dataset.get_station('vlinder02').make_plot(colorby='label')"
   ]
  },
  {
   "cell_type": "markdown",
   "id": "5",
   "metadata": {},
   "source": [
    "\n",
    "## Quality control for bad observations\n",
    "The following checks are available:\n",
    "\n",
    "* *Gross value check*: A threshold check that observations should be between the thresholds\n",
    "* *Persistence check*: Test observations to change over a specific period.\n",
    "* *Repetitions check*: Test if an observation changes after several records.\n",
    "* *Spike check*: Test if observations do not produce spikes in time series.\n",
    "* *Window variation check*: Test if the variation exceeds the threshold in moving time windows.\n",
    "* *Toolkit Buddy check*: Spatial buddy check.\n",
    "* *TITAN Buddy check*: The [Titanlib version of the buddy check](https://github.com/metno/titanlib/wiki/Buddy-check).\n",
    "* *TITAN Spatial consistency test*: Apply the Titanlib (robust) [Spatial-Consistency-Test](https://github.com/metno/titanlib/wiki/Spatial-consistency-test-resistant) (SCT).\n",
    "\n",
    "Each check requires a set of specific settings, often stored per specific observation type. A set of default settings, for temperature observations, are stored in the settings of each dataset. Use the *get_info()* method, and scroll to the QC section to see all QC settings.\n"
   ]
  },
  {
   "cell_type": "code",
   "execution_count": null,
   "id": "6",
   "metadata": {},
   "outputs": [],
   "source": [
    "your_dataset.settings.get_info()\n"
   ]
  },
  {
   "cell_type": "markdown",
   "id": "7",
   "metadata": {},
   "source": [
    "Use the ``update_qc_settings()`` method to update the default settings."
   ]
  },
  {
   "cell_type": "code",
   "execution_count": null,
   "id": "8",
   "metadata": {},
   "outputs": [],
   "source": [
    "your_dataset.update_qc_settings(obstype='temp',\n",
    "                                gross_value_max_value=26.3,\n",
    "                                persis_time_win_to_check='30min' #30 minutes\n",
    "                                )"
   ]
  },
  {
   "cell_type": "markdown",
   "id": "9",
   "metadata": {},
   "source": [
    "To apply the quality control on the full dataset use the ``apply_quality_control()`` method. Spatial quality control checks can be applied by using the ``apply_buddy_check()``, ``apply_titan_buddy_check()`` and ``apply_titan_sct_resistant_check()`` methods."
   ]
  },
  {
   "cell_type": "code",
   "execution_count": null,
   "id": "10",
   "metadata": {},
   "outputs": [],
   "source": [
    "your_dataset.apply_quality_control(\n",
    "        obstype=\"temp\",  # which observations to check\n",
    "        gross_value=True,  # apply gross_value check?\n",
    "        persistence=True,  # apply persistence check?\n",
    "        step=True,  # apply the step check?\n",
    "        window_variation=True,  # apply internal consistency check?\n",
    "    )"
   ]
  },
  {
   "cell_type": "markdown",
   "id": "11",
   "metadata": {},
   "source": [
    "Use the dataset.show() or the time series plot methods to see the effect of the quality control."
   ]
  },
  {
   "cell_type": "code",
   "execution_count": null,
   "id": "12",
   "metadata": {},
   "outputs": [],
   "source": [
    "your_dataset.make_plot(obstype='temp', colorby='label')"
   ]
  },
  {
   "cell_type": "markdown",
   "id": "13",
   "metadata": {},
   "source": [
    "If you are interested in the performance of the applied QC, you can use the ``get_qc_stats()`` method to get an overview of the frequency statistics."
   ]
  },
  {
   "cell_type": "code",
   "execution_count": null,
   "id": "14",
   "metadata": {},
   "outputs": [],
   "source": [
    "your_dataset.get_qc_stats(obstype='temp', make_plot=True)"
   ]
  }
 ],
 "metadata": {
  "language_info": {
   "name": "python"
  }
 },
 "nbformat": 4,
 "nbformat_minor": 5
}
