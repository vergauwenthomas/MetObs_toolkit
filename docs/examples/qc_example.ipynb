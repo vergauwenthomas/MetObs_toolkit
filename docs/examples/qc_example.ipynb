{
 "cells": [
  {
   "cell_type": "markdown",
   "id": "0",
   "metadata": {},
   "source": [
    "# Demo: Applying Quality Control.\n",
    "In this example, we apply Quality Control (QC) on the demo data. "
   ]
  },
  {
   "cell_type": "code",
   "execution_count": null,
   "id": "1",
   "metadata": {},
   "outputs": [],
   "source": [
    "import metobs_toolkit\n"
   ]
  },
  {
   "cell_type": "markdown",
   "id": "2",
   "metadata": {},
   "source": [
    "## Create your dataset\n",
    "We start by creating a dataset."
   ]
  },
  {
   "cell_type": "code",
   "execution_count": null,
   "id": "3",
   "metadata": {},
   "outputs": [],
   "source": [
    "\n",
    "# Create the dataset and import data using the demo files\n",
    "dataset = metobs_toolkit.Dataset()\n",
    "dataset.import_data_from_file(\n",
    "    template_file=metobs_toolkit.demo_template,\n",
    "    input_data_file=metobs_toolkit.demo_datafile,\n",
    "    input_metadata_file=metobs_toolkit.demo_metadatafile,\n",
    ")"
   ]
  },
  {
   "cell_type": "markdown",
   "id": "4",
   "metadata": {},
   "source": [
    "When importing raw data, there are two quality control checks that are applied by default:\n",
    "\n",
    " * Duplicate timestamp check: The timestamps are checked for duplicates, if a duplicate is detected, the timestamp is ignored. This will result in a gap.\n",
    " * Invalid value check: All observations are casted to a numeric value. If the raw \n",
    " value could not be converted to a numeric value, the timestamp is ignored. This will result in a gap.\n",
    "\n",
    "We can inspect the ouliers at any time using the ``.outliersdf`` attribute.\n"
   ]
  },
  {
   "cell_type": "code",
   "execution_count": null,
   "id": "5",
   "metadata": {},
   "outputs": [],
   "source": [
    "dataset.outliersdf"
   ]
  },
  {
   "cell_type": "markdown",
   "id": "6",
   "metadata": {},
   "source": [
    "An empyt outliers dataframe indicates that there aren't any outliers found (yet). "
   ]
  },
  {
   "cell_type": "markdown",
   "id": "7",
   "metadata": {},
   "source": [
    "\n",
    "## Quality Control Checks\n",
    "\n",
    "In the MetObs_toolkit a set of quality-control checks are inplementend. Each check aims at finding outiers based on different techniques. In general we can group QC checks in two: the individual and social checks. Individual checks take only the timeseries to check into account. In social check, the timeseries of other sensors are taken into account to test the quality of a target timeseries.\n",
    "\n",
    "\n",
    "The following (individual) checks are available:\n",
    "\n",
    "* ``Dataset.gross_value_check()``: A threshold check that observations should be between the thresholds\n",
    "* ``Dataset.persistence_check()``: Test observations to change over a specific period.\n",
    "* ``Dataset.repetitions_check()``: Test if an observation changes after several records.\n",
    "* ``Dataset.step_check()``: Test if observations do not produce spikes in time series.\n",
    "* ``Dataset.window_variation_check()``: Test if the variation exceeds the threshold in moving time windows.\n",
    "\n",
    "\n",
    "*Note*: For a detailed description we refer to the API documentation of the methods.\n",
    "*Note*: All these checks can be applied on ``Dataset`` and ``Station`` objects.\n",
    "\n",
    "The following (social) checks are available:\n",
    "* ``Dataset.buddy_check()``: Spatial buddy check.\n",
    "\n",
    "*Note*: The social checks can only be applied on ``Dataset`` objects.\n",
    "\n",
    "*Note*: In previous versions of the MetObs-toolkit, the [Titanlib](https://github.com/metno/titanlib/) package was used for QC. Since this complicated the installation, the link with Titanlib is dropped.\n",
    "\n"
   ]
  },
  {
   "cell_type": "markdown",
   "id": "8",
   "metadata": {},
   "source": [
    "### QC pipline on temperature observations\n",
    "\n",
    "As an example we apply a QC pipeline on temperature observations. Since some check depends on the time resolution, it is highly recommanded to resample your data before applying QC.\n"
   ]
  },
  {
   "cell_type": "code",
   "execution_count": null,
   "id": "9",
   "metadata": {},
   "outputs": [],
   "source": [
    "target = 'temp'\n",
    "\n",
    "#Resampling\n",
    "dataset.resample(target_freq='10min')\n",
    "\n",
    "#1. gross value check\n",
    "dataset.gross_value_check(\n",
    "            target_obstype=target,\n",
    "            lower_threshold=-10.0,\n",
    "            upper_threshold=26.3)\n",
    "\n",
    "#2. persistence check\n",
    "dataset.persistence_check(\n",
    "            target_obstype=target,\n",
    "            timewindow='60min',\n",
    "            min_records_per_window=3)\n",
    "\n",
    "#3. repetitions check\n",
    "dataset.repetitions_check(\n",
    "            target_obstype=target,\n",
    "            max_N_repetitions=5\n",
    ")\n",
    "\n",
    "#4. repetitions check\n",
    "dataset.step_check(\n",
    "            target_obstype=target,\n",
    "            max_increase_per_second = 8.0 / 3600.0, #depends on standard unit! \n",
    "            max_decrease_per_second = -10.0 / 3600.0) #depends on standard unit! \n",
    "\n",
    "#5. window variation check\n",
    "dataset.window_variation_check(\n",
    "            target_obstype=target,\n",
    "            timewindow='60min',\n",
    "            min_records_per_window=3,\n",
    "            max_increase_per_second=8.0 / 3600.0, #depends on standard unit! \n",
    "            max_decrease_per_second = -10.0 / 3600.0, #depends on standard unit! \n",
    "            )"
   ]
  },
  {
   "cell_type": "code",
   "execution_count": null,
   "id": "10",
   "metadata": {},
   "outputs": [],
   "source": [
    "# 6. buddy check\n",
    "\n",
    "#Note: This check can only be applied on a Dataset\n",
    "\n",
    "dataset.buddy_check(\n",
    "        target_obstype=target,\n",
    "        #main check settings\n",
    "        buddy_radius=15000, #15km defenition of buddy radius\n",
    "        std_threshold=2.0, #outlier threshold\n",
    "        #requirements\n",
    "        min_sample_size=5,\n",
    "        max_alt_diff=None,  # Maximum elevation difference between stations\n",
    "        N_iter=3, #Number of iterations\n",
    "        instantanious_tolerance='4min', #Max timestamp tolerance for 'at the same time'\n",
    "        lapserate=None, #Specify the variation with altitude, if None no correction is applied\n",
    "        min_std=1.0,  # Minimum standart deviation\n",
    ")"
   ]
  },
  {
   "cell_type": "markdown",
   "id": "11",
   "metadata": {},
   "source": [
    "Each check tests all the observation temperature records, and marked as outlier. These outliers are not checked by the next QC check. \n",
    "\n",
    "When a record is marked as an outlier:\n",
    " * It is added to the set of outliers. (See ``Dataset.outliersdf``)\n",
    " * It value is set to NaN in the timeseries. (See ``Dataset.df``)"
   ]
  },
  {
   "cell_type": "code",
   "execution_count": null,
   "id": "12",
   "metadata": {},
   "outputs": [],
   "source": [
    "# The collection of outliers:\n",
    "dataset.outliersdf"
   ]
  },
  {
   "cell_type": "code",
   "execution_count": null,
   "id": "13",
   "metadata": {},
   "outputs": [],
   "source": [
    "#Values are set to NaN in the timeseries\n",
    "\n",
    "#Filter to temperature records of a problematic station as illustration.\n",
    "dataset.df.xs('vlinder05', level='name').xs('temp', level='obstype')"
   ]
  },
  {
   "cell_type": "markdown",
   "id": "14",
   "metadata": {},
   "source": [
    "We can visually see the effect of QC by plotting the timeseries, and specifying to colorby the label."
   ]
  },
  {
   "cell_type": "code",
   "execution_count": null,
   "id": "15",
   "metadata": {},
   "outputs": [],
   "source": [
    "dataset.make_plot(obstype=target,\n",
    "                  colorby='label',\n",
    "                  title='Timeseries after QC pipeline is applied on temperature')"
   ]
  },
  {
   "cell_type": "markdown",
   "id": "16",
   "metadata": {},
   "source": [
    "If you are interested in the performance of the applied QC, you can use the ``get_qc_stats()`` method to get an overview of the frequency statistics."
   ]
  },
  {
   "cell_type": "code",
   "execution_count": null,
   "id": "17",
   "metadata": {},
   "outputs": [],
   "source": [
    "dataset.get_qc_stats(target_obstype=target,\n",
    "                      make_plot=True)"
   ]
  },
  {
   "cell_type": "markdown",
   "id": "18",
   "metadata": {},
   "source": [
    "## Important notes on QC\n",
    "\n",
    "1. The settings use in this demo example are illustrative.\n",
    "2. The settings to use depends on:\n",
    "    * The climate and season for the gross value check\n",
    "    * The time frequency of your observations, thus apply resample before the QC pipeline\n",
    "    * The observation type.\n"
   ]
  }
 ],
 "metadata": {
  "kernelspec": {
   "display_name": "metobs_dev",
   "language": "python",
   "name": "python3"
  },
  "language_info": {
   "codemirror_mode": {
    "name": "ipython",
    "version": 3
   },
   "file_extension": ".py",
   "mimetype": "text/x-python",
   "name": "python",
   "nbconvert_exporter": "python",
   "pygments_lexer": "ipython3",
   "version": "3.10.14"
  }
 },
 "nbformat": 4,
 "nbformat_minor": 5
}
