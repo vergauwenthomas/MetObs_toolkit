{
 "cells": [
  {
   "cell_type": "markdown",
   "id": "0",
   "metadata": {
    "tags": []
   },
   "source": [
    "# Demo: Dataset introduction\n",
    " \n",
    "This is an introduction to get started with the MetObs toolkit. These examples are making use of the demo data files that come with the toolkit.\n",
    "Once the MetObs toolkit package is installed, you can import its functionality by:"
   ]
  },
  {
   "cell_type": "code",
   "execution_count": null,
   "id": "1",
   "metadata": {},
   "outputs": [],
   "source": [
    "import sys\n",
    "repodir = '/home/thoverga/Documents/VLINDER_github/MetObs_toolkit'\n",
    "sys.path.insert(0, str(repodir))\n",
    "import metobs_toolkit \n",
    "\n",
    "metobs_toolkit.__version__"
   ]
  },
  {
   "cell_type": "markdown",
   "id": "2",
   "metadata": {},
   "source": [
    "## The Dataset\n",
    "\n",
    "A dataset is a collection of `Station`'s and all the data and metadata they hold. Most of the methods are\n",
    "applied directly to a dataset. \n",
    "\n",
    "Start by creating an empty Dataset object:"
   ]
  },
  {
   "cell_type": "code",
   "execution_count": null,
   "id": "3",
   "metadata": {},
   "outputs": [],
   "source": [
    "your_dataset = metobs_toolkit.Dataset()\n",
    "print(your_dataset) #prints out minimal info of your dataset"
   ]
  },
  {
   "cell_type": "code",
   "execution_count": null,
   "id": "4",
   "metadata": {},
   "outputs": [],
   "source": [
    "your_dataset.get_info()"
   ]
  },
  {
   "cell_type": "markdown",
   "id": "5",
   "metadata": {},
   "source": [
    "## Importing data\n",
    "\n",
    "To import your data into a Dataset, you can provide:\n",
    "\n",
    "* (optional) data file: This is the CSV file containing the observations\n",
    "* (optional) metadata file: The CSV file containing metadata for all stations.\n",
    "* (required) template file: This is a (json) file that is used to interpret your data, and metadata file (if present).\n",
    "\n",
    "In practice, you need to **start by creating a template file** for your data. More information on creating the template can be found in the documentation (under [Mapping to the toolkit](https://metobs-toolkit.readthedocs.io/en/latest/topics/template_mapping.html)).\n",
    "\n",
    "TIP: *Use the `build_template_prompt()` of the toolkit for creating a template file.*\n"
   ]
  },
  {
   "cell_type": "code",
   "execution_count": null,
   "id": "6",
   "metadata": {},
   "outputs": [],
   "source": [
    "# metobs_toolkit.build_template_prompt()"
   ]
  },
  {
   "cell_type": "markdown",
   "id": "7",
   "metadata": {},
   "source": [
    "To import data, you must specify the paths to your data, metadata and template.\n",
    "For this example, we use the demo data, metadata and template that come with the toolkit."
   ]
  },
  {
   "cell_type": "code",
   "execution_count": null,
   "id": "8",
   "metadata": {},
   "outputs": [],
   "source": [
    "your_dataset.import_data_from_file(\n",
    "        input_data_file=metobs_toolkit.demo_datafile, # path to the data file\n",
    "        input_metadata_file=metobs_toolkit.demo_metadatafile,\n",
    "        template_file=metobs_toolkit.demo_template,\n",
    "        )\n",
    "\n",
    "your_dataset"
   ]
  },
  {
   "cell_type": "markdown",
   "id": "9",
   "metadata": {},
   "source": [
    "## Inspecting the Template\n",
    "\n",
    "In practice, you need to start by creating a template file for your data. The role of the template is to translate your data and metadata file, to a standard structure and units used by the toolkit. It is therefore only used when importing data.\n",
    "\n",
    "The template is read, and stored as an attribute of your `Dataset`. In pracktice you do not have to interact with it, but if somehting unexpected happens when reading in the data it can be usefull to investigate the template (as a file) or by using the `Dataset.template.get_info()` method.\n"
   ]
  },
  {
   "cell_type": "code",
   "execution_count": null,
   "id": "10",
   "metadata": {},
   "outputs": [],
   "source": [
    "your_dataset.template.get_info()"
   ]
  },
  {
   "cell_type": "markdown",
   "id": "11",
   "metadata": {},
   "source": [
    "**TIP**: *the `get_info()` method works on all objects of the Metobs toolkit.*"
   ]
  },
  {
   "cell_type": "markdown",
   "id": "12",
   "metadata": {},
   "source": [
    "## Inspecting the Data\n",
    "\n",
    "To get an overview of the data stored in your Dataset you can use"
   ]
  },
  {
   "cell_type": "code",
   "execution_count": null,
   "id": "13",
   "metadata": {},
   "outputs": [],
   "source": [
    "print(your_dataset)"
   ]
  },
  {
   "cell_type": "markdown",
   "id": "14",
   "metadata": {},
   "source": [
    "Or you can use the `.get_info()` method to print out more details."
   ]
  },
  {
   "cell_type": "markdown",
   "id": "15",
   "metadata": {},
   "source": [
    "If you want to inspect the data in your Dataset directly, you can take a look at the .df and .metadf attributes"
   ]
  },
  {
   "cell_type": "code",
   "execution_count": null,
   "id": "16",
   "metadata": {},
   "outputs": [],
   "source": [
    "print(your_dataset.df.head())\n",
    "# equivalent for the metadata\n",
    "print(your_dataset.metadf.head())\n"
   ]
  },
  {
   "cell_type": "markdown",
   "id": "17",
   "metadata": {
    "tags": []
   },
   "source": [
    "### Inspecting a Station\n",
    "\n",
    "If you are interested in one station, you can extract all the info for that one station from the dataset by:\n"
   ]
  },
  {
   "cell_type": "code",
   "execution_count": null,
   "id": "18",
   "metadata": {},
   "outputs": [],
   "source": [
    "favorite_station = your_dataset.get_station(stationname=\"vlinder02\")"
   ]
  },
  {
   "cell_type": "markdown",
   "id": "19",
   "metadata": {},
   "source": [
    "Favorite station now contains all the information of that one station. All methods that are applicable to a Dataset are also applicable to a Station. So to inspect your favorite station, you can:"
   ]
  },
  {
   "cell_type": "code",
   "execution_count": null,
   "id": "20",
   "metadata": {},
   "outputs": [],
   "source": [
    "print(favorite_station.show())"
   ]
  },
  {
   "cell_type": "markdown",
   "id": "21",
   "metadata": {},
   "source": [
    "## Making timeseries plots\n",
    "\n",
    "To make timeseries plots, use the following syntax to plot the *temperature* observations of the full Dataset:"
   ]
  },
  {
   "cell_type": "code",
   "execution_count": null,
   "id": "22",
   "metadata": {},
   "outputs": [],
   "source": [
    "%config InlineBackend.print_figure_kwargs = {'bbox_inches':None} #else the legend is cutoff in ipython inline plots"
   ]
  },
  {
   "cell_type": "code",
   "execution_count": null,
   "id": "23",
   "metadata": {},
   "outputs": [],
   "source": [
    "your_dataset.make_plot(obstype='temp')"
   ]
  },
  {
   "cell_type": "markdown",
   "id": "24",
   "metadata": {},
   "source": [
    "See the documentation of the ``make_plot()`` method for more details. Here is an example of commonly used arguments."
   ]
  },
  {
   "cell_type": "code",
   "execution_count": null,
   "id": "25",
   "metadata": {},
   "outputs": [],
   "source": [
    "#Import the standard datetime library to make timestamps from datetime objects\n",
    "from datetime import datetime\n",
    "\n",
    "your_dataset.make_plot(\n",
    "    # specify the names of the stations in a list, or use None to plot all of them.\n",
    "    stationnames=['vlinder01', 'vlinder03', 'vlinder05'],\n",
    "    # what obstype to plot (default is 'temp')\n",
    "    obstype=\"humidity\",\n",
    "    # choose how to color the timeseries:\n",
    "    #'name' : a specific color per station\n",
    "    #'label': a specific color per quality control label\n",
    "    colorby=\"label\",\n",
    "    # choose a start and endtime for the series (datetime).\n",
    "    # Default is None, which uses all available data\n",
    "    starttime=None,\n",
    "    endtime=datetime(2022, 9, 9),\n",
    "    # Specify a title if you do not want the default title\n",
    "    title='your custom title',\n",
    "    # Add legend to plot?, by default true\n",
    "    legend=True,\n",
    "    # Plot observations that are labeled as outliers.\n",
    "    show_outliers=True,\n",
    ")"
   ]
  },
  {
   "cell_type": "markdown",
   "id": "26",
   "metadata": {},
   "source": [
    "as mentioned above, one can apply the same methods to a Station object:"
   ]
  },
  {
   "cell_type": "code",
   "execution_count": null,
   "id": "27",
   "metadata": {},
   "outputs": [],
   "source": [
    "favorite_station.make_plot(colorby='label')"
   ]
  },
  {
   "cell_type": "markdown",
   "id": "28",
   "metadata": {},
   "source": [
    "## Resampling the time resolution\n",
    "\n",
    "Coarsening the time resolution (i.g. frequency) of your data can be done by using the ``coarsen_time_resolution()``."
   ]
  },
  {
   "cell_type": "code",
   "execution_count": null,
   "id": "29",
   "metadata": {},
   "outputs": [],
   "source": [
    "your_dataset.coarsen_time_resolution(freq='30min') #'30min' means 30 minutes\n",
    "\n",
    "your_dataset.df.head()"
   ]
  }
 ],
 "metadata": {
  "language_info": {
   "name": "python"
  }
 },
 "nbformat": 4,
 "nbformat_minor": 5
}
