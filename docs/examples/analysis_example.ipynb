{
 "cells": [
  {
   "cell_type": "markdown",
   "id": "9116142e-ebf4-471f-af77-52efca4aa935",
   "metadata": {},
   "source": [
    "# Demo example: Analysis\n",
    "\n",
    "This example is the continuation of the previous example: [filling gaps and missing observations](https://metobs-toolkit.readthedocs.io/en/latest/examples/filling_example.html). This example serves as an introduction to the Analysis module."
   ]
  },
  {
   "cell_type": "code",
   "execution_count": 1,
   "id": "e7593f73-c25b-4ac0-989e-77a03a8f4a92",
   "metadata": {},
   "outputs": [
    {
     "name": "stderr",
     "output_type": "stream",
     "text": [
      "LOG:: metobs_toolkit - INFO - Logger initiated\n",
      "LOG:: metobs_toolkit.dataset_core - INFO - Initialise dataset\n",
      "LOG:: metobs_toolkit.datasetbase - INFO - Initialise dataset\n",
      "LOG:: metobs_toolkit.settings - INFO - Initialising settings\n",
      "LOG:: metobs_toolkit.settings - DEBUG - Updating app settings.\n",
      "LOG:: metobs_toolkit.settings - DEBUG - Updating QC settings.\n",
      "LOG:: metobs_toolkit.settings - DEBUG - Updating gee settings.\n",
      "LOG:: metobs_toolkit.settings - INFO - Updating settings with input: \n",
      "LOG:: metobs_toolkit.settings - INFO - Update input_data_file:  None  -->  /home/thoverga/Documents/VLINDER_github/MetObs_toolkit/metobs_toolkit/datafiles/demo_datafile.csv\n",
      "LOG:: metobs_toolkit.settings - INFO - Update meta_data_file:  None  -->  /home/thoverga/Documents/VLINDER_github/MetObs_toolkit/metobs_toolkit/datafiles/demo_metadatafile.csv\n",
      "LOG:: metobs_toolkit.settings - INFO - Update template file:  None  -->  /home/thoverga/Documents/VLINDER_github/MetObs_toolkit/metobs_toolkit/datafiles/demo_template.json\n"
     ]
    },
    {
     "ename": "AttributeError",
     "evalue": "'Settings' object has no attribute 'gap'",
     "output_type": "error",
     "traceback": [
      "\u001b[0;31m---------------------------------------------------------------------------\u001b[0m",
      "\u001b[0;31mAttributeError\u001b[0m                            Traceback (most recent call last)",
      "Cell \u001b[0;32mIn[1], line 10\u001b[0m\n\u001b[1;32m      4\u001b[0m your_dataset\u001b[38;5;241m.\u001b[39mupdate_settings(\n\u001b[1;32m      5\u001b[0m     input_data_file\u001b[38;5;241m=\u001b[39mmetobs_toolkit\u001b[38;5;241m.\u001b[39mdemo_datafile, \u001b[38;5;66;03m# path to the data file\u001b[39;00m\n\u001b[1;32m      6\u001b[0m     input_metadata_file\u001b[38;5;241m=\u001b[39mmetobs_toolkit\u001b[38;5;241m.\u001b[39mdemo_metadatafile,\n\u001b[1;32m      7\u001b[0m     template_file\u001b[38;5;241m=\u001b[39mmetobs_toolkit\u001b[38;5;241m.\u001b[39mdemo_template,\n\u001b[1;32m      8\u001b[0m )\n\u001b[1;32m      9\u001b[0m \u001b[38;5;66;03m#Update Gap definition\u001b[39;00m\n\u001b[0;32m---> 10\u001b[0m \u001b[43myour_dataset\u001b[49m\u001b[38;5;241;43m.\u001b[39;49m\u001b[43mupdate_qc_settings\u001b[49m\u001b[43m(\u001b[49m\u001b[43mgapsize_in_records\u001b[49m\u001b[43m \u001b[49m\u001b[38;5;241;43m=\u001b[39;49m\u001b[43m \u001b[49m\u001b[38;5;241;43m20\u001b[39;49m\u001b[43m)\u001b[49m \n\u001b[1;32m     12\u001b[0m \u001b[38;5;66;03m#Import the data\u001b[39;00m\n\u001b[1;32m     13\u001b[0m your_dataset\u001b[38;5;241m.\u001b[39mimport_data_from_file()\n",
      "File \u001b[0;32m~/Documents/VLINDER_github/MetObs_toolkit/metobs_toolkit/dataset_settings_updater.py:181\u001b[0m, in \u001b[0;36mDatasetSettingsCore.update_qc_settings\u001b[0;34m(self, obstype, gapsize_in_records, dupl_timestamp_keep, persis_time_win_to_check, persis_min_num_obs, rep_max_valid_repetitions, gross_value_min_value, gross_value_max_value, win_var_max_increase_per_sec, win_var_max_decrease_per_sec, win_var_time_win_to_check, win_var_min_num_obs, step_max_increase_per_sec, step_max_decrease_per_sec, buddy_radius, buddy_min_sample_size, buddy_max_elev_diff, buddy_min_std, buddy_threshold, buddy_elev_gradient)\u001b[0m\n\u001b[1;32m    177\u001b[0m \u001b[38;5;66;03m# Gap defenition\u001b[39;00m\n\u001b[1;32m    178\u001b[0m \u001b[38;5;28;01mif\u001b[39;00m gapsize_in_records \u001b[38;5;129;01mis\u001b[39;00m \u001b[38;5;129;01mnot\u001b[39;00m \u001b[38;5;28;01mNone\u001b[39;00m:\n\u001b[1;32m    179\u001b[0m     logger\u001b[38;5;241m.\u001b[39minfo(\n\u001b[1;32m    180\u001b[0m         \u001b[38;5;124mf\u001b[39m\u001b[38;5;124m'\u001b[39m\u001b[38;5;124m The defenition of a gap (=gapsize) is updated: \u001b[39m\u001b[38;5;130;01m\\\u001b[39;00m\n\u001b[0;32m--> 181\u001b[0m \u001b[38;5;124m\u001b[39m\u001b[38;5;132;01m{\u001b[39;00m\u001b[38;5;28mself\u001b[39m\u001b[38;5;241m.\u001b[39msettings\u001b[38;5;241m.\u001b[39mgap[\u001b[38;5;124m\"\u001b[39m\u001b[38;5;124mgaps_settings\u001b[39m\u001b[38;5;124m\"\u001b[39m][\u001b[38;5;124m\"\u001b[39m\u001b[38;5;124mgaps_finder\u001b[39m\u001b[38;5;124m\"\u001b[39m][\u001b[38;5;124m\"\u001b[39m\u001b[38;5;124mgapsize_n\u001b[39m\u001b[38;5;124m\"\u001b[39m]\u001b[38;5;132;01m}\u001b[39;00m\u001b[38;5;124m --> \u001b[39m\u001b[38;5;132;01m{\u001b[39;00m\u001b[38;5;28mabs\u001b[39m(\u001b[38;5;28mint\u001b[39m(gapsize_in_records))\u001b[38;5;132;01m}\u001b[39;00m\u001b[38;5;124m'\u001b[39m\n\u001b[1;32m    182\u001b[0m     )\n\u001b[1;32m    183\u001b[0m     \u001b[38;5;28mself\u001b[39m\u001b[38;5;241m.\u001b[39msettings\u001b[38;5;241m.\u001b[39mgap[\u001b[38;5;124m\"\u001b[39m\u001b[38;5;124mgaps_settings\u001b[39m\u001b[38;5;124m\"\u001b[39m][\u001b[38;5;124m\"\u001b[39m\u001b[38;5;124mgaps_finder\u001b[39m\u001b[38;5;124m\"\u001b[39m][\u001b[38;5;124m\"\u001b[39m\u001b[38;5;124mgapsize_n\u001b[39m\u001b[38;5;124m\"\u001b[39m] \u001b[38;5;241m=\u001b[39m \u001b[38;5;28mabs\u001b[39m(\n\u001b[1;32m    184\u001b[0m         \u001b[38;5;28mint\u001b[39m(gapsize_in_records)\n\u001b[1;32m    185\u001b[0m     )\n\u001b[1;32m    187\u001b[0m \u001b[38;5;66;03m# Gross value check\u001b[39;00m\n",
      "\u001b[0;31mAttributeError\u001b[0m: 'Settings' object has no attribute 'gap'"
     ]
    }
   ],
   "source": [
    "import metobs_toolkit\n",
    "\n",
    "your_dataset = metobs_toolkit.Dataset()\n",
    "your_dataset.update_settings(\n",
    "    input_data_file=metobs_toolkit.demo_datafile, # path to the data file\n",
    "    input_metadata_file=metobs_toolkit.demo_metadatafile,\n",
    "    template_file=metobs_toolkit.demo_template,\n",
    ")\n",
    "#Update Gap definition\n",
    "your_dataset.update_qc_settings(gapsize_in_records = 20) \n",
    "\n",
    "#Import the data\n",
    "your_dataset.import_data_from_file()\n",
    "\n",
    "#Coarsen to 15-minutes frequencies\n",
    "your_dataset.coarsen_time_resolution(freq='15T')\n",
    "\n",
    "#Apply default quality control\n",
    "your_dataset.apply_quality_control(obstype='temp') #we use the default settings in this example\n",
    "\n",
    "#Interpret the outliers as missing observations and gaps.\n",
    "your_dataset.update_gaps_and_missing_from_outliers(obstype='temp', \n",
    "                                                   n_gapsize=None)\n",
    "\n",
    "#Fill missing observations (using default settings)\n",
    "your_dataset.fill_missing_obs_linear(obstype='temp')\n",
    "\n",
    "#Fill gaps with linear interpolation.\n",
    "your_dataset.fill_gaps_linear(obstype='temp')\n",
    "\n"
   ]
  },
  {
   "cell_type": "markdown",
   "id": "cfdf87f1-dcfd-4a13-b12a-7373e880e4cd",
   "metadata": {},
   "source": [
    "## Creating an Analysis\n",
    "\n",
    "The built-in analysis functionality is centered around the [*Analysis*](https://metobs-toolkit.readthedocs.io/en/latest/reference/analysis.html) class. First, create an *Analysis* object using the ``get_analysis()`` method."
   ]
  },
  {
   "cell_type": "code",
   "execution_count": null,
   "id": "c69bfda4-8a5f-49b6-9a80-cce0ed2d3dbd",
   "metadata": {},
   "outputs": [],
   "source": [
    "analysis = your_dataset.get_analysis(add_gapfilled_values=True)\n",
    "analysis"
   ]
  },
  {
   "cell_type": "markdown",
   "id": "26990a49-157d-4a59-9dce-9cbb1523d177",
   "metadata": {},
   "source": [
    "## Analysis methods\n",
    "\n",
    "An overview of the available analysis methods can be seen in the documentation of the ``Analysis`` class. The relevant methods depend on your data and your interests. As an example, a demonstration of the filter and diurnal cycle of the demo data.\n",
    "\n",
    "### Filtering data\n",
    "\n",
    "It is common to filter your data according to specific meteorological phenomena or periods in time. To do this you can use the ``apply_filter()`` method."
   ]
  },
  {
   "cell_type": "code",
   "execution_count": null,
   "id": "036ffd8c-bb43-4667-8556-84622d2b5498",
   "metadata": {},
   "outputs": [],
   "source": [
    "#filter to non-windy afternoons in the Autumn.\n",
    "subset = analysis.apply_filter('wind_speed <= 2.5 & season==\"autumn\" & hour > 12 & hour < 20')\n",
    "\n",
    "subset.df"
   ]
  },
  {
   "cell_type": "markdown",
   "id": "93399221-9b4e-4a6b-9b00-51ab9bf32a7e",
   "metadata": {},
   "source": [
    "## Diurnal cycle \n",
    "\n",
    "To make a diurnal cycle plot of your Analysis use the ``get_diurnal_statistics()`` method:"
   ]
  },
  {
   "cell_type": "code",
   "execution_count": null,
   "id": "e867c52c-72fa-49ac-ae00-98e9150b513c",
   "metadata": {},
   "outputs": [],
   "source": [
    "dirunal_statistics = subset.get_diurnal_statistics(colorby='name',\n",
    "                                                   obstype='humidity', \n",
    "                                                   plot=True,\n",
    "                                                   errorbands=True,\n",
    "                                                  )\n",
    "#Note that in this example statistics are computed for a short period and only for the non-windy autumn afternoons."
   ]
  },
  {
   "cell_type": "markdown",
   "id": "d3fdffeb-1ec7-4ffe-8085-c84dd5a3fdfa",
   "metadata": {},
   "source": [
    "## Analysis exercise\n",
    "\n",
    "For a more detailed reference you can use this [Analysis exercise](https://github.com/vergauwenthomas/MetObs_toolkit/blob/4d5a35954eb8ff153eb0d9e9c8a34cee7e3c50f4/fairness_demo_exercises/Urban_analysis_excercise_04.ipynb), which was created in the context of the [COST FAIRNESS](https://www.cost.eu/actions/CA20108/) summer school 2023 in Ghent."
   ]
  }
 ],
 "metadata": {
  "kernelspec": {
   "display_name": "Python 3 (ipykernel)",
   "language": "python",
   "name": "python3"
  },
  "language_info": {
   "codemirror_mode": {
    "name": "ipython",
    "version": 3
   },
   "file_extension": ".py",
   "mimetype": "text/x-python",
   "name": "python",
   "nbconvert_exporter": "python",
   "pygments_lexer": "ipython3",
   "version": "3.10.0"
  }
 },
 "nbformat": 4,
 "nbformat_minor": 5
}
