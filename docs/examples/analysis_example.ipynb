{
 "cells": [
  {
   "cell_type": "markdown",
   "id": "0",
   "metadata": {},
   "source": [
    "# Demo: Analysis\n",
    "\n",
    "This example is the continuation of the previous example: [filling gaps](https://metobs-toolkit.readthedocs.io/en/latest/examples/filling_example.html). This example serves as an introduction to the Analysis module. In the MetObs-toolkit there is a ``Analysis`` class, that holds some common methods used in research. \n",
    "\n",
    "To start, we import the demo dataset."
   ]
  },
  {
   "cell_type": "code",
   "execution_count": null,
   "id": "1",
   "metadata": {},
   "outputs": [],
   "source": [
    "import metobs_toolkit\n",
    "dataset = metobs_toolkit.Dataset() #Create a new dataset object\n",
    "\n",
    "#Load the data\n",
    "dataset.import_data_from_file(\n",
    "                    template_file=metobs_toolkit.demo_template, #The template file\n",
    "                    input_data_file=metobs_toolkit.demo_datafile, #The data file\n",
    "                    input_metadata_file=metobs_toolkit.demo_metadatafile, #The metadata file\n",
    "                    )"
   ]
  },
  {
   "cell_type": "markdown",
   "id": "2",
   "metadata": {},
   "source": [
    "Later in this demo we will some landcover information, we extract this for all are stations in the dataset."
   ]
  },
  {
   "cell_type": "code",
   "execution_count": null,
   "id": "3",
   "metadata": {},
   "outputs": [],
   "source": [
    "#Get LCZ, and landcover fractions will be used later on\n",
    "_lczseries = dataset.get_LCZ()\n"
   ]
  },
  {
   "cell_type": "markdown",
   "id": "4",
   "metadata": {},
   "source": [
    "## Creating an Analysis\n",
    "\n",
    "The built-in analysis functionality is centered around the ``Analysis`` class. This class holds only records that are assumed to be correct. Thus there are no QC outliers or gaps present defined, the data hold by an `Analysis` is hold in a singel dataframe.\n",
    "\n",
    "\n",
    "We can create an `Analysis` instance from a ``Dataset`` (or from a ``Station``). \n",
    "\n"
   ]
  },
  {
   "cell_type": "code",
   "execution_count": null,
   "id": "5",
   "metadata": {},
   "outputs": [],
   "source": [
    "analysis = metobs_toolkit.Analysis(Dataholder=dataset)\n",
    "analysis.get_info()"
   ]
  },
  {
   "cell_type": "code",
   "execution_count": null,
   "id": "6",
   "metadata": {},
   "outputs": [],
   "source": [
    "analysis.df.index.get_level_values('datetime').tz\n"
   ]
  },
  {
   "cell_type": "markdown",
   "id": "7",
   "metadata": {},
   "source": [
    "We can inspect the stored data from the ``Analysis.df`` and ``Analysis.metadf`` attributes."
   ]
  },
  {
   "cell_type": "code",
   "execution_count": null,
   "id": "8",
   "metadata": {},
   "outputs": [],
   "source": [
    "analysis.df.head(10)"
   ]
  },
  {
   "cell_type": "code",
   "execution_count": null,
   "id": "9",
   "metadata": {},
   "outputs": [],
   "source": [
    "analysis.metadf.head(10)"
   ]
  },
  {
   "cell_type": "markdown",
   "id": "10",
   "metadata": {},
   "source": [
    "## Analysis methods\n",
    "\n",
    "An overview of the available analysis methods can be seen in the documentation of the ``Analysis`` class. The relevant methods depend on your data and your interests. As an example, a demonstration of the filter and diurnal cycle of the demo data.\n",
    "\n"
   ]
  },
  {
   "cell_type": "markdown",
   "id": "11",
   "metadata": {},
   "source": [
    "### Filtering data\n",
    "\n",
    "It is common to filter your data according to specific meteorological phenomena or periods in time. To do this you can use the ``apply_filter_on_records()`` method. \n",
    "\n",
    "*NOTE*: The filtering will remove data"
   ]
  },
  {
   "cell_type": "code",
   "execution_count": null,
   "id": "12",
   "metadata": {},
   "outputs": [],
   "source": [
    "print(f'The initial number of records: {analysis.df.shape[0]}')\n",
    "\n",
    "#filter to non-windy afternoons\n",
    "analysis.apply_filter_on_records('(wind_speed <= 2.5) & (hour > 12) & (hour < 20)')\n",
    "\n",
    "#We can apply multiple consecutive filterings\n",
    "analysis.apply_filter_on_records('season==\"autumn\" | season==\"winter\"') #Be aware of quotation! \n",
    "\n",
    "\n",
    "print(f'The number of records after filtering: {analysis.df.shape[0]}')\n"
   ]
  },
  {
   "cell_type": "markdown",
   "id": "13",
   "metadata": {},
   "source": [
    "We can also use the metadata to filter to by using ``apply_filter_on_metadata()`` method."
   ]
  },
  {
   "cell_type": "code",
   "execution_count": null,
   "id": "14",
   "metadata": {},
   "outputs": [],
   "source": [
    "analysis.apply_filter_on_metadata(\"LCZ == 'Large lowrise'\")"
   ]
  },
  {
   "cell_type": "markdown",
   "id": "15",
   "metadata": {},
   "source": [
    "## Diurnal cycle \n",
    "\n",
    "To make a diurnal cycle plot of your Analysis use the ``get_diurnal_statistics()`` method:"
   ]
  },
  {
   "cell_type": "code",
   "execution_count": null,
   "id": "16",
   "metadata": {},
   "outputs": [],
   "source": [
    "analysis.plot_diurnal_cycle(colorby='name', #each station is plotted, and colored differently\n",
    "                                trgobstype='humidity', \n",
    "                                return_data = False,\n",
    "                                )"
   ]
  },
  {
   "cell_type": "markdown",
   "id": "17",
   "metadata": {},
   "source": [
    "*Note*: Be aware that we filtered the data to wind-still afternoons in autumn! \n",
    "\n",
    "If you want to work with the aggregated values, you can use the ``aggregate_df()`` method. As illustration we undo the filtering to have some more variability in the data. Then we aggregate the data per LCZ. "
   ]
  },
  {
   "cell_type": "code",
   "execution_count": null,
   "id": "18",
   "metadata": {},
   "outputs": [],
   "source": [
    "import numpy as np\n",
    "\n",
    "#Start with an unfiltered analysis\n",
    "analysis=metobs_toolkit.Analysis(Dataholder=dataset) \n",
    "\n",
    "aggdf = analysis.aggregate_df(trgobstype='temp',\n",
    "                      agg=[\"LCZ\", \"hour\"], #by adding hour, we keep the diuranal variation\n",
    "                      method=np.mean) #the aggregation function to use.\n",
    "aggdf"
   ]
  },
  {
   "cell_type": "markdown",
   "id": "19",
   "metadata": {},
   "source": [
    "### Diurnal cycle of differences\n",
    "\n",
    "The diurnal cycle of differences is also implemented. The values are the aggregated diurnal differences wrt a reference station.\n",
    "\n",
    "As an example the diurnal temperature difference cycle is plotted with station *vlinder02* as the reference. The aggregation is done per LCZ."
   ]
  },
  {
   "cell_type": "code",
   "execution_count": null,
   "id": "20",
   "metadata": {},
   "outputs": [],
   "source": [
    "analysis.plot_diurnal_cycle_with_reference_station(ref_station='vlinder02',\n",
    "                                                  trgobstype='temp',\n",
    "                                                  colorby='LCZ')\n"
   ]
  }
 ],
 "metadata": {
  "kernelspec": {
   "display_name": "metobs_dev",
   "language": "python",
   "name": "python3"
  },
  "language_info": {
   "name": "python",
   "version": "3.10.14"
  }
 },
 "nbformat": 4,
 "nbformat_minor": 5
}
