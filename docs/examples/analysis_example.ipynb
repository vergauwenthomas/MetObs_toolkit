{
 "cells": [
  {
   "cell_type": "markdown",
   "id": "0",
   "metadata": {},
   "source": [
    "# Demo: Analysis\n",
    "\n",
    "This example is the continuation of the previous example: [filling gaps](https://metobs-toolkit.readthedocs.io/en/latest/examples/filling_example.html). This example serves as an introduction to the Analysis module."
   ]
  },
  {
   "cell_type": "code",
   "execution_count": null,
   "id": "1",
   "metadata": {},
   "outputs": [],
   "source": [
    "%config InlineBackend.print_figure_kwargs = {'bbox_inches':None} #else the legend is cutoff in ipython inline plots"
   ]
  },
  {
   "cell_type": "code",
   "execution_count": null,
   "id": "2",
   "metadata": {},
   "outputs": [],
   "source": [
    "\n",
    "import metobs_toolkit\n",
    "\n",
    "your_dataset = metobs_toolkit.Dataset()\n",
    "your_dataset.update_file_paths(\n",
    "    input_data_file=metobs_toolkit.demo_datafile, # path to the data file\n",
    "    input_metadata_file=metobs_toolkit.demo_metadatafile,\n",
    "    template_file=metobs_toolkit.demo_template,\n",
    ")\n",
    "#Import the data\n",
    "your_dataset.import_data_from_file()\n",
    "\n",
    "#Get LCZ, and landcover fractions will be used later on\n",
    "your_dataset.get_LCZ()\n",
    "your_dataset.get_landcover()\n",
    "\n",
    "#Coarsen to 15-minutes frequencies\n",
    "your_dataset.coarsen_time_resolution(freq='15T')\n",
    "\n",
    "#Apply default quality control\n",
    "your_dataset.apply_quality_control(obstype='temp') #we use the default settings in this example\n",
    "\n",
    "#Interpret the outliers gaps.\n",
    "your_dataset.convert_outliers_to_gaps()\n",
    "\n",
    "#Fill gaps \n",
    "your_dataset.interpolate_gaps(obstype='temp')\n",
    "\n"
   ]
  },
  {
   "cell_type": "markdown",
   "id": "3",
   "metadata": {},
   "source": [
    "## Creating an Analysis\n",
    "\n",
    "The built-in analysis functionality is centered around the [*Analysis*](https://metobs-toolkit.readthedocs.io/en/latest/reference/analysis.html) class. First, create an *Analysis* object using the ``get_analysis()`` method."
   ]
  },
  {
   "cell_type": "code",
   "execution_count": null,
   "id": "4",
   "metadata": {},
   "outputs": [],
   "source": [
    "analysis = metobs_toolkit.Analysis(orig_dataset=your_dataset, \n",
    "                                   use_gapfilled_values=True)\n",
    "analysis"
   ]
  },
  {
   "cell_type": "markdown",
   "id": "5",
   "metadata": {},
   "source": [
    "## Analysis methods\n",
    "\n",
    "An overview of the available analysis methods can be seen in the documentation of the ``Analysis`` class. The relevant methods depend on your data and your interests. As an example, a demonstration of the filter and diurnal cycle of the demo data.\n",
    "\n",
    "### Filtering data\n",
    "\n",
    "It is common to filter your data according to specific meteorological phenomena or periods in time. To do this you can use the ``apply_filter()`` method."
   ]
  },
  {
   "cell_type": "code",
   "execution_count": null,
   "id": "6",
   "metadata": {},
   "outputs": [],
   "source": [
    "#filter to non-windy afternoons in the Autumn.\n",
    "subset = analysis.apply_filter('wind_speed <= 2.5 & season==\"autumn\" & hour > 12 & hour < 20')\n",
    "\n",
    "subset.make_plot()\n"
   ]
  },
  {
   "cell_type": "markdown",
   "id": "7",
   "metadata": {},
   "source": [
    "## Diurnal cycle \n",
    "\n",
    "To make a diurnal cycle plot of your Analysis use the ``get_diurnal_statistics()`` method:"
   ]
  },
  {
   "cell_type": "code",
   "execution_count": null,
   "id": "8",
   "metadata": {},
   "outputs": [],
   "source": [
    "dirunal_statistics = subset.get_diurnal_statistics(colorby='name',\n",
    "                                                   obstype='humidity', \n",
    "                                                   plot=True,\n",
    "                                                   errorbands=True,\n",
    "                                                  )\n",
    "#Note that in this example statistics are computed for a short period and only for the non-windy autumn afternoons."
   ]
  },
  {
   "cell_type": "markdown",
   "id": "9",
   "metadata": {},
   "source": [
    "## Landcover correlation heatmap\n",
    "\n",
    "If you are interested in the correlation matrices for landcoverfractions and an observationtype, you can use the ``Aanalysis.get_lc_correlation_matrices()`` method to do so. You can specify aggregation groups to compute correlations more specifically. The ``Analysis.plot_correlation_heatmap()`` method can be used to plot a landcover correlation matrix as a heatmap.\n",
    "\n",
    "**Note**: The ``Aanalysis.get_lc_correlation_matrices()`` method is a complex method, and it is advised to read the documentation carefully before using it."
   ]
  },
  {
   "cell_type": "code",
   "execution_count": null,
   "id": "10",
   "metadata": {},
   "outputs": [],
   "source": [
    "dict_of_cor_matrices = analysis.get_lc_correlation_matrices(\n",
    "                            obstype=[\"temp\"],\n",
    "                            groupby_labels=['hour', 'season']\n",
    "                                )\n",
    "\n",
    "# plot heatmap\n",
    "analysis.plot_correlation_heatmap(\n",
    "                            groupby_value=(4, 'autumn')) #plot LC correlation matrix for autumn temp records at 4h00.\n"
   ]
  }
 ],
 "metadata": {
  "language_info": {
   "name": "python"
  }
 },
 "nbformat": 4,
 "nbformat_minor": 5
}
