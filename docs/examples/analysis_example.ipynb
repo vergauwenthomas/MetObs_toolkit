{
 "cells": [
  {
   "cell_type": "markdown",
   "id": "9116142e-ebf4-471f-af77-52efca4aa935",
   "metadata": {},
   "source": [
    "# Demo: Analysis\n",
    "\n",
    "This example is the continuation of the previous example: [filling gaps](https://metobs-toolkit.readthedocs.io/en/latest/examples/filling_example.html). This example serves as an introduction to the Analysis module."
   ]
  },
  {
   "cell_type": "code",
   "execution_count": null,
   "id": "e7593f73-c25b-4ac0-989e-77a03a8f4a92",
   "metadata": {},
   "outputs": [],
   "source": [
    "import metobs_toolkit\n",
    "\n",
    "your_dataset = metobs_toolkit.Dataset()\n",
    "your_dataset.update_file_paths(\n",
    "    input_data_file=metobs_toolkit.demo_datafile, # path to the data file\n",
    "    input_metadata_file=metobs_toolkit.demo_metadatafile,\n",
    "    template_file=metobs_toolkit.demo_template,\n",
    ")\n",
    "#Import the data\n",
    "your_dataset.import_data_from_file()\n",
    "\n",
    "#Get LCZ, and landcover fractions will be used later on\n",
    "your_dataset.get_lcz()\n",
    "your_dataset.get_landcover()\n",
    "\n",
    "#Coarsen to 15-minutes frequencies\n",
    "your_dataset.coarsen_time_resolution(freq='15T')\n",
    "\n",
    "#Apply default quality control\n",
    "your_dataset.apply_quality_control(obstype='temp') #we use the default settings in this example\n",
    "\n",
    "#Interpret the outliers gaps.\n",
    "your_dataset.convert_outliers_to_gaps()\n",
    "\n",
    "#Fill gaps \n",
    "your_dataset.interpolate_gaps(obstype='temp')\n",
    "\n"
   ]
  },
  {
   "cell_type": "markdown",
   "id": "cfdf87f1-dcfd-4a13-b12a-7373e880e4cd",
   "metadata": {},
   "source": [
    "## Creating an Analysis\n",
    "\n",
    "The built-in analysis functionality is centered around the [*Analysis*](https://metobs-toolkit.readthedocs.io/en/latest/reference/analysis.html) class. First, create an *Analysis* object using the ``get_analysis()`` method."
   ]
  },
  {
   "cell_type": "code",
   "execution_count": null,
   "id": "c69bfda4-8a5f-49b6-9a80-cce0ed2d3dbd",
   "metadata": {},
   "outputs": [],
   "source": [
    "analysis = metobs_toolkit.Analysis(orig_dataset=your_dataset, \n",
    "                                   use_gapfilled_values=True)\n",
    "analysis"
   ]
  },
  {
   "cell_type": "markdown",
   "id": "26990a49-157d-4a59-9dce-9cbb1523d177",
   "metadata": {},
   "source": [
    "## Analysis methods\n",
    "\n",
    "An overview of the available analysis methods can be seen in the documentation of the ``Analysis`` class. The relevant methods depend on your data and your interests. As an example, a demonstration of the filter and diurnal cycle of the demo data.\n",
    "\n",
    "### Filtering data\n",
    "\n",
    "It is common to filter your data according to specific meteorological phenomena or periods in time. To do this you can use the ``apply_filter()`` method."
   ]
  },
  {
   "cell_type": "code",
   "execution_count": null,
   "id": "036ffd8c-bb43-4667-8556-84622d2b5498",
   "metadata": {},
   "outputs": [],
   "source": [
    "#filter to non-windy afternoons in the Autumn.\n",
    "subset = analysis.apply_filter('wind_speed <= 2.5 & season==\"autumn\" & hour > 12 & hour < 20')\n",
    "\n",
    "subset.make_plot()\n"
   ]
  },
  {
   "cell_type": "markdown",
   "id": "93399221-9b4e-4a6b-9b00-51ab9bf32a7e",
   "metadata": {},
   "source": [
    "## Diurnal cycle \n",
    "\n",
    "To make a diurnal cycle plot of your Analysis use the ``get_diurnal_statistics()`` method:"
   ]
  },
  {
   "cell_type": "code",
   "execution_count": null,
   "id": "e867c52c-72fa-49ac-ae00-98e9150b513c",
   "metadata": {},
   "outputs": [],
   "source": [
    "dirunal_statistics = subset.get_diurnal_statistics(colorby='name',\n",
    "                                                   obstype='humidity', \n",
    "                                                   plot=True,\n",
    "                                                   errorbands=True,\n",
    "                                                  )\n",
    "#Note that in this example statistics are computed for a short period and only for the non-windy autumn afternoons."
   ]
  },
  {
   "cell_type": "markdown",
   "id": "b5254ca8-1656-4af9-ac05-09fea888c82b",
   "metadata": {},
   "source": [
    "## Landcover correlation heatmap\n",
    "\n",
    "If you are interested in the correlation matrices for landcoverfractions and an observationtype, you can use the ``Aanalysis.get_lc_correlation_matrices()`` method to do so. You can specify aggregation groups to compute correlations more specifically. The ``Analysis.plot_correlation_heatmap()`` method can be used to plot a landcover correlation matrix as a heatmap.\n",
    "\n",
    "**Note**: The ``Aanalysis.get_lc_correlation_matrices()`` method is a complex method, and it is advised to read the documentation carefully before using it."
   ]
  },
  {
   "cell_type": "code",
   "execution_count": null,
   "id": "9da6a5a1-d0d6-4db7-95fe-aed08c3807a3",
   "metadata": {},
   "outputs": [],
   "source": [
    "dict_of_cor_matrices = analysis.get_lc_correlation_matrices(\n",
    "                            obstype=[\"temp\"],\n",
    "                            groupby_labels=['hour', 'season']\n",
    "                                )\n",
    "\n",
    "# plot heatmap\n",
    "analysis.plot_correlation_heatmap(\n",
    "                            groupby_value=(4, 'autumn')) #plot LC correlation matrix for autumn temp records at 4h00.\n"
   ]
  }
 ],
 "metadata": {
  "kernelspec": {
   "display_name": "Python 3 (ipykernel)",
   "language": "python",
   "name": "python3"
  },
  "language_info": {
   "codemirror_mode": {
    "name": "ipython",
    "version": 3
   },
   "file_extension": ".py",
   "mimetype": "text/x-python",
   "name": "python",
   "nbconvert_exporter": "python",
   "pygments_lexer": "ipython3",
   "version": "3.10.14"
  }
 },
 "nbformat": 4,
 "nbformat_minor": 5
}
