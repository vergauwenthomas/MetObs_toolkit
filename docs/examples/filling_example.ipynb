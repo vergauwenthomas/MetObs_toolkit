{
 "cells": [
  {
   "cell_type": "markdown",
   "id": "0",
   "metadata": {
    "editable": true,
    "slideshow": {
     "slide_type": ""
    },
    "tags": []
   },
   "source": [
    "# Demo example: filling gaps\n",
    "\n",
    "This example is the continuation of the previous example: [Apply quality control](https://metobs-toolkit.readthedocs.io/en/latest/examples/qc_example.html). This example serves as a demonstration of how to fill gaps. "
   ]
  },
  {
   "cell_type": "code",
   "execution_count": null,
   "id": "1",
   "metadata": {},
   "outputs": [],
   "source": [
    "%config InlineBackend.print_figure_kwargs = {'bbox_inches':None} #else the legend is cutoff in ipython inline plots"
   ]
  },
  {
   "cell_type": "code",
   "execution_count": null,
   "id": "2",
   "metadata": {},
   "outputs": [],
   "source": [
    "import metobs_toolkit\n",
    "metobs_toolkit.add_StreamHandler(setlvl='WARNING')\n",
    "\n",
    "your_dataset = metobs_toolkit.Dataset()\n",
    "your_dataset.update_file_paths(\n",
    "    input_data_file=metobs_toolkit.demo_datafile, # path to the data file\n",
    "    input_metadata_file=metobs_toolkit.demo_metadatafile,\n",
    "    template_file=metobs_toolkit.demo_template,\n",
    ")"
   ]
  },
  {
   "cell_type": "markdown",
   "id": "3",
   "metadata": {},
   "source": [
    "## Finding Gaps\n",
    "\n",
    "When you import your datafile, the toolkit will look for gaps in your data. This is done by assuming that each station has a perfect frequency of observations (i.g. 5 minutes), a start timestamp, and an end timestamp. The toolkit can construct a perfect set of timestamps for which an observation is expected. The toolkit will try to find an observation for each (perfect) timestamp, using timestamp tolerances if specified. \n",
    "\n",
    "When it is not possible to assign an observation to a timestamp, we have a *gap*. If multiple consecutive timestamps could not be matched to observations, we also have a gap but the gap spans a longer period.  \n"
   ]
  },
  {
   "cell_type": "code",
   "execution_count": null,
   "id": "4",
   "metadata": {},
   "outputs": [],
   "source": [
    "your_dataset.import_data_from_file(\n",
    "        freq_estimation_method=\"highest\", #which method to use for estimating a frequency\n",
    "        freq_estimation_simplify_tolerance=\"2min\", #tolerance for simplifying a frequency\n",
    "        origin_simplify_tolerance=\"5min\", #tolerance for simplifying an origin (=start timestap per station)\n",
    "        timestamp_tolerance=\"4min\") #tolerance for mapping an observation to a (perfect) timestamp\n",
    "\n",
    "your_dataset.coarsen_time_resolution(freq='15T')"
   ]
  },
  {
   "cell_type": "markdown",
   "id": "5",
   "metadata": {},
   "source": [
    "These missing observations are indicated in time series plots as vertical lines:"
   ]
  },
  {
   "cell_type": "code",
   "execution_count": null,
   "id": "6",
   "metadata": {},
   "outputs": [],
   "source": [
    "your_dataset.get_station('vlinder02').make_plot(colorby='label')"
   ]
  },
  {
   "cell_type": "markdown",
   "id": "7",
   "metadata": {},
   "source": [
    "## Inspect gaps\n",
    "\n",
    "The gaps are stored in the form of at the `.gaps` attribute of a Dataset. \n",
    "Each gap is defined by \n",
    "* an observationtype\n",
    "* a station name\n",
    "* a start timestamp\n",
    "* a end timestamp"
   ]
  },
  {
   "cell_type": "code",
   "execution_count": null,
   "id": "8",
   "metadata": {},
   "outputs": [],
   "source": [
    "your_dataset.gaps"
   ]
  },
  {
   "cell_type": "markdown",
   "id": "9",
   "metadata": {},
   "source": [
    "To have a tabular representation of the present gaps, use the ´.get_gaps_fill_df()` method. This method returns a dataframe that contains all the records present in the gaps. When gap-fill methods are applied, the filled values appear in this dataframe."
   ]
  },
  {
   "cell_type": "code",
   "execution_count": null,
   "id": "10",
   "metadata": {},
   "outputs": [],
   "source": [
    "your_dataset.get_gaps_fill_df()"
   ]
  },
  {
   "cell_type": "markdown",
   "id": "11",
   "metadata": {},
   "source": [
    "## Outliers to gaps and missing observations\n",
    "\n",
    "In practice, the observations that are labeled as outliers are often interpreted as gaps (because we assume that the observation value is erroneous) so that they can be filled. In the toolkit, it is possible to convert the outliers to gaps by using the ``convert_outliers_to_gaps()``."
   ]
  },
  {
   "cell_type": "code",
   "execution_count": null,
   "id": "12",
   "metadata": {},
   "outputs": [],
   "source": [
    "#first apply (default) quality control\n",
    "your_dataset.apply_quality_control(obstype='temp') #we use the default settings in this example\n",
    "\n",
    "#Interpret the outliers as missing observations and gaps.\n",
    "your_dataset.convert_outliers_to_gaps()\n",
    "#Inspect your gaps\n",
    "your_dataset.make_plot(colorby='label')"
   ]
  },
  {
   "cell_type": "markdown",
   "id": "13",
   "metadata": {},
   "source": [
    "When plotting a single station, the figure becomes more clear"
   ]
  },
  {
   "cell_type": "code",
   "execution_count": null,
   "id": "14",
   "metadata": {},
   "outputs": [],
   "source": [
    "your_dataset.get_station('vlinder05').make_plot(colorby='label')"
   ]
  },
  {
   "cell_type": "markdown",
   "id": "15",
   "metadata": {},
   "source": [
    "## Fill gaps\n",
    "\n",
    "In the toolkit, two groups of methods are implemented: **interpolation methods** and by making **use of external modeldata**. \n",
    "\n",
    "**NOTE**: In this example, we use a single station (vlinder05) for demonstration. All methods can be directly applied on \n",
    "a Dataset, you do not need to apply this on all stations separately."
   ]
  },
  {
   "cell_type": "markdown",
   "id": "16",
   "metadata": {},
   "source": [
    "### Interpolation methods\n",
    "\n",
    "The most straightforward method to fill a gap is by using interpolation. Linear interpolation is the best-known form of interpolation, but there are also more advanced forms of interpolation. In the toolkit, we can easily interpolate the gaps by making use of the ``Dataset.interpolate_gaps()`` method."
   ]
  },
  {
   "cell_type": "code",
   "execution_count": null,
   "id": "17",
   "metadata": {},
   "outputs": [],
   "source": [
    "your_dataset.interpolate_gaps(obstype='temp', #Which gaps to fill\n",
    "                              overwrite_fill = True, #Overwrite previous filled values if they are present\n",
    "                              method='linear', #which interpolation method\n",
    "                              max_consec_fill=10, #maximum number of consecutive missing records to fill.\n",
    "                              )\n",
    "your_dataset.get_station('vlinder05').make_plot(colorby='label')"
   ]
  },
  {
   "cell_type": "markdown",
   "id": "18",
   "metadata": {},
   "source": [
    "As you can see, some gaps are (partially) filled others are not filled. This is because a filling criterea was not matched. By using the ``Dataset.get_gaps_fill_df()`` method, it becomes clear why some gaps could not be filled."
   ]
  },
  {
   "cell_type": "code",
   "execution_count": null,
   "id": "19",
   "metadata": {},
   "outputs": [],
   "source": [
    "your_dataset.get_station('vlinder05').get_gaps_fill_df()"
   ]
  },
  {
   "cell_type": "markdown",
   "id": "20",
   "metadata": {},
   "source": [
    "If you are interested in all details of a specific gap, you can find that gap using the ``Dataset.find_gap()`` method, and then inspect the specific ``Gap()``."
   ]
  },
  {
   "cell_type": "code",
   "execution_count": null,
   "id": "21",
   "metadata": {},
   "outputs": [],
   "source": [
    "from datetime import datetime\n",
    "\n",
    "gap_of_interest = your_dataset.get_station('vlinder05').find_gap(stationname='vlinder05',\n",
    "                                                                 obstype='temp',\n",
    "                                                                 in_gap_timestamp = datetime(2022,9,3,1)) #2022-09-03 01:00:00\n",
    "\n",
    "gap_of_interest.get_info()\n",
    "\n",
    "#or inspect the gapdf\n",
    "gap_of_interest.gapdf"
   ]
  },
  {
   "cell_type": "markdown",
   "id": "22",
   "metadata": {},
   "source": [
    "### Higher order interpolation demo\n",
    "\n",
    "When using more advanced interpolation methods, often multiple **anchors** (= the good records that serve as anchor points for the interpolation). In the toolkit we will refer to a **leading period** and a **trailing period**, the anchor's observations before and after the gaps respectively. \n",
    "\n",
    "Here is an example on applying a polynomial interpolation on gaps."
   ]
  },
  {
   "cell_type": "code",
   "execution_count": null,
   "id": "23",
   "metadata": {},
   "outputs": [],
   "source": [
    "\n",
    "your_dataset.get_station('vlinder04').interpolate_gaps(\n",
    "                          method='polynomial',\n",
    "                          overwrite_fill=True,\n",
    "                          n_leading_anchors=3, #at least 3 leading anchors are needed for 3th order polynomial interpolation\n",
    "                          n_trailing_anchors=4, #at least 3 trailing anchors are needed for 3th order polynomial interpolation\n",
    "                          max_consec_fill=40, \n",
    "                          max_lead_to_gap_distance='60min', #the maximum distance (in time) beween the leading anchors and the start of the gap.\n",
    "                          method_kwargs={'order':3}, #all extra arguments to pass to the pandas.Dataframe.interpolate method.\n",
    ")\n",
    "\n",
    "your_dataset.get_station('vlinder04').make_plot(colorby='label')"
   ]
  },
  {
   "cell_type": "markdown",
   "id": "24",
   "metadata": {},
   "source": [
    "## Fill gaps using external modeldata\n",
    "\n",
    "As an example, we will fill the gaps using bias-corrected ERA5 data. For more info on how to download ERA5 data in the toolkit, see [Demo example: Using a Google Earth engine](https://metobs-toolkit.readthedocs.io/en/latest/examples/gee_example.html#Extracting-ERA5-timeseries).\n"
   ]
  },
  {
   "cell_type": "code",
   "execution_count": null,
   "id": "25",
   "metadata": {},
   "outputs": [],
   "source": [
    "\n",
    "#as a demonstration, we use a single station to fill the gaps of. All methods can be directly applied on a full Dataset.\n",
    "your_station = your_dataset.get_station('vlinder05') \n",
    "\n",
    "\n",
    "#ERA5-land is a (default) known dataset, AND 'temp' is a known ModelObstype (thus linked to a band)\n",
    "era5_model = your_station.gee_datasets['ERA5-land']\n",
    "era5_model.get_info()"
   ]
  },
  {
   "cell_type": "code",
   "execution_count": null,
   "id": "26",
   "metadata": {},
   "outputs": [],
   "source": [
    "#Extract time series at the location of the station\n",
    "ERA5_data = your_station.get_modeldata(\n",
    "                        Model=era5_model, \n",
    "                        obstypes=['temp'],\n",
    "                        startdt=None, #if None, the start of the observations is used\n",
    "                        enddt=None, #if None, the end of the observations is used\n",
    "            )\n",
    "\n",
    "#Use a debiased gap fill method to fill the gaps:\n",
    "your_station.fill_gaps_with_debiased_modeldata(\n",
    "            Model=ERA5_data,\n",
    "            obstype=\"temp\",\n",
    "            overwrite_fill=True,\n",
    "            leading_period_duration=\"24h\", #leading period definition for bias calculation\n",
    "            min_leading_records_total=4, # minimum size of leading period (in records)\n",
    "            trailing_period_duration=\"24h\", #trailing period definition for bias calculation\n",
    "            min_trailing_records_total=4, # minimum size of trailing period (in records)\n",
    "        )\n",
    "\n",
    "\n",
    "your_station.make_plot(colorby='label')"
   ]
  },
  {
   "cell_type": "markdown",
   "id": "27",
   "metadata": {},
   "source": [
    "The following modeldata-gapfill methods are implemented in the toolkit:\n",
    "\n",
    "* ``Dataset.fill_gaps_with_raw_modeldata()``\n",
    "* ``Dataset.fill_gaps_with_debiased_modeldata()``\n",
    "* ``Dataset.fill_gaps_with_diurnal_debiased_modeldata()``\n",
    "* ``Dataset.fill_gaps_with_weighted_diurnal_debias_modeldata()``\n",
    "\n",
    "For more information, see the Documentation of the methods. "
   ]
  }
 ],
 "metadata": {
  "language_info": {
   "name": "python"
  }
 },
 "nbformat": 4,
 "nbformat_minor": 5
}
