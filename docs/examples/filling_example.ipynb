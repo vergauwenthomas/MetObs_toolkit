{
 "cells": [
  {
   "cell_type": "markdown",
   "id": "0",
   "metadata": {
    "editable": true,
    "slideshow": {
     "slide_type": ""
    },
    "tags": []
   },
   "source": [
    "# Demo example: filling gaps\n",
    "\n",
    "This example serves as a demonstration of how to fill gaps. We demonstrate this for temperature observations. First we import the demo data, then we introduce some gaps in them, and as a last step the gaps are filled."
   ]
  },
  {
   "cell_type": "code",
   "execution_count": null,
   "id": "1",
   "metadata": {},
   "outputs": [],
   "source": [
    "import metobs_toolkit\n",
    "dataset = metobs_toolkit.Dataset() #Create a new dataset object\n",
    "\n",
    "#Load the data\n",
    "dataset.import_data_from_file(\n",
    "                    template_file=metobs_toolkit.demo_template, #The template file\n",
    "                    input_data_file=metobs_toolkit.demo_datafile, #The data file\n",
    "                    input_metadata_file=metobs_toolkit.demo_metadatafile, #The metadata file\n",
    "                    )\n"
   ]
  },
  {
   "cell_type": "markdown",
   "id": "2",
   "metadata": {},
   "source": [
    "## Identifying gaps\n",
    "\n",
    "As was shown in the [introduction notebook](introduction.ipynb), gaps are constructed when:\n",
    "\n",
    "* raw data is imported\n",
    "* `resample()` or `Dataset.sync_records()` is applied\n",
    "\n",
    "And we can inspect the gaps by plottig timeseries with ``make_plot(colorby='label')``, or via the dataframe attribute `gapsdf`. Both methods work on Dataset-level as on Station-level.\n"
   ]
  },
  {
   "cell_type": "code",
   "execution_count": null,
   "id": "3",
   "metadata": {},
   "outputs": [],
   "source": [
    "dataset.make_plot(obstype='temp', colorby='label')"
   ]
  },
  {
   "cell_type": "markdown",
   "id": "4",
   "metadata": {},
   "source": [
    "As can be seen in the plot, the number of gaps is rather limited. But it is clear that there are some issues with the observations. A common approach is to apply a quality control (QC) pipeline, and interpret the outliers as gaps. \n",
    "\n",
    "In the toolkit we can run a QC pipeline, see the [QC introduction](qc_example.ipynb), and then use the `.convert_outliers_to_gaps()` method to convert them to gaps. This is another method to introduce gaps in the dataset.\n"
   ]
  },
  {
   "cell_type": "code",
   "execution_count": null,
   "id": "5",
   "metadata": {},
   "outputs": [],
   "source": [
    "#Apply quality control on temprature (source: the QC introduction)\n",
    "target = 'temp'\n",
    "#Resampling\n",
    "dataset.resample(target_freq='10min')\n",
    "\n",
    "#1. gross value check\n",
    "dataset.gross_value_check(\n",
    "            target_obstype=target,\n",
    "            lower_threshold=-10.0,\n",
    "            upper_threshold=26.3)\n",
    "\n",
    "#2. persistence check\n",
    "dataset.persistence_check(\n",
    "            target_obstype=target,\n",
    "            timewindow='60min',\n",
    "            min_records_per_window=3)\n",
    "\n",
    "#3. repetitions check\n",
    "dataset.repetitions_check(\n",
    "            target_obstype=target,\n",
    "            max_N_repetitions=5\n",
    ")\n",
    "\n",
    "#4. repetitions check\n",
    "dataset.step_check(\n",
    "            target_obstype=target,\n",
    "            max_increase_per_second = 8.0 / 3600.0, #depends on standard unit! \n",
    "            max_decrease_per_second = -10.0 / 3600.0) #depends on standard unit! \n",
    "\n",
    "#5. window variation check\n",
    "dataset.window_variation_check(\n",
    "            target_obstype=target,\n",
    "            timewindow='60min',\n",
    "            min_records_per_window=3,\n",
    "            max_increase_per_second=8.0 / 3600.0, #depends on standard unit! \n",
    "            max_decrease_per_second = -10.0 / 3600.0, #depends on standard unit! \n",
    "            )\n",
    "#6. buddy check\n",
    "dataset.buddy_check(\n",
    "        target_obstype=target,\n",
    "        #main check settings\n",
    "        buddy_radius=15000, #15km defenition of buddy radius\n",
    "        std_threshold=2.0, #outlier threshold\n",
    "        #requirements\n",
    "        min_sample_size=5,\n",
    "        max_alt_diff=None,  # Maximum elevation difference between stations\n",
    "        N_iter=3, #Number of iterations\n",
    "        instantanious_tolerance='4min', #Max timestamp tolerance for 'at the same time'\n",
    "        lapserate=None, #Specify the variation with altitude, if None no correction is applied\n",
    "        min_std=1.0,  # Minimum standart deviation\n",
    ")\n",
    "\n",
    "dataset.make_plot(obstype='temp', \n",
    "                  colorby='label',\n",
    "                  title='After quality control on temperature observations.')\n"
   ]
  },
  {
   "cell_type": "markdown",
   "id": "6",
   "metadata": {},
   "source": [
    "Now we convert all the temperature outliers to gaps. \n",
    "\n",
    "*Note*: The outliers are removed, so the QC frequency statistics information is lost.\n"
   ]
  },
  {
   "cell_type": "code",
   "execution_count": null,
   "id": "7",
   "metadata": {},
   "outputs": [],
   "source": [
    "#convert all outliers to gaps\n",
    "dataset.convert_outliers_to_gaps(obstype='temp')\n",
    "\n",
    "#Inspect the gaps in a plot\n",
    "dataset.make_plot(obstype='temp',\n",
    "                  colorby='label',\n",
    "                  title='Temperature QC outliers are converted to gaps.')"
   ]
  },
  {
   "cell_type": "markdown",
   "id": "8",
   "metadata": {},
   "source": [
    "Since there are many gaps, accros different stations, it is more clear to plot the time series of as single station. "
   ]
  },
  {
   "cell_type": "code",
   "execution_count": null,
   "id": "9",
   "metadata": {},
   "outputs": [],
   "source": [
    "dataset.get_station('vlinder02').make_plot(obstype='temp',\n",
    "                                           colorby='label')"
   ]
  },
  {
   "cell_type": "markdown",
   "id": "10",
   "metadata": {},
   "source": [
    "We now have a dataset with gaps that can be filled."
   ]
  },
  {
   "cell_type": "markdown",
   "id": "11",
   "metadata": {},
   "source": [
    "## Inspecting a gap in detail\n",
    "\n",
    "The gaps are stored as a list of ``Gap`` instances, in the `SensorData`. We can acces them like:"
   ]
  },
  {
   "cell_type": "code",
   "execution_count": null,
   "id": "12",
   "metadata": {},
   "outputs": [],
   "source": [
    "#Get one specific gap\n",
    "specific_gap = (dataset\n",
    "                .get_station('vlinder02') #select a target stations\n",
    "                .obsdata['temp'] #select a target sensordata\n",
    "                .gaps[0] #select the first of the stored gaps\n",
    "                )\n",
    "\n",
    "specific_gap.get_info()"
   ]
  },
  {
   "cell_type": "markdown",
   "id": "13",
   "metadata": {},
   "source": [
    "Often it is more convenient to use the `gapsdf` attribute:"
   ]
  },
  {
   "cell_type": "code",
   "execution_count": null,
   "id": "14",
   "metadata": {},
   "outputs": [],
   "source": [
    "dataset.get_station('vlinder02').gapsdf"
   ]
  },
  {
   "cell_type": "markdown",
   "id": "15",
   "metadata": {},
   "source": [
    "These missing observations are indicated in time series plots as vertical lines:"
   ]
  },
  {
   "cell_type": "markdown",
   "id": "16",
   "metadata": {},
   "source": [
    "## Fill gaps\n",
    "\n",
    "In the toolkit, two groups of methods are implemented: **interpolation methods** and by making **use of external modeldata**. \n",
    "\n",
    "**NOTE**: In this example, we use a single station (vlinder02) for demonstration. All methods can be directly applied on \n",
    "a Dataset, you do not need to apply this on all stations separately."
   ]
  },
  {
   "cell_type": "markdown",
   "id": "17",
   "metadata": {},
   "source": [
    "### Interpolation methods\n",
    "\n",
    "The most straightforward method to fill a gap is by using interpolation. Linear interpolation is the best-known form of interpolation, but there are also more advanced forms of interpolation. In the toolkit, we can easily interpolate the gaps by making use of the ``.interpolate_gaps()`` method."
   ]
  },
  {
   "cell_type": "code",
   "execution_count": null,
   "id": "18",
   "metadata": {},
   "outputs": [],
   "source": [
    "#apply linear interpolation\n",
    "dataset.get_station('vlinder02').interpolate_gaps(\n",
    "                    target_obstype='temp', #Which gaps to fill\n",
    "                    overwrite_fill = True, #Overwrite previous filled values if they are present\n",
    "                    method='linear', #which interpolation method\n",
    "                    #Limitations:\n",
    "                    max_consec_fill=10, #maximum number of consecutive missing records to fill.\n",
    "                    )\n",
    "#make a plot\n",
    "dataset.get_station('vlinder02').make_plot(\n",
    "                    obstype='temp',\n",
    "                    colorby='label',\n",
    "                    title='Applying linear interpolation to fill the gaps.')"
   ]
  },
  {
   "cell_type": "markdown",
   "id": "19",
   "metadata": {},
   "source": [
    "As you can see, some (small) gaps are filled others are not filled. This is because a filling criterea was not matched (i.g. `max_consec_fill=10` will only fill gaps with a gapsize of 100 minutes (for 10min resolution)).\n",
    "\n",
    "By looking at the ``.gapsdf`` , it becomes clear why some gaps could not be filled."
   ]
  },
  {
   "cell_type": "code",
   "execution_count": null,
   "id": "20",
   "metadata": {},
   "outputs": [],
   "source": [
    "dataset.get_station('vlinder02').gapsdf"
   ]
  },
  {
   "cell_type": "markdown",
   "id": "21",
   "metadata": {},
   "source": [
    "### Higher order interpolation demo\n",
    "\n",
    "When using more advanced interpolation methods, often multiple **anchors** (= the good records that serve as anchor points for the interpolation) are required. In the toolkit we will refer to a **leading period** and a **trailing period**, the anchor's observations before and after the gaps respectively. \n",
    "\n",
    "Here is an example on applying a polynomial interpolation on gaps."
   ]
  },
  {
   "cell_type": "code",
   "execution_count": null,
   "id": "22",
   "metadata": {},
   "outputs": [],
   "source": [
    "#apply polynomial interpolation \n",
    "dataset.get_station('vlinder02').interpolate_gaps(\n",
    "                  target_obstype='temp',\n",
    "                  method='polynomial',\n",
    "                  overwrite_fill=False, #the gaps that are already filled are skipped (i.g. chainig GF methods)\n",
    "                  n_leading_anchors=3, #at least 3 leading anchors are needed for 3th order polynomial interpolation\n",
    "                  n_trailing_anchors=4, #at least 3 trailing anchors are needed for 3th order polynomial interpolation\n",
    "                  max_consec_fill=80, \n",
    "                  max_lead_to_gap_distance='60min', #the maximum distance (in time) beween the leading anchors and the start of the gap.\n",
    "                  method_kwargs={'order':3}, #all extra arguments to pass to the pandas.Dataframe.interpolate method.\n",
    ")\n",
    "#make plot\n",
    "dataset.get_station('vlinder02').make_plot(\n",
    "                  obstype='temp',\n",
    "                  colorby='label',\n",
    "                  title='linear interpolation (small gaps) +  3th-order-polynomial (for medium gaps)')"
   ]
  },
  {
   "cell_type": "markdown",
   "id": "23",
   "metadata": {},
   "source": [
    "## Fill gaps using external modeldata\n",
    "\n",
    "Another technique is to use an external source to fill the gaps. In the metobs-toolkit multiple variants of this technique are implemented, from simple to most complex:\n",
    "\n",
    "* `.fill_gaps_with_raw_modeldata`\n",
    "* `.fill_gaps_with_debiased_modeldata`\n",
    "* `.fill_gaps_with_diurnal_debiased_modeldata`\n",
    "* `.fill_gaps_with_weighted_diurnal_debias_modeldata`\n",
    "\n",
    "In general all methods use external modeldata and the more complex the method, the more complex the correction on the external modeldata is.\n",
    "\n",
    "For a detailed description we refer to the API documentation. \n",
    "\n",
    "\n",
    "As an example we will demonstrate the use of the `.fill_gaps_with_debiased_modeldata` method. To start, we need to extract external modeldata. We will extract ERA5-land temperature data, as is demonstrated in the [GEE example](gee_example.ipynb).\n"
   ]
  },
  {
   "cell_type": "code",
   "execution_count": null,
   "id": "24",
   "metadata": {},
   "outputs": [],
   "source": [
    "#Extract ERA5 temperature modedata \n",
    "era5_manager = metobs_toolkit.default_GEE_datasets['ERA5-land']\n",
    "#Extract the timeseries \n",
    "era5_temp = dataset.get_station('vlinder02').get_gee_timeseries_data(\n",
    "                geedynamicdatasetmanager=era5_manager, #The datasetmanager to use\n",
    "                startdt_utc=None,\n",
    "                enddt_utc=None,\n",
    "                target_obstypes=['temp'], #the observationtypes to extract, must be knonw modelobstypes\n",
    "                force_direct_transfer=True\n",
    "                )"
   ]
  },
  {
   "cell_type": "code",
   "execution_count": null,
   "id": "25",
   "metadata": {},
   "outputs": [],
   "source": [
    "#Make a plot for illustration\n",
    "dataset.get_station('vlinder02').make_plot(\n",
    "                obstype='temp',\n",
    "                colorby='label',\n",
    "                show_modeldata=True,\n",
    "                title='Partially interpolated timeseries and raw ERA5 temperature data.')"
   ]
  },
  {
   "cell_type": "markdown",
   "id": "26",
   "metadata": {},
   "source": [
    "As we can see, we have external modeldata over the same period as the observations so we can use it to fill the gaps. In the `.fill_gaps_with_debiased_modeldata`, we specify a *leading-* and *trailing period* (a adjacent period before and after the gap with good records). These periods will be used to compute a modelbias, for wice the gapfill values will be corrected for. "
   ]
  },
  {
   "cell_type": "code",
   "execution_count": null,
   "id": "27",
   "metadata": {},
   "outputs": [],
   "source": [
    "import pandas as pd\n",
    "#Fill the gaps with debias modeldata\n",
    "dataset.get_station('vlinder02').fill_gaps_with_debiased_modeldata(\n",
    "            target_obstype='temp',\n",
    "            leading_period_duration=pd.Timedelta('4h'),\n",
    "            min_leading_records_total=20,\n",
    "            trailing_period_duration=pd.Timedelta('4h'),\n",
    "            min_trailing_records_total=20)\n",
    "\n"
   ]
  },
  {
   "cell_type": "code",
   "execution_count": null,
   "id": "28",
   "metadata": {},
   "outputs": [],
   "source": [
    "#Make a plot for illustration\n",
    "dataset.get_station('vlinder02').make_plot(\n",
    "                obstype='temp',\n",
    "                colorby='label',\n",
    "                show_modeldata=False,\n",
    "                title='Partially interpolated timeseries and partially filled with debiased ERA5 temperature data.')"
   ]
  },
  {
   "cell_type": "markdown",
   "id": "29",
   "metadata": {},
   "source": [
    "As you can see, one of the remainding gaps is succesfully filled with the debiased modeldata. One gap is not filled, to see why we inspect the `.modeldf` attribute."
   ]
  },
  {
   "cell_type": "code",
   "execution_count": null,
   "id": "30",
   "metadata": {},
   "outputs": [],
   "source": [
    "dataset.get_station('vlinder02').gapsdf"
   ]
  },
  {
   "cell_type": "markdown",
   "id": "31",
   "metadata": {},
   "source": [
    "We see that the issue is too few trailing records (17 found but 20 required in a 4-hour period). You can verify this by looking in the `.df` attribute of the station to see that this is true. You can also see this in the timeseries plot if you zoom in to the trailing period, that there is a interpolated gap (insert `%matplotlib qt` in the cell with the `.make_plot()` call to use the zoom-tool.)\n",
    "\n",
    "\n",
    "Note that succesfull interpolated records are not included in the trailing period.\n",
    "\n",
    "In order to solve this, we can lessen the restriction for the trailing period."
   ]
  },
  {
   "cell_type": "code",
   "execution_count": null,
   "id": "32",
   "metadata": {},
   "outputs": [],
   "source": [
    "\n",
    "\n",
    "#Fill the gaps with debias modeldata\n",
    "dataset.get_station('vlinder02').fill_gaps_with_debiased_modeldata(\n",
    "            target_obstype='temp',\n",
    "            leading_period_duration=pd.Timedelta('4h'),\n",
    "            min_leading_records_total=20,\n",
    "            trailing_period_duration=pd.Timedelta('4h'),\n",
    "            min_trailing_records_total=15) #lessened restrection 20 -> 15\n",
    "\n",
    "#Make a plot for illustration\n",
    "dataset.get_station('vlinder02').make_plot(\n",
    "                obstype='temp',\n",
    "                colorby='label',\n",
    "                show_modeldata=False,\n",
    "                title='Partially interpolated timeseries and partially filled with debiased ERA5 temperature data.')"
   ]
  }
 ],
 "metadata": {
  "language_info": {
   "name": "python"
  }
 },
 "nbformat": 4,
 "nbformat_minor": 5
}
