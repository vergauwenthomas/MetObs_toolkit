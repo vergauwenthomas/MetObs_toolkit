{
 "cells": [
  {
   "cell_type": "markdown",
   "id": "0",
   "metadata": {
    "editable": true,
    "slideshow": {
     "slide_type": ""
    },
    "tags": []
   },
   "source": [
    "# Demo: Custom observation types\n",
    "In this demo, you can find a demonstration on how to use Observation types."
   ]
  },
  {
   "cell_type": "code",
   "execution_count": null,
   "id": "1",
   "metadata": {},
   "outputs": [],
   "source": [
    "%config InlineBackend.print_figure_kwargs = {'bbox_inches':None} #else the legend is cutoff in ipython inline plots"
   ]
  },
  {
   "cell_type": "code",
   "execution_count": null,
   "id": "2",
   "metadata": {},
   "outputs": [],
   "source": [
    "import metobs_toolkit\n",
    "\n",
    "#Initialize an empty Dataset\n",
    "your_dataset = metobs_toolkit.Dataset()"
   ]
  },
  {
   "cell_type": "markdown",
   "id": "3",
   "metadata": {},
   "source": [
    "## Default observation types\n",
    "\n",
    "An observation record must always be linked to an *observation type* which is specified by the ``Obstype`` class. \n",
    "An Obstype represents one observation type (i.g. temperature), and it handles unit conversions and string representations of an observation type. \n",
    "\n",
    "By default, a set of standard observationtypes are stored in a Dataset:"
   ]
  },
  {
   "cell_type": "code",
   "execution_count": null,
   "id": "4",
   "metadata": {},
   "outputs": [],
   "source": [
    "your_dataset.show()"
   ]
  },
  {
   "cell_type": "markdown",
   "id": "5",
   "metadata": {},
   "source": [
    "From the output it is clear that an Obstype holds a **standard unit**. This standard unit is the preferred unit to store and visualize the data in. The toolkit will convert all observations to their standard unit, on all import methods. *(This is also true for the Modeldata, which is converted to the standard units upon import)*.\n",
    "\n",
    "A **description** (optional) holds a more detailed description of the observation type. \n",
    "\n",
    "Multiple **known units** can be defined, as long as the conversion to the standard unit is defined. \n",
    "\n",
    "**Aliases** are equivalent names for the same unit. \n",
    "\n",
    "At last, each Obstype has a unique **name** for convenions. You can use this name to refer to the Obstype in the Dataset methods.\n",
    "\n",
    "As an example take a look at the temperature observation and see what the standard unit, other units and aliases look like:\n"
   ]
  },
  {
   "cell_type": "code",
   "execution_count": null,
   "id": "6",
   "metadata": {},
   "outputs": [],
   "source": [
    "temperature_obstype = your_dataset.obstypes['temp'] #temp is the name of the observationtype\n",
    "print(temperature_obstype)\n",
    "\n",
    "temperature_obstype.get_info()"
   ]
  },
  {
   "cell_type": "markdown",
   "id": "7",
   "metadata": {},
   "source": [
    "## Creating and Updating observations\n",
    "If you want to create a new observationtype you can do this by creating an Obstype and adding it to your (empty) Dataset:"
   ]
  },
  {
   "cell_type": "code",
   "execution_count": null,
   "id": "8",
   "metadata": {},
   "outputs": [],
   "source": [
    "co2_concentration = metobs_toolkit.Obstype(obsname='co2',\n",
    "                                           std_unit='ppm')\n",
    "\n",
    "#add other units to it (if needed)\n",
    "co2_concentration.add_unit(unit_name='ppb',\n",
    "                           conversion=['x / 1000'], #1 ppb = 0.001 ppm\n",
    "                          )\n",
    "\n",
    "#Set a description\n",
    "co2_concentration.set_description(desc='The CO2 concentration measured at 2m above surface')\n",
    "\n",
    "#add it to your dataset\n",
    "your_dataset.add_new_observationtype(co2_concentration)\n",
    "\n",
    "#You can see the CO2 concentration is now added to the dataset\n",
    "your_dataset.show()\n",
    "                                           "
   ]
  },
  {
   "cell_type": "markdown",
   "id": "9",
   "metadata": {},
   "source": [
    "You can also update (the units) of the know observationtypes :"
   ]
  },
  {
   "cell_type": "code",
   "execution_count": null,
   "id": "10",
   "metadata": {},
   "outputs": [],
   "source": [
    "your_dataset.add_new_unit(obstype = 'temp', \n",
    "                          new_unit= 'your_new_unit',\n",
    "                          conversion_expression = ['x+3', 'x * 2'])\n",
    "# The conversion means: 1 [your_new_unit] = (1 + 3) * 2 [°C]\n",
    "your_dataset.obstypes['temp'].get_info()"
   ]
  },
  {
   "cell_type": "markdown",
   "id": "11",
   "metadata": {},
   "source": [
    "## Obstypes for Modeldata\n",
    "### ModelObstype\n",
    "An extension to the `Obstype` class is the `ModelObstype` class which is used for interacting with GEE dataset. In addition to a regular `Obstype` a `ModelObstype` contains the info which band (of the GEE dataset) represents the observation, and handles the unit conversion. \n",
    "\n",
    "*Note:* All methods that work on `Obstype` do also work on `ModelObstype`.\n",
    "\n",
    "\n",
    "A `ModelObstype` is specific to one GEE dataset. Therefore the known modelobstypes are stored in each `GeeDynamicDataset`. As a default, there is an ERA5-land `GeeDynamicDataset` stored in all Datasets."
   ]
  },
  {
   "cell_type": "code",
   "execution_count": null,
   "id": "12",
   "metadata": {},
   "outputs": [],
   "source": [
    "your_dataset.gee_datasets"
   ]
  },
  {
   "cell_type": "code",
   "execution_count": null,
   "id": "13",
   "metadata": {},
   "outputs": [],
   "source": [
    "era5_model = your_dataset.gee_datasets['ERA5-land']\n",
    "era5_model"
   ]
  },
  {
   "cell_type": "markdown",
   "id": "14",
   "metadata": {},
   "source": [
    "To see all the known `ModelObstypes` of the era5_model, we can look in the attribute or use the `GeeDynamicDataset.get_info()` method. "
   ]
  },
  {
   "cell_type": "code",
   "execution_count": null,
   "id": "15",
   "metadata": {},
   "outputs": [],
   "source": [
    "print(era5_model.modelobstypes)\n",
    "# or\n",
    "era5_model.get_info()"
   ]
  },
  {
   "cell_type": "markdown",
   "id": "16",
   "metadata": {},
   "source": [
    "As an example, we will create a new ModelObstype that represents the accumulated precipitation as is present in the ERA5_land GEE dataset. We extract precipitation timeseries as a demo."
   ]
  },
  {
   "cell_type": "code",
   "execution_count": null,
   "id": "17",
   "metadata": {},
   "outputs": [],
   "source": [
    "import pandas as pd\n",
    "from datetime import datetime\n",
    "#Create a new observation type\n",
    "precipitation = metobs_toolkit.Obstype(obsname='cumulated_precip',\n",
    "                                      std_unit='m',\n",
    "                                      description='Cumulated total precipitation since midnight per squared meter')\n",
    "\n",
    "#Create the ModelObstype\n",
    "precip_in_era5 = metobs_toolkit.ModelObstype(\n",
    "                        obstype=precipitation,\n",
    "                        model_band='total_precipitation', #look this up: https://developers.google.com/earth-engine/datasets/catalog/ECMWF_ERA5_LAND_HOURLY#bands \n",
    "                        model_unit='m',\n",
    "               )\n",
    "# Add it to the ERA5 model\n",
    "era5_model.add_modelobstype(precip_in_era5)\n",
    "\n",
    "era5_model.modelobstypes\n"
   ]
  },
  {
   "cell_type": "code",
   "execution_count": null,
   "id": "18",
   "metadata": {},
   "outputs": [],
   "source": [
    "\n",
    "# import metadata in your dataset \n",
    "your_dataset.import_data_from_file(\n",
    "                input_data_file=metobs_toolkit.demo_datafile,\n",
    "                input_metadata_file=metobs_toolkit.demo_metadatafile,\n",
    "                template_file=metobs_toolkit.demo_template)\n",
    "metadf = your_dataset.metadf\n",
    "metadf\n"
   ]
  },
  {
   "cell_type": "code",
   "execution_count": null,
   "id": "19",
   "metadata": {},
   "outputs": [],
   "source": [
    "\n",
    "# Now we add the metadata to the model \n",
    "era5_model.set_metadf(metadf)\n",
    "\n",
    "# Define a time period\n",
    "tstart = datetime(2023,1,12)\n",
    "tend = datetime(2023,1,15)\n",
    "\n",
    "\n",
    "#Extract timeseries data at the location of the stations\n",
    "era5_model.extract_timeseries_data(\n",
    "                    obstypes=['cumulated_precip'],\n",
    "                    startdt_utc=tstart,\n",
    "                    enddt_utc=tend)\n",
    "                \n",
    "\n",
    "era5_model.get_info()\n"
   ]
  },
  {
   "cell_type": "code",
   "execution_count": null,
   "id": "20",
   "metadata": {},
   "outputs": [],
   "source": [
    "era5_model.modeldf"
   ]
  },
  {
   "cell_type": "code",
   "execution_count": null,
   "id": "21",
   "metadata": {},
   "outputs": [],
   "source": [
    "era5_model.make_plot(obstype_model='cumulated_precip')"
   ]
  },
  {
   "cell_type": "markdown",
   "id": "22",
   "metadata": {},
   "source": [
    "### ModelObstype_Vectorfield\n",
    "At a specific height, the wind can be seen (by approximation) as a 2D vector field. The vector components are often stored in different bands/variables in a model.\n",
    "\n",
    "For example, if you want the 10m windspeed from ERA5 you cannot find a band for the windspeed. There are bands for the\n",
    "u and v component of the wind. \n",
    "\n",
    "The `ModelObstype_Vectorfield` class represents a modelobstype, for which there does not exist a band, but can be constructed from (orthogonal) components. The vector amplitudes and direction are computed, and the corresponding `ModelObstype`'s are created.\n",
    "\n",
    "By default, the *wind* is added as a `ModelObstype_vectorfield` for the ERA5-land `GeeDynamicDataset`."
   ]
  },
  {
   "cell_type": "code",
   "execution_count": null,
   "id": "23",
   "metadata": {},
   "outputs": [],
   "source": [
    "era5_model.modelobstypes"
   ]
  },
  {
   "cell_type": "markdown",
   "id": "24",
   "metadata": {},
   "source": [
    "So we can see that *wind* corresponds with two bands (the u and v component)."
   ]
  },
  {
   "cell_type": "markdown",
   "id": "25",
   "metadata": {},
   "source": [
    "When extracting the wind data from era5 it will\n",
    " 1. Download the u and v wind components for your period and locations.\n",
    " 2. Convert each component to its standard units (m/s for the wind components).\n",
    " 3. Compute the amplitude and the direction (in degrees from North, clockwise).\n",
    " 4. Add a `ModelObstype` for the amplitude and one for the direction."
   ]
  },
  {
   "cell_type": "code",
   "execution_count": null,
   "id": "26",
   "metadata": {},
   "outputs": [],
   "source": [
    "era5_model.set_metadf(metadf)\n",
    "\n",
    "tstart = datetime(2023,1,12)\n",
    "tend = datetime(2023,1,15)\n",
    "\n",
    "era5_model.extract_timeseries_data(\n",
    "                    obstypes=['wind'],\n",
    "                    startdt_utc=tstart,\n",
    "                    enddt_utc=tend)\n",
    "                \n",
    "\n",
    "era5_model.modelobstypes\n"
   ]
  },
  {
   "cell_type": "markdown",
   "id": "27",
   "metadata": {},
   "source": [
    "We can see that *wind_speed* and *wind_direction* are added to the known modelobstypes of the era5_model. The modeldata contains these columns."
   ]
  },
  {
   "cell_type": "code",
   "execution_count": null,
   "id": "28",
   "metadata": {},
   "outputs": [],
   "source": [
    "era5_model.modeldf"
   ]
  },
  {
   "cell_type": "code",
   "execution_count": null,
   "id": "29",
   "metadata": {},
   "outputs": [],
   "source": [
    "era5_model.make_plot(obstype_model='wind_speed')"
   ]
  }
 ],
 "metadata": {
  "language_info": {
   "name": "python"
  }
 },
 "nbformat": 4,
 "nbformat_minor": 5
}
