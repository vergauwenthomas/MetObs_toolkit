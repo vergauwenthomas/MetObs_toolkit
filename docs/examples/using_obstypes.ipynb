{
 "cells": [
  {
   "cell_type": "markdown",
   "id": "e4b8a66f-c3df-400b-a1d1-c031ff7d5f1c",
   "metadata": {},
   "source": [
    "# Working with specific observation types\n",
    "In this demo, you can find a demonstration on how to use Observation types."
   ]
  },
  {
   "cell_type": "code",
   "execution_count": 1,
   "id": "80d48024-5cda-43de-8f32-9b231f1243c7",
   "metadata": {},
   "outputs": [],
   "source": [
    "import metobs_toolkit\n",
    "\n",
    "#Initialize an empty Dataset\n",
    "your_dataset = metobs_toolkit.Dataset()"
   ]
  },
  {
   "cell_type": "markdown",
   "id": "24e53b6d-f2e9-4ac0-b175-b765c16988a6",
   "metadata": {},
   "source": [
    "## Default observation types\n",
    "\n",
    "An observation record must always be linked to an *observation type* which is specified by the ``Obstype`` class. \n",
    "An Obstype represents one observation type (i.g. temperature), and it handles unit conversions and string representations of an observation type. \n",
    "\n",
    "By default a set of standard observationtypes are stored in a Dataset:"
   ]
  },
  {
   "cell_type": "code",
   "execution_count": 2,
   "id": "361a4341-e217-411d-a3b8-9c0829b0de92",
   "metadata": {},
   "outputs": [
    {
     "name": "stdout",
     "output_type": "stream",
     "text": [
      "--------  General --------- \n",
      "\n",
      "Empty instance of a Dataset.\n",
      "\n",
      " --------  Observation types --------- \n",
      "\n",
      "temp observation with: \n",
      "     * standard unit: Celsius \n",
      "     * data column as None in None \n",
      "     * known units and aliases: {'Celsius': ['celsius', '°C', '°c', 'celcius', 'Celcius'], 'Kelvin': ['K', 'kelvin'], 'Farenheit': ['farenheit']} \n",
      "     * description: 2m - temperature \n",
      "     * conversions to known units: {'Kelvin': ['x - 273.15'], 'Farenheit': ['x-32.0', 'x/1.8']} \n",
      "     * originates from data column: None with None as native unit.\n",
      "humidity observation with: \n",
      "     * standard unit: % \n",
      "     * data column as None in None \n",
      "     * known units and aliases: {'%': ['percent', 'percentage']} \n",
      "     * description: 2m - relative humidity \n",
      "     * conversions to known units: {} \n",
      "     * originates from data column: None with None as native unit.\n",
      "radiation_temp observation with: \n",
      "     * standard unit: Celsius \n",
      "     * data column as None in None \n",
      "     * known units and aliases: {'Celsius': ['celsius', '°C', '°c', 'celcius', 'Celcius'], 'Kelvin': ['K', 'kelvin'], 'Farenheit': ['farenheit']} \n",
      "     * description: 2m - Black globe \n",
      "     * conversions to known units: {'Kelvin': ['x - 273.15'], 'Farenheit': ['x-32.0', 'x/1.8']} \n",
      "     * originates from data column: None with None as native unit.\n",
      "pressure observation with: \n",
      "     * standard unit: pa \n",
      "     * data column as None in None \n",
      "     * known units and aliases: {'pa': ['Pascal', 'pascal', 'Pa'], 'hpa': ['hecto pascal', 'hPa'], 'psi': ['Psi'], 'bar': ['Bar']} \n",
      "     * description: atmospheric pressure (at station) \n",
      "     * conversions to known units: {'hpa': ['x * 100'], 'psi': ['x * 6894.7573'], 'bar': ['x * 100000.']} \n",
      "     * originates from data column: None with None as native unit.\n",
      "pressure_at_sea_level observation with: \n",
      "     * standard unit: pa \n",
      "     * data column as None in None \n",
      "     * known units and aliases: {'pa': ['Pascal', 'pascal', 'Pa'], 'hpa': ['hecto pascal', 'hPa'], 'psi': ['Psi'], 'bar': ['Bar']} \n",
      "     * description: atmospheric pressure (at sea level) \n",
      "     * conversions to known units: {'hpa': ['x * 100'], 'psi': ['x * 6894.7573'], 'bar': ['x * 100000.']} \n",
      "     * originates from data column: None with None as native unit.\n",
      "precip observation with: \n",
      "     * standard unit: mm/m² \n",
      "     * data column as None in None \n",
      "     * known units and aliases: {'mm/m²': ['mm', 'liter', 'liters', 'l/m²', 'milimeter']} \n",
      "     * description: precipitation intensity \n",
      "     * conversions to known units: {} \n",
      "     * originates from data column: None with None as native unit.\n",
      "precip_sum observation with: \n",
      "     * standard unit: mm/m² \n",
      "     * data column as None in None \n",
      "     * known units and aliases: {'mm/m²': ['mm', 'liter', 'liters', 'l/m²', 'milimeter']} \n",
      "     * description: Cummulated precipitation \n",
      "     * conversions to known units: {} \n",
      "     * originates from data column: None with None as native unit.\n",
      "wind_speed observation with: \n",
      "     * standard unit: m/s \n",
      "     * data column as None in None \n",
      "     * known units and aliases: {'m/s': ['meters/second', 'm/sec'], 'km/h': ['kilometers/hour', 'kph'], 'mph': ['miles/hour']} \n",
      "     * description: wind speed \n",
      "     * conversions to known units: {'km/h': ['x / 3.6'], 'mph': ['x * 0.44704']} \n",
      "     * originates from data column: None with None as native unit.\n",
      "wind_gust observation with: \n",
      "     * standard unit: m/s \n",
      "     * data column as None in None \n",
      "     * known units and aliases: {'m/s': ['meters/second', 'm/sec'], 'km/h': ['kilometers/hour', 'kph'], 'mph': ['miles/hour']} \n",
      "     * description: wind gust \n",
      "     * conversions to known units: {'km/h': ['x / 3.6'], 'mph': ['x * 0.44704']} \n",
      "     * originates from data column: None with None as native unit.\n",
      "wind_direction observation with: \n",
      "     * standard unit: ° from north (CW) \n",
      "     * data column as None in None \n",
      "     * known units and aliases: {'° from north (CW)': ['°', 'degrees']} \n",
      "     * description: wind direction \n",
      "     * conversions to known units: {} \n",
      "     * originates from data column: None with None as native unit.\n",
      "\n",
      " --------  Settings --------- \n",
      "\n",
      "(to show all settings use the .show_settings() method, or set show_all_settings = True)\n",
      "\n",
      " --------  Outliers --------- \n",
      "\n",
      "No outliers.\n",
      "\n",
      " --------  Meta data --------- \n",
      "\n",
      "No metadata is found.\n"
     ]
    }
   ],
   "source": [
    "your_dataset.show()"
   ]
  },
  {
   "cell_type": "markdown",
   "id": "03a66ed6-de2a-44d6-8f4e-5fb577f0d0d5",
   "metadata": {},
   "source": [
    "From the output it is clear that an Obstype holds a **standard unit**. This standard unit is the preferred unit to store and visualize the data in. The toolkit will convert all observations to their standard unit, on all import methods. *(This is also true for the Modeldata, which is converted to the standard units upon import)*.\n",
    "\n",
    "A **description** (optional) holds a more detailed description of the observation type. \n",
    "\n",
    "Multiple **known units** can be defined, as long as the conversion to the standard unit is defined. \n",
    "\n",
    "**Aliases** are equivalent names for the same unit. \n",
    "\n",
    "At last, each Obstype has a unique **name** for convenions. You can use this name to refer to the Obstype in the Dataset methods.\n",
    "\n",
    "As an example take a look at the temperature observation and see what the standard unit, other units and aliases looks like:\n"
   ]
  },
  {
   "cell_type": "code",
   "execution_count": 3,
   "id": "14e49af0-77cc-4539-8a59-8374d06c9d18",
   "metadata": {},
   "outputs": [
    {
     "name": "stdout",
     "output_type": "stream",
     "text": [
      "Obstype instance of temp\n",
      "temp observation with: \n",
      "     * standard unit: Celsius \n",
      "     * data column as None in None \n",
      "     * known units and aliases: {'Celsius': ['celsius', '°C', '°c', 'celcius', 'Celcius'], 'Kelvin': ['K', 'kelvin'], 'Farenheit': ['farenheit']} \n",
      "     * description: 2m - temperature \n",
      "     * conversions to known units: {'Kelvin': ['x - 273.15'], 'Farenheit': ['x-32.0', 'x/1.8']} \n",
      "     * originates from data column: None with None as native unit.\n"
     ]
    }
   ],
   "source": [
    "temperature_obstype = your_dataset.obstypes['temp'] #temp is the name of the observationtype\n",
    "print(temperature_obstype)\n",
    "\n",
    "temperature_obstype.get_info()"
   ]
  },
  {
   "cell_type": "markdown",
   "id": "f6cdac58-d288-4af0-990e-e1e5403fea0c",
   "metadata": {},
   "source": [
    "## Creating and Updating observations\n",
    "If you want to create a new observationtype you can do this by creating an Obstype and adding it to your (empty) Dataset:"
   ]
  },
  {
   "cell_type": "code",
   "execution_count": 4,
   "id": "b80f7106-f6ec-45f2-a5a5-ef175480fcda",
   "metadata": {},
   "outputs": [
    {
     "name": "stdout",
     "output_type": "stream",
     "text": [
      "--------  General --------- \n",
      "\n",
      "Empty instance of a Dataset.\n",
      "\n",
      " --------  Observation types --------- \n",
      "\n",
      "temp observation with: \n",
      "     * standard unit: Celsius \n",
      "     * data column as None in None \n",
      "     * known units and aliases: {'Celsius': ['celsius', '°C', '°c', 'celcius', 'Celcius'], 'Kelvin': ['K', 'kelvin'], 'Farenheit': ['farenheit']} \n",
      "     * description: 2m - temperature \n",
      "     * conversions to known units: {'Kelvin': ['x - 273.15'], 'Farenheit': ['x-32.0', 'x/1.8']} \n",
      "     * originates from data column: None with None as native unit.\n",
      "humidity observation with: \n",
      "     * standard unit: % \n",
      "     * data column as None in None \n",
      "     * known units and aliases: {'%': ['percent', 'percentage']} \n",
      "     * description: 2m - relative humidity \n",
      "     * conversions to known units: {} \n",
      "     * originates from data column: None with None as native unit.\n",
      "radiation_temp observation with: \n",
      "     * standard unit: Celsius \n",
      "     * data column as None in None \n",
      "     * known units and aliases: {'Celsius': ['celsius', '°C', '°c', 'celcius', 'Celcius'], 'Kelvin': ['K', 'kelvin'], 'Farenheit': ['farenheit']} \n",
      "     * description: 2m - Black globe \n",
      "     * conversions to known units: {'Kelvin': ['x - 273.15'], 'Farenheit': ['x-32.0', 'x/1.8']} \n",
      "     * originates from data column: None with None as native unit.\n",
      "pressure observation with: \n",
      "     * standard unit: pa \n",
      "     * data column as None in None \n",
      "     * known units and aliases: {'pa': ['Pascal', 'pascal', 'Pa'], 'hpa': ['hecto pascal', 'hPa'], 'psi': ['Psi'], 'bar': ['Bar']} \n",
      "     * description: atmospheric pressure (at station) \n",
      "     * conversions to known units: {'hpa': ['x * 100'], 'psi': ['x * 6894.7573'], 'bar': ['x * 100000.']} \n",
      "     * originates from data column: None with None as native unit.\n",
      "pressure_at_sea_level observation with: \n",
      "     * standard unit: pa \n",
      "     * data column as None in None \n",
      "     * known units and aliases: {'pa': ['Pascal', 'pascal', 'Pa'], 'hpa': ['hecto pascal', 'hPa'], 'psi': ['Psi'], 'bar': ['Bar']} \n",
      "     * description: atmospheric pressure (at sea level) \n",
      "     * conversions to known units: {'hpa': ['x * 100'], 'psi': ['x * 6894.7573'], 'bar': ['x * 100000.']} \n",
      "     * originates from data column: None with None as native unit.\n",
      "precip observation with: \n",
      "     * standard unit: mm/m² \n",
      "     * data column as None in None \n",
      "     * known units and aliases: {'mm/m²': ['mm', 'liter', 'liters', 'l/m²', 'milimeter']} \n",
      "     * description: precipitation intensity \n",
      "     * conversions to known units: {} \n",
      "     * originates from data column: None with None as native unit.\n",
      "precip_sum observation with: \n",
      "     * standard unit: mm/m² \n",
      "     * data column as None in None \n",
      "     * known units and aliases: {'mm/m²': ['mm', 'liter', 'liters', 'l/m²', 'milimeter']} \n",
      "     * description: Cummulated precipitation \n",
      "     * conversions to known units: {} \n",
      "     * originates from data column: None with None as native unit.\n",
      "wind_speed observation with: \n",
      "     * standard unit: m/s \n",
      "     * data column as None in None \n",
      "     * known units and aliases: {'m/s': ['meters/second', 'm/sec'], 'km/h': ['kilometers/hour', 'kph'], 'mph': ['miles/hour']} \n",
      "     * description: wind speed \n",
      "     * conversions to known units: {'km/h': ['x / 3.6'], 'mph': ['x * 0.44704']} \n",
      "     * originates from data column: None with None as native unit.\n",
      "wind_gust observation with: \n",
      "     * standard unit: m/s \n",
      "     * data column as None in None \n",
      "     * known units and aliases: {'m/s': ['meters/second', 'm/sec'], 'km/h': ['kilometers/hour', 'kph'], 'mph': ['miles/hour']} \n",
      "     * description: wind gust \n",
      "     * conversions to known units: {'km/h': ['x / 3.6'], 'mph': ['x * 0.44704']} \n",
      "     * originates from data column: None with None as native unit.\n",
      "wind_direction observation with: \n",
      "     * standard unit: ° from north (CW) \n",
      "     * data column as None in None \n",
      "     * known units and aliases: {'° from north (CW)': ['°', 'degrees']} \n",
      "     * description: wind direction \n",
      "     * conversions to known units: {} \n",
      "     * originates from data column: None with None as native unit.\n",
      "co2 observation with: \n",
      "     * standard unit: ppm \n",
      "     * data column as None in None \n",
      "     * known units and aliases: {'ppm': [], 'ppb': []} \n",
      "     * description: The CO2 concentration measured at 2m above surface \n",
      "     * conversions to known units: {'ppb': ['x / 1000']} \n",
      "     * originates from data column: None with None as native unit.\n",
      "\n",
      " --------  Settings --------- \n",
      "\n",
      "(to show all settings use the .show_settings() method, or set show_all_settings = True)\n",
      "\n",
      " --------  Outliers --------- \n",
      "\n",
      "No outliers.\n",
      "\n",
      " --------  Meta data --------- \n",
      "\n",
      "No metadata is found.\n"
     ]
    }
   ],
   "source": [
    "co2_concentration = metobs_toolkit.Obstype(obsname='co2',\n",
    "                                           std_unit='ppm')\n",
    "\n",
    "#add other units to it (if needed)\n",
    "co2_concentration.add_unit(unit_name='ppb',\n",
    "                           conversion=['x / 1000'], #1 ppb = 0.001 ppm\n",
    "                          )\n",
    "\n",
    "#Set a description\n",
    "co2_concentration.set_description(desc='The CO2 concentration measured at 2m above surface')\n",
    "\n",
    "#add it to your dataset\n",
    "your_dataset.add_new_observationtype(co2_concentration)\n",
    "\n",
    "#You can see the CO2 concentration is now added to the dataset\n",
    "your_dataset.show()\n",
    "                                           "
   ]
  },
  {
   "cell_type": "markdown",
   "id": "caa6522b-f0d7-49ac-96a8-7ace2d564d88",
   "metadata": {},
   "source": [
    "You can also update (the units) of the know observationtypes :"
   ]
  },
  {
   "cell_type": "code",
   "execution_count": 5,
   "id": "5a9e5569-d917-48a6-8c9c-5b44a70f4a63",
   "metadata": {},
   "outputs": [
    {
     "name": "stdout",
     "output_type": "stream",
     "text": [
      "temp observation with: \n",
      "     * standard unit: Celsius \n",
      "     * data column as None in None \n",
      "     * known units and aliases: {'Celsius': ['celsius', '°C', '°c', 'celcius', 'Celcius'], 'Kelvin': ['K', 'kelvin'], 'Farenheit': ['farenheit'], 'your_new_unit': []} \n",
      "     * description: 2m - temperature \n",
      "     * conversions to known units: {'Kelvin': ['x - 273.15'], 'Farenheit': ['x-32.0', 'x/1.8'], 'your_new_unit': ['x+3', 'x * 2']} \n",
      "     * originates from data column: None with None as native unit.\n"
     ]
    }
   ],
   "source": [
    "your_dataset.add_new_unit(obstype = 'temp', \n",
    "                          new_unit= 'your_new_unit',\n",
    "                          conversion_expression = ['x+3', 'x * 2'])\n",
    "# The conversion means: 1 [your_new_unit] = (1 + 3) * 2 [°C]\n",
    "your_dataset.obstypes['temp'].get_info()"
   ]
  },
  {
   "cell_type": "markdown",
   "id": "38f08e3c-88d7-484d-823e-38b324d6a940",
   "metadata": {},
   "source": [
    "## Obstypes for Modeldata\n",
    "\n",
    "Obstypes are also used in ``Modeldata`` to interpret and convert the modeldata-data. Similar as with a Dataset, a set of default obstypes is stored in each Modeldata. To add a new band, and thus a new obstype, to your modeldata you can you this method:"
   ]
  },
  {
   "cell_type": "code",
   "execution_count": 6,
   "id": "ee043b1b-f195-484b-a752-90bb5e501ada",
   "metadata": {},
   "outputs": [
    {
     "name": "stdout",
     "output_type": "stream",
     "text": [
      "Modeldata instance containing: \n",
      "     * Modelname: ERA5_hourly \n",
      "     * 1 timeseries \n",
      "     * The following obstypes are available: ['cumulated_precip'] \n",
      "     * Data has these units: ['m'] \n",
      "     * From 2023-01-11 23:00:00+00:00 --> 2023-01-14 23:00:00+00:00 (with tz=UTC) \n",
      " \n",
      " (Data is stored in the .df attribute)\n",
      "\n",
      " ------ Known gee datasets -----------\n",
      "The following datasets are found: \n",
      "\n",
      " --------------------------------\n",
      "global_lcz_map : \n",
      "\n",
      " No mapped observation types for global_lcz_map.\n",
      "\n",
      " INFO: \n",
      "\n",
      "{'location': 'RUB/RUBCLIM/LCZ/global_lcz_map/v1', 'usage': 'LCZ', 'band_of_use': 'LCZ_Filter', 'value_type': 'categorical', 'dynamical': False, 'scale': 100, 'is_image': False, 'is_imagecollection': True, 'categorical_mapper': {1: 'Compact highrise', 2: 'Compact midrise', 3: 'Compact lowrise', 4: 'Open highrise', 5: 'Open midrise', 6: 'Open lowrise', 7: 'Lightweight lowrise', 8: 'Large lowrise', 9: 'Sparsely built', 10: 'Heavy industry', 11: 'Dense Trees (LCZ A)', 12: 'Scattered Trees (LCZ B)', 13: 'Bush, scrub (LCZ C)', 14: 'Low plants (LCZ D)', 15: 'Bare rock or paved (LCZ E)', 16: 'Bare soil or sand (LCZ F)', 17: 'Water (LCZ G)'}, 'credentials': 'Demuzere M.; Kittner J.; Martilli A.; Mills, G.; Moede, C.; Stewart, I.D.; van Vliet, J.; Bechtel, B. A global map of local climate zones to support earth system modelling and urban-scale environmental science. Earth System Science Data 2022, 14 Volume 8: 3835-3873. doi:10.5194/essd-14-3835-2022'}\n",
      "\n",
      " --------------------------------\n",
      "DEM : \n",
      "\n",
      " No mapped observation types for DEM.\n",
      "\n",
      " INFO: \n",
      "\n",
      "{'location': 'CGIAR/SRTM90_V4', 'usage': 'elevation', 'band_of_use': 'elevation', 'value_type': 'numeric', 'dynamical': False, 'scale': 100, 'is_image': True, 'is_imagecollection': False, 'credentials': 'SRTM Digital Elevation Data Version 4'}\n",
      "\n",
      " --------------------------------\n",
      "ERA5_hourly : \n",
      "\n",
      "temp observation with: \n",
      "     * Known datasetsbands: {'ERA5_hourly': 'temperature_2m'} \n",
      "     * standard unit: Celsius \n",
      "     * description: 2m - temperature \n",
      "     * conversions to known units: {'Kelvin': ['x - 273.15'], 'Farenheit': ['x-32.0', 'x/1.8'], 'your_new_unit': ['x+3', 'x * 2']} \n",
      "\n",
      "pressure observation with: \n",
      "     * Known datasetsbands: {'ERA5_hourly': 'surface_pressure'} \n",
      "     * standard unit: pa \n",
      "     * description: atmospheric pressure (at station) \n",
      "     * conversions to known units: {'hpa': ['x * 100'], 'psi': ['x * 6894.7573'], 'bar': ['x * 100000.']} \n",
      "\n",
      "wind_speed observation with: \n",
      "     * Known Vector-East-component datasetsbands: {'ERA5_hourly': 'u_component_of_wind_10m'} \n",
      "     * Known Vector-North-component datasetsbands: {'ERA5_hourly': 'v_component_of_wind_10m'} \n",
      "     * standard unit: m/s \n",
      "     * description: wind speed \n",
      "     * conversions to known units: {'km/h': ['x / 3.6'], 'mph': ['x * 0.44704']} \n",
      "\n",
      "cumulated_precip observation with: \n",
      "     * Known datasetsbands: {'ERA5_hourly': 'total_precipitation'} \n",
      "     * standard unit: m \n",
      "     * description: Cumulated total precipitation since midnight per squared meter \n",
      "     * conversions to known units: {'ppb': ['x / 1000']} \n",
      "\n",
      "\n",
      " INFO: \n",
      "\n",
      "{'location': 'ECMWF/ERA5_LAND/HOURLY', 'usage': 'ERA5', 'value_type': 'numeric', 'dynamical': True, 'scale': 2500, 'is_image': False, 'is_imagecollection': True, 'time_res': '1H', 'credentials': ''}\n",
      "\n",
      " --------------------------------\n",
      "worldcover : \n",
      "\n",
      " No mapped observation types for worldcover.\n",
      "\n",
      " INFO: \n",
      "\n",
      "{'location': 'ESA/WorldCover/v200', 'usage': 'landcover', 'band_of_use': 'Map', 'value_type': 'categorical', 'dynamical': False, 'scale': 10, 'is_image': False, 'is_imagecollection': True, 'categorical_mapper': {10: 'Tree cover', 20: 'Shrubland', 30: 'Grassland', 40: 'Cropland', 50: 'Built-up', 60: 'Bare / sparse vegetation', 70: 'Snow and ice', 80: 'Permanent water bodies', 90: 'Herbaceous wetland', 95: 'Mangroves', 100: 'Moss and lichen'}, 'aggregation': {'water': [70, 80, 90, 95], 'pervious': [10, 20, 30, 40, 60, 100], 'impervious': [50]}, 'colorscheme': {10: '006400', 20: 'ffbb22', 30: 'ffff4c', 40: 'f096ff', 50: 'fa0000', 60: 'b4b4b4', 70: 'f0f0f0', 80: '0064c8', 90: '0096a0', 95: '00cf75', 100: 'fae6a0'}, 'credentials': 'https://spdx.org/licenses/CC-BY-4.0.html'}\n"
     ]
    }
   ],
   "source": [
    "import pandas as pd\n",
    "from datetime import datetime\n",
    "era = metobs_toolkit.Modeldata(modelname='ERA5_hourly')\n",
    "era.obstypes\n",
    "#Create a new observation type\n",
    "precipitation = metobs_toolkit.Obstype(obsname='cumulated_precip',\n",
    "                                      std_unit='m',\n",
    "                                      description='Cumulated total precipitation since midnight per squared meter')\n",
    "\n",
    "#Add it to the Modeldata, and specify the corresponding band.\n",
    "era.add_obstype(Obstype=precipitation,\n",
    "                bandname='total_precipitation', #look this up: https://developers.google.com/earth-engine/datasets/catalog/ECMWF_ERA5_LAND_HOURLY#bands \n",
    "                band_units='m',\n",
    "                band_description=\"Accumulated liquid and frozen water, including rain and snow, that falls to the Earth's surface. It is the sum of large-scale precipitation (that precipitation which is generated by large-scale weather patterns, such as troughs and cold fronts) and convective precipitation (generated by convection which occurs when air at lower levels in the atmosphere is warmer and less dense than the air above, so it rises). ...\",\n",
    "               )\n",
    "\n",
    "\n",
    "# Define locations\n",
    "lat = [50.849]\n",
    "lon = [4.357]\n",
    "name = ['Brussels']\n",
    "metadf = pd.DataFrame(data={'lat': lat,\n",
    "                            'lon': lon,\n",
    "                            'name': name})\n",
    "# Define a time period\n",
    "tstart = datetime(2023,1,12)\n",
    "tend = datetime(2023,1,15)\n",
    "\n",
    "\n",
    "#Extract the data\n",
    "era.get_gee_dataset_data(mapname='ERA5_hourly',\n",
    "                         metadf=metadf,\n",
    "                         startdt_utc=tstart,\n",
    "                         enddt_utc=tend,\n",
    "                         obstypes=[precipitation.name]\n",
    "                        )\n",
    "era.get_info()\n"
   ]
  },
  {
   "cell_type": "markdown",
   "id": "4d97ff9f-940f-4d4d-8052-9e8ad249850e",
   "metadata": {},
   "source": [
    "## Special observation types\n",
    "### 2D-Vector fields\n",
    "At a specific height, the wind can be seen (by approximation) as a 2D vector field. The vector components are often stored in different bands/variables in a model. \n",
    "\n",
    "A common problem is that observation measures the amplitude and direction of a vectorfield, while the models store the vector components. So we need to transform the vector components to an amplitude and direction. \n",
    "\n",
    "This can be done in the MetObs toolkit by using the **ModelObstype_Vectorfield**. This class is similar to the ModelObstype class but has the functionality to convert components to amplitude and direction. \n",
    "\n",
    "By default, the *wind* obstype is stored in each Modeldata."
   ]
  },
  {
   "cell_type": "code",
   "execution_count": 7,
   "id": "53e08158-082f-4bb0-957c-ed97f07d8b84",
   "metadata": {},
   "outputs": [
    {
     "name": "stdout",
     "output_type": "stream",
     "text": [
      "wind_speed observation with: \n",
      "     * Known Vector-East-component datasetsbands: {'ERA5_hourly': 'u_component_of_wind_10m'} \n",
      "     * Known Vector-North-component datasetsbands: {'ERA5_hourly': 'v_component_of_wind_10m'} \n",
      "     * standard unit: m/s \n",
      "     * description: wind speed \n",
      "     * conversions to known units: {'km/h': ['x / 3.6'], 'mph': ['x * 0.44704']} \n",
      "\n"
     ]
    }
   ],
   "source": [
    "era = metobs_toolkit.Modeldata(modelname='ERA5_HOURLY')\n",
    "era.obstypes['wind'].get_info()"
   ]
  },
  {
   "cell_type": "markdown",
   "id": "633d3eb8-78d2-4b68-a198-a0a58d312f4c",
   "metadata": {},
   "source": [
    "When extracting the wind data from era5 it will\n",
    " 1. Download the u and v wind components for your period and locations.\n",
    " 2. Convert each component to its standard units (m/s for the wind components)\n",
    " 3. Compute the amplitude and the direction (in degrees from North, clockwise)."
   ]
  },
  {
   "cell_type": "code",
   "execution_count": 8,
   "id": "a1c15608-02da-453f-a58c-51695230fdc1",
   "metadata": {},
   "outputs": [
    {
     "data": {
      "text/plain": [
       "Modeldata instance containing: \n",
       "     * Modelname: ERA5_hourly \n",
       "     * 1 timeseries \n",
       "     * The following obstypes are available: ['wind_speed_amplitude', 'wind_speed_direction'] \n",
       "     * Data has these units: ['m/s', '° from north (CW)'] \n",
       "     * From 2023-01-11 23:00:00+00:00 --> 2023-01-14 23:00:00+00:00 (with tz=UTC) \n",
       " \n",
       " (Data is stored in the .df attribute)"
      ]
     },
     "execution_count": 8,
     "metadata": {},
     "output_type": "execute_result"
    }
   ],
   "source": [
    "import pandas as pd\n",
    "from datetime import datetime\n",
    "\n",
    "lat = [50.849]\n",
    "lon = [4.357]\n",
    "name = ['Brussels']\n",
    "metadf = pd.DataFrame(data={'lat': lat,\n",
    "                            'lon': lon,\n",
    "                            'name': name})\n",
    "\n",
    "tstart = datetime(2023,1,12)\n",
    "tend = datetime(2023,1,15)\n",
    "\n",
    "\n",
    "era.get_gee_dataset_data(mapname='ERA5_hourly',\n",
    "                         metadf=metadf,\n",
    "                         startdt_utc=tstart,\n",
    "                         enddt_utc=tend,\n",
    "                         obstypes=['wind']\n",
    "                        )\n",
    "era"
   ]
  },
  {
   "cell_type": "code",
   "execution_count": 9,
   "id": "e7750ef4-4ff7-4fa5-8458-697eb51981cb",
   "metadata": {},
   "outputs": [],
   "source": [
    "era.make_plot(obstype_model='wind_amplitude')"
   ]
  }
 ],
 "metadata": {
  "kernelspec": {
   "display_name": "Python 3 (ipykernel)",
   "language": "python",
   "name": "python3"
  },
  "language_info": {
   "codemirror_mode": {
    "name": "ipython",
    "version": 3
   },
   "file_extension": ".py",
   "mimetype": "text/x-python",
   "name": "python",
   "nbconvert_exporter": "python",
   "pygments_lexer": "ipython3",
   "version": "3.10.0"
  }
 },
 "nbformat": 4,
 "nbformat_minor": 5
}
