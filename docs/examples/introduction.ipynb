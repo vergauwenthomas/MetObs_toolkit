{
 "cells": [
  {
   "cell_type": "markdown",
   "id": "0",
   "metadata": {},
   "source": [
    "# Introduction to the MetObs-toolkit\n",
    "\n",
    "In this introduction, you will learn the principal components and methods in the MetObs-toolkit. Let's start by importing it.\n",
    "\n",
    "Since this package is under development, it is often relevant to know the precise version of the toolkit."
   ]
  },
  {
   "cell_type": "code",
   "execution_count": null,
   "id": "1",
   "metadata": {},
   "outputs": [],
   "source": [
    "import metobs_toolkit\n",
    "\n",
    "#Print out the version of the toolkit\n",
    "print(metobs_toolkit.__version__)"
   ]
  },
  {
   "cell_type": "markdown",
   "id": "2",
   "metadata": {},
   "source": [
    "## The Dataset class\n",
    "\n",
    "The ´´Dataset´´ class is for most applications the most important class. It holds all your stations and it's data. Thus a ´´Dataset´´ is in principal a collection of stations.\n",
    "\n",
    "Since raw data files often include observations from multiple stations, we import our raw data always directly into a ´´Dataset´´. We use the ´´Dataset.import_data_from_file()´´ method, to import the raw data into a Dataset. \n",
    "\n",
    "A key component for importing raw data, is a description of what your data represents and how it is formatted. This is done by providing a **template file**, that describes how your raw data is structured. \n",
    "\n"
   ]
  },
  {
   "cell_type": "markdown",
   "id": "3",
   "metadata": {},
   "source": [
    "### Importing your raw data\n",
    "\n",
    "As an example we will import a demo file of raw observations. In order to do that we need to :\n",
    "\n",
    "* Create a template file for our raw data file. The ´build_template_prompt´ function will guide you in this process. It will ask questions, once you answerd them a template file is created. It will also propose some code that you use to import your data\n",
    "* Create a ´Dataset` instance \n",
    "* Add the raw data into the ´Dataset´."
   ]
  },
  {
   "cell_type": "code",
   "execution_count": null,
   "id": "4",
   "metadata": {},
   "outputs": [],
   "source": [
    "# Specify the path to your raw data file (we use the demo file as example)\n",
    "path_to_datafile=metobs_toolkit.demo_datafile\n",
    "\n",
    "# We will also use a metadata file\n",
    "path_to_metadatafile=metobs_toolkit.demo_metadatafile"
   ]
  },
  {
   "cell_type": "code",
   "execution_count": null,
   "id": "5",
   "metadata": {},
   "outputs": [],
   "source": [
    "%%script true\n",
    "\n",
    "#Create a template for these data files\n",
    "metobs_toolkit.build_template_prompt()"
   ]
  },
  {
   "cell_type": "code",
   "execution_count": null,
   "id": "6",
   "metadata": {},
   "outputs": [],
   "source": [
    "#specify the path to the templatefile that was created\n",
    "path_to_templatefile=metobs_toolkit.demo_template #demo file as example!!"
   ]
  },
  {
   "cell_type": "markdown",
   "id": "7",
   "metadata": {},
   "source": [
    "Now that we have the datafiles and the templatefile, we create an empty ´Dataset´, and import the data into it."
   ]
  },
  {
   "cell_type": "code",
   "execution_count": null,
   "id": "8",
   "metadata": {},
   "outputs": [],
   "source": [
    "dataset = metobs_toolkit.Dataset() #Create a new dataset object\n",
    "\n",
    "#Load the data\n",
    "dataset.import_data_from_file(\n",
    "                    template_file=path_to_templatefile, #The template file\n",
    "                    input_data_file=path_to_datafile, #The data file\n",
    "                    input_metadata_file=path_to_metadatafile, #The metadata file\n",
    "                    )"
   ]
  },
  {
   "cell_type": "markdown",
   "id": "9",
   "metadata": {},
   "source": [
    "As can be seen in the printed logs, there is a lot going on when importing the data. That is because tests are applied on your data to check for gaps, and mismatches between data and metadata. \n",
    "\n",
    "We can now inspect the ´dataset´ further."
   ]
  },
  {
   "cell_type": "markdown",
   "id": "10",
   "metadata": {},
   "source": [
    "## The dataset attributes\n",
    "\n",
    "The attributes are holding the data of the dataset. Here we present some attributes that can be usefull to inspect.\n"
   ]
  },
  {
   "cell_type": "markdown",
   "id": "11",
   "metadata": {},
   "source": [
    "\n",
    "<div class=\"alert alert-block alert-info\">\n",
    "All classes in the MetObs-toolkit have a ´get_info´ methods that prints out an overview of its content.\n",
    "</div>"
   ]
  },
  {
   "cell_type": "markdown",
   "id": "12",
   "metadata": {},
   "source": [
    "* ´Dataset.obstypes` : A collection of ´Obstypes´ that are known. These observationtypes describe a measurable quantity, and its corresponding units."
   ]
  },
  {
   "cell_type": "code",
   "execution_count": null,
   "id": "13",
   "metadata": {},
   "outputs": [],
   "source": [
    "dataset.obstypes"
   ]
  },
  {
   "cell_type": "markdown",
   "id": "14",
   "metadata": {},
   "source": [
    "* ´Dataset.template´: A template class, that is automatically set up by using the template file. This is only used when data is imported from a file. It has no further use."
   ]
  },
  {
   "cell_type": "code",
   "execution_count": null,
   "id": "15",
   "metadata": {},
   "outputs": [],
   "source": [
    "template = dataset.template\n",
    "\n",
    "template.get_info() # Prints out how the template maps raw data"
   ]
  },
  {
   "cell_type": "markdown",
   "id": "16",
   "metadata": {},
   "source": [
    "* ´dataset.df´: A pandas DataFrame holding all the observation records."
   ]
  },
  {
   "cell_type": "code",
   "execution_count": null,
   "id": "17",
   "metadata": {},
   "outputs": [],
   "source": [
    "dataset.df"
   ]
  },
  {
   "cell_type": "markdown",
   "id": "18",
   "metadata": {},
   "source": [
    "* ´dataset.metadf´: A pandas DataFrame holding all the metadata of the stations."
   ]
  },
  {
   "cell_type": "code",
   "execution_count": null,
   "id": "19",
   "metadata": {},
   "outputs": [],
   "source": [
    "dataset.metadf"
   ]
  }
 ],
 "metadata": {
  "language_info": {
   "name": "python"
  }
 },
 "nbformat": 4,
 "nbformat_minor": 5
}
