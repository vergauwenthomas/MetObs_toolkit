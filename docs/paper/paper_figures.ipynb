{
 "cells": [
  {
   "cell_type": "markdown",
   "id": "0",
   "metadata": {},
   "source": [
    "# JOSS publication figures creator\n",
    "This script will create the figures that are used in the JOSS publication of the Metob-toolkit."
   ]
  },
  {
   "cell_type": "code",
   "execution_count": null,
   "id": "1",
   "metadata": {},
   "outputs": [],
   "source": [
    "#!pip install MetObs-toolkit\n",
    "%config InlineBackend.print_figure_kwargs = {'bbox_inches':None} #else the legend is cutoff in ipython inline plots"
   ]
  },
  {
   "cell_type": "code",
   "execution_count": null,
   "id": "2",
   "metadata": {},
   "outputs": [],
   "source": [
    "import logging\n",
    "import math\n",
    "import os\n",
    "import sys\n",
    "import time\n",
    "from pathlib import Path\n",
    "\n",
    "import metobs_toolkit\n",
    "print(f'Metobs_toolkit version: v{metobs_toolkit.__version__}')\n",
    "\n",
    "import matplotlib.pyplot as plt\n",
    "import pandas as pd\n"
   ]
  },
  {
   "cell_type": "markdown",
   "id": "3",
   "metadata": {},
   "source": [
    "## Creation of the Dataset"
   ]
  },
  {
   "cell_type": "code",
   "execution_count": null,
   "id": "4",
   "metadata": {},
   "outputs": [],
   "source": [
    "datadf = pd.read_csv(metobs_toolkit.demo_datafile, sep=';')\n",
    "metadf = pd.read_csv(metobs_toolkit.demo_metadatafile, sep=',')\n",
    "\n",
    "# Subset to regio ghent\n",
    "ghent_stations = [ 'vlinder24', 'vlinder25', 'vlinder05', 'vlinder27',\n",
    "                  'vlinder02', 'vlinder01', 'vlinder28']\n",
    "\n",
    "\n",
    "datadf = datadf[datadf['Vlinder'].isin(ghent_stations)]\n",
    "metadf = metadf[metadf['Vlinder'].isin(ghent_stations)]\n",
    "\n",
    "# subset period\n",
    "datadf['dummy_dt'] = datadf['Datum'] + datadf['Tijd (UTC)']\n",
    "datadf['dummy_dt'] = pd.to_datetime(datadf['dummy_dt'], format='%Y-%m-%d%H:%M:%S')\n",
    "\n",
    "#Subset to period\n",
    "from datetime import datetime\n",
    "startdt = datetime(2022, 9, 1)\n",
    "enddt = datetime(2022, 9, 10)\n",
    "datadf = datadf[(datadf['dummy_dt'] >= startdt) & (datadf['dummy_dt'] <= enddt)]\n",
    "datadf = datadf.drop(columns=['dummy_dt'])\n",
    "\n",
    "# Inducing outliers as demo\n",
    "datadf = datadf.drop(index=datadf.iloc[180:200, :].index.tolist())\n",
    "\n",
    "# save in paper folder\n",
    "folder = os.path.abspath('')\n",
    "datadf.to_csv(os.path.join(folder, 'datafile.csv'))\n",
    "metadf.to_csv(os.path.join(folder, 'metadatafile.csv'))\n",
    "\n",
    "#Importing raw data\n",
    "use_dataset = 'paper_dataset'\n",
    "dataset = metobs_toolkit.Dataset()\n",
    "dataset.update_output_dir(folder)\n",
    "dataset.update_file_paths(input_data_file=os.path.join(folder, 'datafile.csv'),\n",
    "                        input_metadata_file=os.path.join(folder, 'metadatafile.csv'),\n",
    "                        template_file=metobs_toolkit.demo_template,\n",
    "                        )\n",
    "\n",
    "dataset.import_data_from_file()"
   ]
  },
  {
   "cell_type": "markdown",
   "id": "5",
   "metadata": {},
   "source": [
    "## Styling settings"
   ]
  },
  {
   "cell_type": "code",
   "execution_count": null,
   "id": "6",
   "metadata": {},
   "outputs": [],
   "source": [
    "# change color for printing (avoid yellow!)\n",
    "from metobs_toolkit.settings_files.default_formats_settings import label_def\n",
    "\n",
    "label_def['gross_value']['color'] = \"#fc0303\""
   ]
  },
  {
   "cell_type": "markdown",
   "id": "7",
   "metadata": {},
   "source": [
    "## Timeseries for each station"
   ]
  },
  {
   "cell_type": "code",
   "execution_count": null,
   "id": "8",
   "metadata": {},
   "outputs": [],
   "source": [
    "#1. Coarsen resolution and apply quality control with non-defaults as demonstration\n",
    "dataset.coarsen_time_resolution(freq='20min')\n",
    "\n",
    "ax1 = dataset.make_plot()\n",
    "\n",
    "#translate axes\n",
    "ax1.set_title('Temperature for all stations')\n",
    "ax1.set_ylabel('T2m in °C')\n",
    "plt.show()"
   ]
  },
  {
   "cell_type": "markdown",
   "id": "9",
   "metadata": {},
   "source": [
    "## Timeseries with quality control labels"
   ]
  },
  {
   "cell_type": "code",
   "execution_count": null,
   "id": "10",
   "metadata": {},
   "outputs": [],
   "source": [
    "#update QC settings\n",
    "dataset.update_qc_settings(obstype='temp',\n",
    "                           dupl_timestamp_keep=None,\n",
    "                           persis_time_win_to_check=None,\n",
    "                           persis_min_num_obs=None,\n",
    "                           rep_max_valid_repetitions=None,\n",
    "                           gross_value_min_value=10.7,\n",
    "                           gross_value_max_value=None,\n",
    "                           win_var_max_increase_per_sec=None,\n",
    "                           win_var_max_decrease_per_sec=None,\n",
    "                           win_var_time_win_to_check=None,\n",
    "                           win_var_min_num_obs=None,\n",
    "                           step_max_increase_per_sec=5./3600.,\n",
    "                           step_max_decrease_per_sec=None)\n",
    "\n",
    "dataset.update_titan_qc_settings(obstype='temp', buddy_radius=10000,\n",
    "                                   buddy_num_min=3, buddy_threshold=2.2,\n",
    "                                   buddy_max_elev_diff=None,\n",
    "                                   buddy_elev_gradient=None,\n",
    "                                   buddy_min_std=1.0,\n",
    "                                   buddy_num_iterations=None,\n",
    "                                   buddy_debug=None)\n",
    "\n",
    "dataset.apply_quality_control()\n",
    "dataset.apply_titan_buddy_check(use_constant_altitude=True)\n",
    "\n",
    "# Create the plot\n",
    "ax2 = dataset.make_plot(colorby='label')\n",
    "#translate axes\n",
    "ax2.set_title('Temperature for all stations')\n",
    "ax2.set_ylabel('T2m in °C')\n",
    "\n",
    "plt.show()"
   ]
  },
  {
   "cell_type": "markdown",
   "id": "11",
   "metadata": {},
   "source": [
    "## Fill gaps and plot timeseries of Vlinder28"
   ]
  },
  {
   "cell_type": "code",
   "execution_count": null,
   "id": "12",
   "metadata": {},
   "outputs": [],
   "source": [
    "# 1. Convert the outliers to gaps\n",
    "dataset.convert_outliers_to_gaps()\n",
    "\n",
    "# 2. Extract ERA5 temperature timeseries at the location of the stations\n",
    "era5 = dataset.get_modeldata(\n",
    "                    Model=dataset.gee_datasets['ERA5-land'],\n",
    "                    obstypes='temp',\n",
    "                    stations=None,\n",
    "                    startdt=None,\n",
    "                    enddt=None,\n",
    "                    force_direct_transfer=True)\n",
    "\n",
    "\n",
    "# 3. Fill the gaps (For shorter gaps we use interpolation, and for longer gaps we use debiased ERA5 temperature).\n",
    "\n",
    "short_gaps = []\n",
    "long_gaps = []\n",
    "\n",
    "for gap in dataset.gaps:\n",
    "    if (gap.duration <= pd.Timedelta('6h')):\n",
    "        short_gaps.append(gap)\n",
    "    else:\n",
    "        long_gaps.append(gap)\n",
    "\n",
    "\n",
    "#interpolate the short gaps\n",
    "for shortgap in short_gaps:\n",
    "    shortgap.interpolate(\n",
    "        Dataset=dataset,\n",
    "        method=\"time\", #Simple (weighted) linear interpolated\n",
    "        max_consec_fill=10,\n",
    "        n_leading_anchors=1,\n",
    "        n_trailing_anchors=1,\n",
    "        max_lead_to_gap_distance=None,\n",
    "        max_trail_to_gap_distance=None,\n",
    "        method_kwargs={})\n",
    "    \n",
    "# Fill the longer gaps with debiased ERA5 temperatures\n",
    "for longgap in long_gaps:\n",
    "    longgap.debias_model_gapfill(\n",
    "        Dataset=dataset,\n",
    "        Model=era5,\n",
    "        leading_period_duration=\"24h\",\n",
    "        min_leading_records_total=3,\n",
    "        trailing_period_duration=\"24h\",\n",
    "        min_trailing_records_total=3)\n",
    "    \n",
    "# 4. Make plot (of single station for clearity)\n",
    "ax3 = dataset.get_station('vlinder28').make_plot(colorby='label')\n",
    "\n",
    "#translate axes\n",
    "ax3.set_title('Temperature for vlinder28')\n",
    "ax3.set_ylabel('T2m in °C')\n",
    "\n",
    "plt.show()\n"
   ]
  },
  {
   "cell_type": "markdown",
   "id": "13",
   "metadata": {},
   "source": [
    "## Diurnal Analysis"
   ]
  },
  {
   "cell_type": "code",
   "execution_count": null,
   "id": "14",
   "metadata": {},
   "outputs": [],
   "source": [
    "\n",
    "# Get Meta data\n",
    "dataset.get_landcover(buffers=[50, 150, 500], aggregate=True)\n",
    "\n",
    "# Create analysis from the dataset\n",
    "ana = metobs_toolkit.Analysis(orig_dataset = dataset,\n",
    "                              use_gapfilled_values=True)\n",
    "\n",
    "# Make diurnal cycle analysis with plot\n",
    "ax4 = ana.get_diurnal_statistics(colorby='name',\n",
    "                                 obstype='temp',\n",
    "                                 plot=True,\n",
    "                                 title='Hourly average temperature diurnal cycle',\n",
    "                                 legend=True,\n",
    "                                 errorbands=True,\n",
    "                                 _return_all_stats=False)\n",
    "\n",
    "fig = plt.gcf()\n",
    "fig.set_dpi(200)\n",
    "fig.tight_layout()\n",
    "\n",
    "plt.show()"
   ]
  },
  {
   "cell_type": "markdown",
   "id": "15",
   "metadata": {},
   "source": [
    "## Interactive spatial"
   ]
  },
  {
   "cell_type": "code",
   "execution_count": null,
   "id": "16",
   "metadata": {},
   "outputs": [],
   "source": [
    "dataset.make_gee_static_spatialplot(Model=dataset.gee_datasets['worldcover'])"
   ]
  }
 ],
 "metadata": {
  "language_info": {
   "name": "python"
  }
 },
 "nbformat": 4,
 "nbformat_minor": 5
}
