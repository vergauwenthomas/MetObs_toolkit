{
 "cells": [
  {
   "cell_type": "markdown",
   "id": "0",
   "metadata": {},
   "source": [
    "# Logging \n",
    "\n",
    "The toolkit generates logging messages, that can warn and help the users. By default, logs are not written or stored. If you want to read the logs, you can do this by\n",
    "* forwarding the logs to a file --> this file will be updated with log messages (live)\n",
    "* forwarding the logs to stout (i.g. your coding envrionment) --> this will print out the logs in your coding environment (live)\n",
    "\n",
    "There are convenient functions for both cases. Specify the logging level to specify how detailed logs you want."
   ]
  },
  {
   "cell_type": "markdown",
   "id": "1",
   "metadata": {},
   "source": [
    "## Stream Logs\n",
    "\n",
    "To stream logs, call the `add_StreamHandler()` function."
   ]
  },
  {
   "cell_type": "code",
   "execution_count": null,
   "id": "2",
   "metadata": {},
   "outputs": [],
   "source": [
    "import metobs_toolkit \n",
    "\n",
    "# Forward the logs to the coding environment\n",
    "metobs_toolkit.add_StreamHandler(setlvl='INFO')\n",
    "\n",
    "#Import a dataset to generate logs\n",
    "dataset = metobs_toolkit.Dataset()\n",
    "data_file = metobs_toolkit.demo_datafile\n",
    "metadata_file = metobs_toolkit.demo_metadatafile\n",
    "template_file = metobs_toolkit.demo_template\n",
    "dataset.update_file_paths(\n",
    "                        input_data_file=data_file,\n",
    "                        input_metadata_file=metadata_file,\n",
    "                        template_file=template_file,\n",
    "                        )\n",
    "dataset.import_data_from_file()\n"
   ]
  },
  {
   "cell_type": "markdown",
   "id": "3",
   "metadata": {},
   "source": [
    "## File logs\n",
    "\n",
    "To write logs to a file, call the `add_FileHandler()` function, and specify the path."
   ]
  },
  {
   "cell_type": "code",
   "execution_count": null,
   "id": "4",
   "metadata": {},
   "outputs": [],
   "source": [
    "metobs_toolkit.add_FileHandler(trglogfile='your_log_file.log', #path to the logfile (can be nonexisting)\n",
    "                               setlvl = 'DEBUG',\n",
    "                               clearlog=True)"
   ]
  }
 ],
 "metadata": {
  "language_info": {
   "name": "python"
  }
 },
 "nbformat": 4,
 "nbformat_minor": 5
}
