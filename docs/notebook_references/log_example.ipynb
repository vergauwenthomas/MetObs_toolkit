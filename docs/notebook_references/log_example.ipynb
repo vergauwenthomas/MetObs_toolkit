{
 "cells": [
  {
   "cell_type": "markdown",
   "id": "1b56e21b-3459-4e23-93bb-706644dc1c55",
   "metadata": {},
   "source": [
    "# Logging \n",
    "\n",
    "The toolkit generates logging messages, that can warn and help the users. By default logs are not written or stored. If you want to read the logs, you can do this by\n",
    "* forwarding the logs to a file --> this file will be updated with log messages (live)\n",
    "* forwarding the logs to stout (i.g. your coding envrionment) --> this will print out the logs in your coding environment (live)\n",
    "\n",
    "There are convenient functions for both cases. Specify the logginglevel to specify how detailed logs you want."
   ]
  },
  {
   "cell_type": "markdown",
   "id": "9543dbe2-10e3-4526-bf11-6e7bf4051db5",
   "metadata": {},
   "source": [
    "## Stream Logs\n",
    "\n",
    "To stream logs, call the `add_StreamHandler()` function."
   ]
  },
  {
   "cell_type": "code",
   "execution_count": 1,
   "id": "41ac0a27-62e3-45e3-927c-56cd56dece40",
   "metadata": {
    "scrolled": true
   },
   "outputs": [
    {
     "name": "stderr",
     "output_type": "stream",
     "text": [
      "The following data columns are renamed because of special meaning by the toolkit: {}\n",
      "Luchtdruk is present in the datafile, but not found in the template! This column will be ignored.\n",
      "Neerslagintensiteit is present in the datafile, but not found in the template! This column will be ignored.\n",
      "Neerslagsom is present in the datafile, but not found in the template! This column will be ignored.\n",
      "Rukwind is present in the datafile, but not found in the template! This column will be ignored.\n",
      "Luchtdruk_Zeeniveau is present in the datafile, but not found in the template! This column will be ignored.\n",
      "Globe Temperatuur is present in the datafile, but not found in the template! This column will be ignored.\n",
      "The following metadata columns are renamed because of special meaning by the toolkit: {}\n",
      "These stations will be removed because of only having one record: []\n"
     ]
    }
   ],
   "source": [
    "import metobs_toolkit \n",
    "\n",
    "# Forward the logs to the coding environment\n",
    "metobs_toolkit.add_StreamHandler(setlvl='INFO')\n",
    "\n",
    "#Import a dataset to generate logs\n",
    "dataset = metobs_toolkit.Dataset()\n",
    "data_file = metobs_toolkit.demo_datafile\n",
    "metadata_file = metobs_toolkit.demo_metadatafile\n",
    "template_file = metobs_toolkit.demo_template\n",
    "dataset.update_file_paths(\n",
    "                        input_data_file=data_file,\n",
    "                        input_metadata_file=metadata_file,\n",
    "                        template_file=template_file,\n",
    "                        )\n",
    "dataset.import_data_from_file()\n"
   ]
  },
  {
   "cell_type": "markdown",
   "id": "0463468d-07d5-4720-a043-6f1ed22a5a83",
   "metadata": {},
   "source": [
    "## File logs\n",
    "\n",
    "To write logs to a file, call the `add_FileHandler()` function, and sepcify the path."
   ]
  },
  {
   "cell_type": "code",
   "execution_count": 2,
   "id": "7da05002-723d-416a-ba0a-f2dde4c7a1f5",
   "metadata": {},
   "outputs": [
    {
     "data": {
      "text/html": [
       "\n",
       "            <style>\n",
       "                .geemap-dark {\n",
       "                    --jp-widgets-color: white;\n",
       "                    --jp-widgets-label-color: white;\n",
       "                    --jp-ui-font-color1: white;\n",
       "                    --jp-layout-color2: #454545;\n",
       "                    background-color: #383838;\n",
       "                }\n",
       "\n",
       "                .geemap-dark .jupyter-button {\n",
       "                    --jp-layout-color3: #383838;\n",
       "                }\n",
       "\n",
       "                .geemap-colab {\n",
       "                    background-color: var(--colab-primary-surface-color, white);\n",
       "                }\n",
       "\n",
       "                .geemap-colab .jupyter-button {\n",
       "                    --jp-layout-color3: var(--colab-primary-surface-color, white);\n",
       "                }\n",
       "            </style>\n",
       "            "
      ],
      "text/plain": [
       "<IPython.core.display.HTML object>"
      ]
     },
     "metadata": {},
     "output_type": "display_data"
    }
   ],
   "source": [
    "metobs_toolkit.add_FileHandler(trglogfile='your_log_file.log', #path to the logfile (can be nonexisting)\n",
    "                               setlvl = 'DEBUG',\n",
    "                               clearlog=True)"
   ]
  }
 ],
 "metadata": {
  "kernelspec": {
   "display_name": "Python 3 (ipykernel)",
   "language": "python",
   "name": "python3"
  },
  "language_info": {
   "codemirror_mode": {
    "name": "ipython",
    "version": 3
   },
   "file_extension": ".py",
   "mimetype": "text/x-python",
   "name": "python",
   "nbconvert_exporter": "python",
   "pygments_lexer": "ipython3",
   "version": "3.10.14"
  }
 },
 "nbformat": 4,
 "nbformat_minor": 5
}
