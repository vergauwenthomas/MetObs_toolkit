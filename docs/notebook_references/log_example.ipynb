{
 "cells": [
  {
   "cell_type": "markdown",
   "id": "0",
   "metadata": {},
   "source": [
    "# Logging \n",
    "\n",
    "The toolkit generates logging messages, that can warn and help the users. By default, only **Warnings** are logged to the console. If you want to read the logs, you can do this by:\n",
    "\n",
    "* forwarding the logs to a file --> this file will be updated with log messages (live). Use the `metobs_toolkit.add_FileHandler()` method.\n",
    "\n",
    "* Print logs in your console (i.g. your coding envrionment) --> this will print out the logs in your coding environment (live). Use the `metobs_toolkit.add_StreamHandler()` method.\n"
   ]
  },
  {
   "cell_type": "markdown",
   "id": "1",
   "metadata": {},
   "source": [
    "## Stream Logs\n",
    "\n",
    "To stream logs, call the `add_StreamHandler()` function."
   ]
  },
  {
   "cell_type": "code",
   "execution_count": null,
   "id": "2",
   "metadata": {},
   "outputs": [],
   "source": [
    "import metobs_toolkit \n",
    "\n",
    "# Forward the logs to the coding environment\n",
    "metobs_toolkit.add_StreamHandler(setlvl='INFO')\n",
    "\n",
    "#Import a dataset to generate logs\n",
    "dataset = metobs_toolkit.Dataset()\n",
    "dataset.import_data_from_file(\n",
    "        input_data_file=metobs_toolkit.demo_datafile,\n",
    "        input_metadata_file=metobs_toolkit.demo_metadatafile,\n",
    "        template_file=metobs_toolkit.demo_template,\n",
    "        )\n"
   ]
  },
  {
   "cell_type": "markdown",
   "id": "3",
   "metadata": {},
   "source": [
    "## File logs\n",
    "\n",
    "To write logs to a file, call the `add_FileHandler()` function, and specify the path."
   ]
  },
  {
   "cell_type": "code",
   "execution_count": null,
   "id": "4",
   "metadata": {},
   "outputs": [],
   "source": [
    "metobs_toolkit.add_FileHandler(trglogfile='your_log_file.log', #path to the logfile (can be nonexisting)\n",
    "                               setlvl = 'INFO',\n",
    "                               clearlog=True)\n",
    "\n",
    "#Import a dataset to generate logs\n",
    "dataset = metobs_toolkit.Dataset()\n",
    "dataset.import_data_from_file(\n",
    "        input_data_file=metobs_toolkit.demo_datafile,\n",
    "        input_metadata_file=metobs_toolkit.demo_metadatafile,\n",
    "        template_file=metobs_toolkit.demo_template,\n",
    "        )"
   ]
  }
 ],
 "metadata": {
  "language_info": {
   "name": "python"
  }
 },
 "nbformat": 4,
 "nbformat_minor": 5
}
