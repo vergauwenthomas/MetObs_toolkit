{
 "cells": [
  {
   "cell_type": "markdown",
   "id": "1b56e21b-3459-4e23-93bb-706644dc1c55",
   "metadata": {},
   "source": [
    "# Logging \n",
    "\n",
    "The toolkit generates logging messages, that can warn and help the users. By default, logs are not written or stored. If you want to read the logs, you can do this by\n",
    "* forwarding the logs to a file --> this file will be updated with log messages (live)\n",
    "* forwarding the logs to stout (i.g. your coding envrionment) --> this will print out the logs in your coding environment (live)\n",
    "\n",
    "There are convenient functions for both cases. Specify the logging level to specify how detailed logs you want."
   ]
  },
  {
   "cell_type": "markdown",
   "id": "9543dbe2-10e3-4526-bf11-6e7bf4051db5",
   "metadata": {},
   "source": [
    "## Stream Logs\n",
    "\n",
    "To stream logs, call the `add_StreamHandler()` function."
   ]
  },
  {
   "cell_type": "code",
   "execution_count": 1,
   "id": "41ac0a27-62e3-45e3-927c-56cd56dece40",
   "metadata": {
    "execution": {
     "iopub.execute_input": "2024-09-10T12:10:40.236454Z",
     "iopub.status.busy": "2024-09-10T12:10:40.235670Z",
     "iopub.status.idle": "2024-09-10T12:10:46.336390Z",
     "shell.execute_reply": "2024-09-10T12:10:46.335570Z"
    },
    "scrolled": true
   },
   "outputs": [
    {
     "name": "stderr",
     "output_type": "stream",
     "text": [
      "The following data columns are renamed because of special meaning by the toolkit: {}\n"
     ]
    },
    {
     "name": "stderr",
     "output_type": "stream",
     "text": [
      "Luchtdruk is present in the datafile, but not found in the template! This column will be ignored.\n"
     ]
    },
    {
     "name": "stderr",
     "output_type": "stream",
     "text": [
      "Neerslagintensiteit is present in the datafile, but not found in the template! This column will be ignored.\n"
     ]
    },
    {
     "name": "stderr",
     "output_type": "stream",
     "text": [
      "Neerslagsom is present in the datafile, but not found in the template! This column will be ignored.\n"
     ]
    },
    {
     "name": "stderr",
     "output_type": "stream",
     "text": [
      "Rukwind is present in the datafile, but not found in the template! This column will be ignored.\n"
     ]
    },
    {
     "name": "stderr",
     "output_type": "stream",
     "text": [
      "Luchtdruk_Zeeniveau is present in the datafile, but not found in the template! This column will be ignored.\n"
     ]
    },
    {
     "name": "stderr",
     "output_type": "stream",
     "text": [
      "Globe Temperatuur is present in the datafile, but not found in the template! This column will be ignored.\n"
     ]
    },
    {
     "name": "stderr",
     "output_type": "stream",
     "text": [
      "The following metadata columns are renamed because of special meaning by the toolkit: {}\n"
     ]
    },
    {
     "name": "stderr",
     "output_type": "stream",
     "text": [
      "These stations will be removed because of only having one record: []\n"
     ]
    }
   ],
   "source": [
    "import metobs_toolkit \n",
    "\n",
    "# Forward the logs to the coding environment\n",
    "metobs_toolkit.add_StreamHandler(setlvl='INFO')\n",
    "\n",
    "#Import a dataset to generate logs\n",
    "dataset = metobs_toolkit.Dataset()\n",
    "data_file = metobs_toolkit.demo_datafile\n",
    "metadata_file = metobs_toolkit.demo_metadatafile\n",
    "template_file = metobs_toolkit.demo_template\n",
    "dataset.update_file_paths(\n",
    "                        input_data_file=data_file,\n",
    "                        input_metadata_file=metadata_file,\n",
    "                        template_file=template_file,\n",
    "                        )\n",
    "dataset.import_data_from_file()\n"
   ]
  },
  {
   "cell_type": "markdown",
   "id": "0463468d-07d5-4720-a043-6f1ed22a5a83",
   "metadata": {},
   "source": [
    "## File logs\n",
    "\n",
    "To write logs to a file, call the `add_FileHandler()` function, and specify the path."
   ]
  },
  {
   "cell_type": "code",
   "execution_count": 2,
   "id": "7da05002-723d-416a-ba0a-f2dde4c7a1f5",
   "metadata": {
    "execution": {
     "iopub.execute_input": "2024-09-10T12:10:46.340477Z",
     "iopub.status.busy": "2024-09-10T12:10:46.339895Z",
     "iopub.status.idle": "2024-09-10T12:10:46.348909Z",
     "shell.execute_reply": "2024-09-10T12:10:46.347938Z"
    }
   },
   "outputs": [
    {
     "data": {
      "text/html": [
       "\n",
       "            <style>\n",
       "                .geemap-dark {\n",
       "                    --jp-widgets-color: white;\n",
       "                    --jp-widgets-label-color: white;\n",
       "                    --jp-ui-font-color1: white;\n",
       "                    --jp-layout-color2: #454545;\n",
       "                    background-color: #383838;\n",
       "                }\n",
       "\n",
       "                .geemap-dark .jupyter-button {\n",
       "                    --jp-layout-color3: #383838;\n",
       "                }\n",
       "\n",
       "                .geemap-colab {\n",
       "                    background-color: var(--colab-primary-surface-color, white);\n",
       "                }\n",
       "\n",
       "                .geemap-colab .jupyter-button {\n",
       "                    --jp-layout-color3: var(--colab-primary-surface-color, white);\n",
       "                }\n",
       "            </style>\n",
       "            "
      ],
      "text/plain": [
       "<IPython.core.display.HTML object>"
      ]
     },
     "metadata": {},
     "output_type": "display_data"
    }
   ],
   "source": [
    "metobs_toolkit.add_FileHandler(trglogfile='your_log_file.log', #path to the logfile (can be nonexisting)\n",
    "                               setlvl = 'DEBUG',\n",
    "                               clearlog=True)"
   ]
  }
 ],
 "metadata": {
  "kernelspec": {
   "display_name": "Python 3 (ipykernel)",
   "language": "python",
   "name": "python3"
  },
  "language_info": {
   "codemirror_mode": {
    "name": "ipython",
    "version": 3
   },
   "file_extension": ".py",
   "mimetype": "text/x-python",
   "name": "python",
   "nbconvert_exporter": "python",
   "pygments_lexer": "ipython3",
   "version": "3.10.14"
  },
  "widgets": {
   "application/vnd.jupyter.widget-state+json": {
    "state": {
     "59383836d9c8480cb5009f7222647037": {
      "model_module": "@jupyter-widgets/base",
      "model_module_version": "2.0.0",
      "model_name": "LayoutModel",
      "state": {
       "_model_module": "@jupyter-widgets/base",
       "_model_module_version": "2.0.0",
       "_model_name": "LayoutModel",
       "_view_count": null,
       "_view_module": "@jupyter-widgets/base",
       "_view_module_version": "2.0.0",
       "_view_name": "LayoutView",
       "align_content": null,
       "align_items": null,
       "align_self": null,
       "border_bottom": null,
       "border_left": null,
       "border_right": null,
       "border_top": null,
       "bottom": null,
       "display": null,
       "flex": null,
       "flex_flow": null,
       "grid_area": null,
       "grid_auto_columns": null,
       "grid_auto_flow": null,
       "grid_auto_rows": null,
       "grid_column": null,
       "grid_gap": null,
       "grid_row": null,
       "grid_template_areas": null,
       "grid_template_columns": null,
       "grid_template_rows": null,
       "height": null,
       "justify_content": null,
       "justify_items": null,
       "left": null,
       "margin": null,
       "max_height": null,
       "max_width": null,
       "min_height": null,
       "min_width": null,
       "object_fit": null,
       "object_position": null,
       "order": null,
       "overflow": null,
       "padding": null,
       "right": null,
       "top": null,
       "visibility": null,
       "width": "500px"
      }
     }
    },
    "version_major": 2,
    "version_minor": 0
   }
  }
 },
 "nbformat": 4,
 "nbformat_minor": 5
}
