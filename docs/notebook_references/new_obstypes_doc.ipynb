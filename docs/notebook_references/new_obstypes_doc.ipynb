{
 "cells": [
  {
   "cell_type": "markdown",
   "id": "0",
   "metadata": {
    "editable": true,
    "slideshow": {
     "slide_type": ""
    },
    "tags": []
   },
   "source": [
    "# Creating a new observation type"
   ]
  },
  {
   "cell_type": "markdown",
   "id": "1",
   "metadata": {
    "editable": true,
    "slideshow": {
     "slide_type": ""
    },
    "tags": []
   },
   "source": [
    "## Observation types for Datasets\n",
    "The toolkit comes with a set of predefined observation types. Each observation type has a standard-toolkit-unit,\n",
    "this is the unit the toolkit will store and display the values.\n",
    "\n",
    "An overview can be found on [Mapping to the toolkit](./template_doc.html#Mapping to the toolkit) page.\n",
    "\n",
    "Each observation type is represented by an instance of the `metobs_toolkit.Obstype` class.\n",
    "\n",
    "As an example, here is the definition of the temperature observation type:"
   ]
  },
  {
   "cell_type": "code",
   "execution_count": null,
   "id": "2",
   "metadata": {},
   "outputs": [],
   "source": [
    "import metobs_toolkit\n",
    "\n",
    "temperature = metobs_toolkit.Obstype(\n",
    "                      obsname='temp', #The name of the observation type\n",
    "                      std_unit= 'Celsius', #The standard unit\n",
    "                      description=\"2m - temperature\", #A more detailed description (optional)\n",
    "                      unit_aliases={\n",
    "                         # Common units and a list of aliases for them.\n",
    "                          'Celsius': ['celsius', '°C', '°c', 'celcius', 'Celcius'],\n",
    "                          'Kelvin': ['K', 'kelvin'],\n",
    "                          'Fahrenheit': ['fahrenheit']},\n",
    "                         # Conversion schemes for common units to the standard unit.\n",
    "                      unit_conversions={\n",
    "                          'Kelvin': [\"x - 273.15\"], #result is in tlk_std_units (aka Celsius)\n",
    "                          'Fahrenheit' : [\"x-32.0\", \"x/1.8\"]}, # -->execute from left to write  = (x-32)/1.8},\n",
    "                      )\n",
    "\n",
    "temperature"
   ]
  },
  {
   "cell_type": "markdown",
   "id": "3",
   "metadata": {
    "editable": true,
    "slideshow": {
     "slide_type": ""
    },
    "tags": []
   },
   "source": [
    "You can use `Obstype.get_info()` to print out an overview of the observation."
   ]
  },
  {
   "cell_type": "code",
   "execution_count": null,
   "id": "4",
   "metadata": {},
   "outputs": [],
   "source": [
    "temperature.get_info()"
   ]
  },
  {
   "cell_type": "markdown",
   "id": "5",
   "metadata": {
    "editable": true,
    "slideshow": {
     "slide_type": ""
    },
    "tags": []
   },
   "source": [
    "In the same manner, we can create a new observationtype by using the `Dataset.add_new_observationtype()` method."
   ]
  },
  {
   "cell_type": "code",
   "execution_count": null,
   "id": "6",
   "metadata": {},
   "outputs": [],
   "source": [
    "import metobs_toolkit\n",
    "\n",
    "#create a new observation type\n",
    "wind_component_east = metobs_toolkit.Obstype(obsname='wind_u_comp', #The name of the observation type\n",
    "    std_unit= 'm/s', #The standard unit\n",
    "    description=\"2m - u component of the wind (5min averages)\", #A more detailed description (optional)\n",
    "    unit_aliases={\n",
    "        # Common units and a list of aliases for them.\n",
    "        'm/s': ['meter/s']},\n",
    "    # Conversion schemes for common units to the standard unit.\n",
    "    unit_conversions={'km/s': [\"x / 3.6\"]} #result is in tlk_std_units (aka m/s)\n",
    ")\n",
    "\n",
    "wind_component_east.get_info()\n",
    "\n",
    "\n",
    "#add your observation type to a dataset\n",
    "your_dataset = metobs_toolkit.Dataset()\n",
    "your_dataset.add_new_observationtype(Obstype=wind_component_east)"
   ]
  },
  {
   "cell_type": "markdown",
   "id": "7",
   "metadata": {
    "editable": true,
    "slideshow": {
     "slide_type": ""
    },
    "tags": []
   },
   "source": [
    "If you want to add a new unit to an existing observation type you can do so by using the `Dataset.add_new_unit()` method."
   ]
  }
 ],
 "metadata": {
  "language_info": {
   "name": "python"
  }
 },
 "nbformat": 4,
 "nbformat_minor": 5
}
