{
 "cells": [
  {
   "cell_type": "markdown",
   "id": "3b5f4587-e223-49aa-b4e8-8870c684d134",
   "metadata": {
    "editable": true,
    "slideshow": {
     "slide_type": ""
    },
    "tags": []
   },
   "source": [
    "# Creating a new observation type"
   ]
  },
  {
   "cell_type": "markdown",
   "id": "b179e2ee-4cdb-4e7b-bc19-3f83b148b24a",
   "metadata": {
    "editable": true,
    "slideshow": {
     "slide_type": ""
    },
    "tags": []
   },
   "source": [
    "## Observation types for Datasets\n",
    "The toolkit comes with a set of predefined observation types. Each observation type has a standard-toolkit-unit,\n",
    "this is the unit the toolkit will store and display the values.\n",
    "\n",
    "An overview can be found on [Mapping to the toolkit](./template_doc.html#Mapping to the toolkit) page.\n",
    "\n",
    "Each observation type is represented by an instance of the `metobs_toolkit.Obstype` class.\n",
    "\n",
    "As an example, here is the definition of the temperature observation type:"
   ]
  },
  {
   "cell_type": "code",
   "execution_count": 1,
   "id": "bb6b20b8-c9f8-4b4d-8dcf-7e28964959b8",
   "metadata": {
    "editable": true,
    "execution": {
     "iopub.execute_input": "2024-09-10T12:10:52.348548Z",
     "iopub.status.busy": "2024-09-10T12:10:52.347265Z",
     "iopub.status.idle": "2024-09-10T12:10:54.803450Z",
     "shell.execute_reply": "2024-09-10T12:10:54.802618Z"
    },
    "slideshow": {
     "slide_type": ""
    },
    "tags": []
   },
   "outputs": [
    {
     "data": {
      "text/plain": [
       "Obstype instance of temp"
      ]
     },
     "execution_count": 1,
     "metadata": {},
     "output_type": "execute_result"
    }
   ],
   "source": [
    "import metobs_toolkit\n",
    "\n",
    "temperature = metobs_toolkit.Obstype(\n",
    "                      obsname='temp', #The name of the observation type\n",
    "                      std_unit= 'Celsius', #The standard unit\n",
    "                      description=\"2m - temperature\", #A more detailed description (optional)\n",
    "                      unit_aliases={\n",
    "                         # Common units and a list of aliases for them.\n",
    "                          'Celsius': ['celsius', '°C', '°c', 'celcius', 'Celcius'],\n",
    "                          'Kelvin': ['K', 'kelvin'],\n",
    "                          'Fahrenheit': ['fahrenheit']},\n",
    "                         # Conversion schemes for common units to the standard unit.\n",
    "                      unit_conversions={\n",
    "                          'Kelvin': [\"x - 273.15\"], #result is in tlk_std_units (aka Celsius)\n",
    "                          'Fahrenheit' : [\"x-32.0\", \"x/1.8\"]}, # -->execute from left to write  = (x-32)/1.8},\n",
    "                      )\n",
    "\n",
    "temperature"
   ]
  },
  {
   "cell_type": "markdown",
   "id": "c7189716-7560-42ec-b581-76a16015b008",
   "metadata": {
    "editable": true,
    "slideshow": {
     "slide_type": ""
    },
    "tags": []
   },
   "source": [
    "You can use `Obstype.get_info()` to print out an overview of the observation."
   ]
  },
  {
   "cell_type": "code",
   "execution_count": 2,
   "id": "814834f9-77bb-4dd4-b74a-42e5cc0a942c",
   "metadata": {
    "editable": true,
    "execution": {
     "iopub.execute_input": "2024-09-10T12:10:54.808128Z",
     "iopub.status.busy": "2024-09-10T12:10:54.807496Z",
     "iopub.status.idle": "2024-09-10T12:10:54.814145Z",
     "shell.execute_reply": "2024-09-10T12:10:54.813507Z"
    },
    "slideshow": {
     "slide_type": ""
    },
    "tags": []
   },
   "outputs": [
    {
     "data": {
      "text/html": [
       "\n",
       "            <style>\n",
       "                .geemap-dark {\n",
       "                    --jp-widgets-color: white;\n",
       "                    --jp-widgets-label-color: white;\n",
       "                    --jp-ui-font-color1: white;\n",
       "                    --jp-layout-color2: #454545;\n",
       "                    background-color: #383838;\n",
       "                }\n",
       "\n",
       "                .geemap-dark .jupyter-button {\n",
       "                    --jp-layout-color3: #383838;\n",
       "                }\n",
       "\n",
       "                .geemap-colab {\n",
       "                    background-color: var(--colab-primary-surface-color, white);\n",
       "                }\n",
       "\n",
       "                .geemap-colab .jupyter-button {\n",
       "                    --jp-layout-color3: var(--colab-primary-surface-color, white);\n",
       "                }\n",
       "            </style>\n",
       "            "
      ],
      "text/plain": [
       "<IPython.core.display.HTML object>"
      ]
     },
     "metadata": {},
     "output_type": "display_data"
    },
    {
     "name": "stdout",
     "output_type": "stream",
     "text": [
      "temp observation with: \n",
      "     * standard unit: Celsius \n",
      "     * data column as None in None \n",
      "     * known units and aliases: {'Celsius': ['celsius', '°C', '°c', 'celcius', 'Celcius'], 'Kelvin': ['K', 'kelvin'], 'Fahrenheit': ['fahrenheit']} \n",
      "     * description: 2m - temperature \n",
      "     * conversions to known units: {'Kelvin': ['x - 273.15'], 'Fahrenheit': ['x-32.0', 'x/1.8']} \n",
      "     * originates from data column: None with None as native unit.\n"
     ]
    }
   ],
   "source": [
    "temperature.get_info()"
   ]
  },
  {
   "cell_type": "markdown",
   "id": "7ec5361f-8644-408a-b211-6f1203e405bd",
   "metadata": {
    "editable": true,
    "slideshow": {
     "slide_type": ""
    },
    "tags": []
   },
   "source": [
    "In the same manner, we can create a new observationtype by using the `Dataset.add_new_observationtype()` method."
   ]
  },
  {
   "cell_type": "code",
   "execution_count": 3,
   "id": "c6dee268-0f7b-49c3-b151-aad61582dd6c",
   "metadata": {
    "editable": true,
    "execution": {
     "iopub.execute_input": "2024-09-10T12:10:54.819084Z",
     "iopub.status.busy": "2024-09-10T12:10:54.818759Z",
     "iopub.status.idle": "2024-09-10T12:10:54.830738Z",
     "shell.execute_reply": "2024-09-10T12:10:54.829994Z"
    },
    "slideshow": {
     "slide_type": ""
    },
    "tags": []
   },
   "outputs": [
    {
     "data": {
      "text/html": [
       "\n",
       "            <style>\n",
       "                .geemap-dark {\n",
       "                    --jp-widgets-color: white;\n",
       "                    --jp-widgets-label-color: white;\n",
       "                    --jp-ui-font-color1: white;\n",
       "                    --jp-layout-color2: #454545;\n",
       "                    background-color: #383838;\n",
       "                }\n",
       "\n",
       "                .geemap-dark .jupyter-button {\n",
       "                    --jp-layout-color3: #383838;\n",
       "                }\n",
       "\n",
       "                .geemap-colab {\n",
       "                    background-color: var(--colab-primary-surface-color, white);\n",
       "                }\n",
       "\n",
       "                .geemap-colab .jupyter-button {\n",
       "                    --jp-layout-color3: var(--colab-primary-surface-color, white);\n",
       "                }\n",
       "            </style>\n",
       "            "
      ],
      "text/plain": [
       "<IPython.core.display.HTML object>"
      ]
     },
     "metadata": {},
     "output_type": "display_data"
    },
    {
     "name": "stdout",
     "output_type": "stream",
     "text": [
      "wind_u_comp observation with: \n",
      "     * standard unit: m/s \n",
      "     * data column as None in None \n",
      "     * known units and aliases: {'m/s': ['meter/s'], 'km/s': []} \n",
      "     * description: 2m - u component of the wind (5min averages) \n",
      "     * conversions to known units: {'km/s': ['x / 3.6']} \n",
      "     * originates from data column: None with None as native unit.\n"
     ]
    }
   ],
   "source": [
    "import metobs_toolkit\n",
    "\n",
    "#create a new observation type\n",
    "wind_component_east = metobs_toolkit.Obstype(obsname='wind_u_comp', #The name of the observation type\n",
    "    std_unit= 'm/s', #The standard unit\n",
    "    description=\"2m - u component of the wind (5min averages)\", #A more detailed description (optional)\n",
    "    unit_aliases={\n",
    "        # Common units and a list of aliases for them.\n",
    "        'm/s': ['meter/s']},\n",
    "    # Conversion schemes for common units to the standard unit.\n",
    "    unit_conversions={'km/s': [\"x / 3.6\"]} #result is in tlk_std_units (aka m/s)\n",
    ")\n",
    "\n",
    "wind_component_east.get_info()\n",
    "\n",
    "\n",
    "#add your observation type to a dataset\n",
    "your_dataset = metobs_toolkit.Dataset()\n",
    "your_dataset.add_new_observationtype(Obstype=wind_component_east)"
   ]
  },
  {
   "cell_type": "markdown",
   "id": "79519495-e4d9-4162-8569-3d7e25ec0e17",
   "metadata": {
    "editable": true,
    "slideshow": {
     "slide_type": ""
    },
    "tags": []
   },
   "source": [
    "If you want to add a new unit to an existing observation type you can do so by using the `Dataset.add_new_unit()` method."
   ]
  }
 ],
 "metadata": {
  "kernelspec": {
   "display_name": "Python 3 (ipykernel)",
   "language": "python",
   "name": "python3"
  },
  "language_info": {
   "codemirror_mode": {
    "name": "ipython",
    "version": 3
   },
   "file_extension": ".py",
   "mimetype": "text/x-python",
   "name": "python",
   "nbconvert_exporter": "python",
   "pygments_lexer": "ipython3",
   "version": "3.10.14"
  },
  "widgets": {
   "application/vnd.jupyter.widget-state+json": {
    "state": {
     "66d2bd5d87a74193b9ee42f22a7cdd1c": {
      "model_module": "@jupyter-widgets/base",
      "model_module_version": "2.0.0",
      "model_name": "LayoutModel",
      "state": {
       "_model_module": "@jupyter-widgets/base",
       "_model_module_version": "2.0.0",
       "_model_name": "LayoutModel",
       "_view_count": null,
       "_view_module": "@jupyter-widgets/base",
       "_view_module_version": "2.0.0",
       "_view_name": "LayoutView",
       "align_content": null,
       "align_items": null,
       "align_self": null,
       "border_bottom": null,
       "border_left": null,
       "border_right": null,
       "border_top": null,
       "bottom": null,
       "display": null,
       "flex": null,
       "flex_flow": null,
       "grid_area": null,
       "grid_auto_columns": null,
       "grid_auto_flow": null,
       "grid_auto_rows": null,
       "grid_column": null,
       "grid_gap": null,
       "grid_row": null,
       "grid_template_areas": null,
       "grid_template_columns": null,
       "grid_template_rows": null,
       "height": null,
       "justify_content": null,
       "justify_items": null,
       "left": null,
       "margin": null,
       "max_height": null,
       "max_width": null,
       "min_height": null,
       "min_width": null,
       "object_fit": null,
       "object_position": null,
       "order": null,
       "overflow": null,
       "padding": null,
       "right": null,
       "top": null,
       "visibility": null,
       "width": "500px"
      }
     }
    },
    "version_major": 2,
    "version_minor": 0
   }
  }
 },
 "nbformat": 4,
 "nbformat_minor": 5
}
